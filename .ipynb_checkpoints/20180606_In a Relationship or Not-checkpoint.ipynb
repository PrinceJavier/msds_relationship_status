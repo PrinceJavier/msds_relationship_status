{
 "cells": [
  {
   "cell_type": "markdown",
   "metadata": {},
   "source": [
    "# Machine Learning: In a Relationship or Not?"
   ]
  },
  {
   "cell_type": "markdown",
   "metadata": {},
   "source": [
    "Prince Joseph Erneszer Javier"
   ]
  },
  {
   "cell_type": "markdown",
   "metadata": {},
   "source": [
    "## Executive Summary"
   ]
  },
  {
   "cell_type": "markdown",
   "metadata": {},
   "source": [
    "An online survey was conducted on Asian Institute of Management's MSc Data Science students. 42 students were asked a total of 46 questions, one of which is the student's relationship status broken down into: not in a relationship, in a relationship, or in a complicated relationship.\n",
    "\n",
    "The problem being tackled here, is whether a k Nearest Neighbors Classifier will be able to predict with good accuracy a student's relationship status based on the 45 other questions.\n",
    "\n",
    "We found out that the single best predictor for a student's relationship status is how many times per month that person goes out with the special other, as we should expect. The accuracy obtained using this predictor alone is 85% at 5 nearest neighbors, which is much higher than the minimum target of 60%.\n",
    "\n",
    "A close second predictor (which lowers the accuracy when used with the first predictor) is `Average amount of bills paid for mobile used`, which predicts the target with 73% accuracy at 18 nearest neighbors. It might be possible that those in a relationship spend more time calling their loved ones and thus incur more mobile costs."
   ]
  },
  {
   "cell_type": "markdown",
   "metadata": {},
   "source": [
    "## Data Description"
   ]
  },
  {
   "cell_type": "markdown",
   "metadata": {},
   "source": [
    "Data were collected from an online survey of 42 MSc Data Science students at the Asian Institute of Management, Makati, Philippines. \n",
    "\n",
    "The questions were:\n",
    "\n",
    "1. Number of movies you watched from cinema in the last two weeks\n",
    "* Number of movies you watched from home in the last two weeks\n",
    "* Average Cups of coffee consumed per day\n",
    "* Average amount of bills paid for mobile used\n",
    "* Average number of posts in social media per week\n",
    "* In  a relationship (Yes ,  No,  it’s complicated)\n",
    "* How old are you?\n",
    "* Male or female? (pls type M or F)\n",
    "* What is your height in cm?\n",
    "* What is your weight in kg?\n",
    "* What is your waist size in inches?\n",
    "* What is your favorite color?\n",
    "* What is your favorite number, from 0 to 9?\n",
    "* Are you predominantly right handed or left handed? (pls type R or L)\n",
    "* What is your favorite car brand? Toyota, Honda, Hyundai, * BMW, Mercedes, etc.\n",
    "* How many cars have you owned in your life?\n",
    "* What phone network do you use? Globe, Smart, Sun, etc.\n",
    "* What phone brand do you use? Samsung, Apple, Vivo, Huawei, Sony, etc.\n",
    "* How many years do you use your phone before replacing it?\n",
    "* How many cities have you lived in? (Must have lived more than 1 year)\n",
    "* How many siblings are you in the family? (not counting half siblings)\n",
    "* What is your favorite sport? Basketball, football, volleyball, tennis, etc.\n",
    "* What browser do you prefer? Chrome, IE, Firefox, Safari\n",
    "* How many functioning shoes do you own currently?\n",
    "* What is your blood type? O A B AB\n",
    "* How many countries have you visited?\n",
    "* How many provinces in the Philippines have you visited?\n",
    "* Where is your ideal city to live in?\n",
    "* How many times in a month do you go to the mall?\n",
    "* What is your favorite mall? SM, Ayala, Robinsons, Rustan’s, etc.\n",
    "* What is your favorite fastfood place?\n",
    "* What is your favorite meat to eat? Chicken, pork, beef, fish, etc.\n",
    "* How many times in a month do you eat in Jollibee?\n",
    "* How many times in a week do you cook at home?\n",
    "* How many times in a month do you go out with your s.o.?\n",
    "* How many movies do you see inside a theater in a year?\n",
    "* How many years in your life have you been a smoker?\n",
    "* How many beers can you drink in one night?\n",
    "* How many pizzas can you eat in one sitting?\n",
    "* How many times do you buy coffee in a week?\n",
    "* How many Facebook friends do you have? (In hundreds, e.g. 1100)\n",
    "* How many partners have you had?\n",
    "* What kind of songs do you usually listen to? Pop, hip-hop, R&B, alternative, rock, classical, country, jazz, etc.\n",
    "* How many songs do you know the lyrics to?\n",
    "* What do you think your grade in this class will be?\n",
    "* What age do you think you will live to?"
   ]
  },
  {
   "cell_type": "markdown",
   "metadata": {},
   "source": [
    "## Exploratory Data Analysis"
   ]
  },
  {
   "cell_type": "markdown",
   "metadata": {},
   "source": []
  },
  {
   "cell_type": "markdown",
   "metadata": {},
   "source": [
    "#### Importing Packages"
   ]
  },
  {
   "cell_type": "code",
   "execution_count": 1,
   "metadata": {},
   "outputs": [],
   "source": [
    "import numpy as np\n",
    "import matplotlib.pyplot as plt\n",
    "% matplotlib inline\n",
    "import seaborn as sns\n",
    "import pandas as pd"
   ]
  },
  {
   "cell_type": "markdown",
   "metadata": {},
   "source": [
    "#### Importing Data"
   ]
  },
  {
   "cell_type": "markdown",
   "metadata": {},
   "source": [
    "Let's first load the csv file as a table."
   ]
  },
  {
   "cell_type": "code",
   "execution_count": 2,
   "metadata": {},
   "outputs": [],
   "source": [
    "df = pd.read_csv('ACS-ML Data.csv')"
   ]
  },
  {
   "cell_type": "markdown",
   "metadata": {},
   "source": [
    "#### Cleaning the Data"
   ]
  },
  {
   "cell_type": "markdown",
   "metadata": {},
   "source": [
    "Let's check the columns and the entries. "
   ]
  },
  {
   "cell_type": "code",
   "execution_count": 3,
   "metadata": {},
   "outputs": [
    {
     "data": {
      "text/html": [
       "<div>\n",
       "<style scoped>\n",
       "    .dataframe tbody tr th:only-of-type {\n",
       "        vertical-align: middle;\n",
       "    }\n",
       "\n",
       "    .dataframe tbody tr th {\n",
       "        vertical-align: top;\n",
       "    }\n",
       "\n",
       "    .dataframe thead th {\n",
       "        text-align: right;\n",
       "    }\n",
       "</style>\n",
       "<table border=\"1\" class=\"dataframe\">\n",
       "  <thead>\n",
       "    <tr style=\"text-align: right;\">\n",
       "      <th></th>\n",
       "      <th>Number of movies you watched from cinema in the last two weeks</th>\n",
       "      <th>Number of movies you watched from home in the last two weeks</th>\n",
       "      <th>Average Cups of coffee consumed per day</th>\n",
       "      <th>Average amount of bills paid for mobile used</th>\n",
       "      <th>Average number of posts in social media per week</th>\n",
       "      <th>In  a relationship (Yes ,  No,  it’s complicated)</th>\n",
       "      <th>How old are you?</th>\n",
       "      <th>Male or female? (pls type M or F)</th>\n",
       "      <th>What is your height in cm?</th>\n",
       "      <th>What is your weight in kg?</th>\n",
       "      <th>...</th>\n",
       "      <th>How many years in your life have you been a smoker?</th>\n",
       "      <th>How many beers can you drink in one night?</th>\n",
       "      <th>How many pizzas can you eat in one sitting?</th>\n",
       "      <th>How many times do you buy coffee in a week?</th>\n",
       "      <th>How many Facebook friends do you have? (In hundreds, e.g. 1100)</th>\n",
       "      <th>How many partners have you had?</th>\n",
       "      <th>What kind of songs do you usually listen to? Pop, hip-hop, R&amp;B, alternative, rock, classical, country, jazz, etc.</th>\n",
       "      <th>How many songs do you know the lyrics to?</th>\n",
       "      <th>What do you think your grade in this class will be?</th>\n",
       "      <th>What age do you think you will live to?</th>\n",
       "    </tr>\n",
       "  </thead>\n",
       "  <tbody>\n",
       "    <tr>\n",
       "      <th>0</th>\n",
       "      <td>0.0</td>\n",
       "      <td>0.0</td>\n",
       "      <td>0.0</td>\n",
       "      <td>1799</td>\n",
       "      <td>1.0</td>\n",
       "      <td>Yes</td>\n",
       "      <td>30.0</td>\n",
       "      <td>M</td>\n",
       "      <td>168</td>\n",
       "      <td>67</td>\n",
       "      <td>...</td>\n",
       "      <td>0</td>\n",
       "      <td>1</td>\n",
       "      <td>3</td>\n",
       "      <td>0.0</td>\n",
       "      <td>933.0</td>\n",
       "      <td>4.0</td>\n",
       "      <td>EDM</td>\n",
       "      <td>5</td>\n",
       "      <td>5</td>\n",
       "      <td>128.0</td>\n",
       "    </tr>\n",
       "    <tr>\n",
       "      <th>1</th>\n",
       "      <td>NaN</td>\n",
       "      <td>NaN</td>\n",
       "      <td>NaN</td>\n",
       "      <td>NaN</td>\n",
       "      <td>NaN</td>\n",
       "      <td>NaN</td>\n",
       "      <td>29.0</td>\n",
       "      <td>F</td>\n",
       "      <td>160</td>\n",
       "      <td>62</td>\n",
       "      <td>...</td>\n",
       "      <td>0</td>\n",
       "      <td>1</td>\n",
       "      <td>3 slices</td>\n",
       "      <td>6.0</td>\n",
       "      <td>700.0</td>\n",
       "      <td>0.0</td>\n",
       "      <td>pop, jazz, rock, classical, R&amp;B</td>\n",
       "      <td>30</td>\n",
       "      <td>4.5</td>\n",
       "      <td>90.0</td>\n",
       "    </tr>\n",
       "  </tbody>\n",
       "</table>\n",
       "<p>2 rows × 46 columns</p>\n",
       "</div>"
      ],
      "text/plain": [
       "   Number of movies you watched from cinema in the last two weeks  \\\n",
       "0                                                0.0                \n",
       "1                                                NaN                \n",
       "\n",
       "   Number of movies you watched from home in the last two weeks  \\\n",
       "0                                                0.0              \n",
       "1                                                NaN              \n",
       "\n",
       "   Average Cups of coffee consumed per day  \\\n",
       "0                                      0.0   \n",
       "1                                      NaN   \n",
       "\n",
       "  Average amount of bills paid for mobile used  \\\n",
       "0                                         1799   \n",
       "1                                          NaN   \n",
       "\n",
       "   Average number of posts in social media per week  \\\n",
       "0                                               1.0   \n",
       "1                                               NaN   \n",
       "\n",
       "  In  a relationship (Yes ,  No,  it’s complicated)  How old are you?  \\\n",
       "0                                               Yes              30.0   \n",
       "1                                               NaN              29.0   \n",
       "\n",
       "  Male or female? (pls type M or F) What is your height in cm?  \\\n",
       "0                                 M                        168   \n",
       "1                                 F                        160   \n",
       "\n",
       "  What is your weight in kg?                   ...                     \\\n",
       "0                         67                   ...                      \n",
       "1                         62                   ...                      \n",
       "\n",
       "   How many years in your life have you been a smoker?  \\\n",
       "0                                                  0     \n",
       "1                                                  0     \n",
       "\n",
       "  How many beers can you drink in one night?  \\\n",
       "0                                          1   \n",
       "1                                          1   \n",
       "\n",
       "   How many pizzas can you eat in one sitting?  \\\n",
       "0                                            3   \n",
       "1                                     3 slices   \n",
       "\n",
       "  How many times do you buy coffee in a week?  \\\n",
       "0                                         0.0   \n",
       "1                                         6.0   \n",
       "\n",
       "  How many Facebook friends do you have? (In hundreds, e.g. 1100)  \\\n",
       "0                                              933.0                \n",
       "1                                              700.0                \n",
       "\n",
       "   How many partners have you had?  \\\n",
       "0                              4.0   \n",
       "1                              0.0   \n",
       "\n",
       "  What kind of songs do you usually listen to? Pop, hip-hop, R&B, alternative, rock, classical, country, jazz, etc.  \\\n",
       "0                                                EDM                                                                  \n",
       "1                    pop, jazz, rock, classical, R&B                                                                  \n",
       "\n",
       "  How many songs do you know the lyrics to?  \\\n",
       "0                                         5   \n",
       "1                                        30   \n",
       "\n",
       "  What do you think your grade in this class will be?  \\\n",
       "0                                                  5    \n",
       "1                                                4.5    \n",
       "\n",
       "   What age do you think you will live to?  \n",
       "0                                    128.0  \n",
       "1                                     90.0  \n",
       "\n",
       "[2 rows x 46 columns]"
      ]
     },
     "execution_count": 3,
     "metadata": {},
     "output_type": "execute_result"
    }
   ],
   "source": [
    "df.head(2)"
   ]
  },
  {
   "cell_type": "code",
   "execution_count": 4,
   "metadata": {},
   "outputs": [
    {
     "data": {
      "text/html": [
       "<div>\n",
       "<style scoped>\n",
       "    .dataframe tbody tr th:only-of-type {\n",
       "        vertical-align: middle;\n",
       "    }\n",
       "\n",
       "    .dataframe tbody tr th {\n",
       "        vertical-align: top;\n",
       "    }\n",
       "\n",
       "    .dataframe thead th {\n",
       "        text-align: right;\n",
       "    }\n",
       "</style>\n",
       "<table border=\"1\" class=\"dataframe\">\n",
       "  <thead>\n",
       "    <tr style=\"text-align: right;\">\n",
       "      <th></th>\n",
       "      <th>Number of movies you watched from cinema in the last two weeks</th>\n",
       "      <th>Number of movies you watched from home in the last two weeks</th>\n",
       "      <th>Average Cups of coffee consumed per day</th>\n",
       "      <th>Average amount of bills paid for mobile used</th>\n",
       "      <th>Average number of posts in social media per week</th>\n",
       "      <th>In  a relationship (Yes ,  No,  it’s complicated)</th>\n",
       "      <th>How old are you?</th>\n",
       "      <th>Male or female? (pls type M or F)</th>\n",
       "      <th>What is your height in cm?</th>\n",
       "      <th>What is your weight in kg?</th>\n",
       "      <th>...</th>\n",
       "      <th>How many years in your life have you been a smoker?</th>\n",
       "      <th>How many beers can you drink in one night?</th>\n",
       "      <th>How many pizzas can you eat in one sitting?</th>\n",
       "      <th>How many times do you buy coffee in a week?</th>\n",
       "      <th>How many Facebook friends do you have? (In hundreds, e.g. 1100)</th>\n",
       "      <th>How many partners have you had?</th>\n",
       "      <th>What kind of songs do you usually listen to? Pop, hip-hop, R&amp;B, alternative, rock, classical, country, jazz, etc.</th>\n",
       "      <th>How many songs do you know the lyrics to?</th>\n",
       "      <th>What do you think your grade in this class will be?</th>\n",
       "      <th>What age do you think you will live to?</th>\n",
       "    </tr>\n",
       "  </thead>\n",
       "  <tbody>\n",
       "    <tr>\n",
       "      <th>40</th>\n",
       "      <td>0.0</td>\n",
       "      <td>0.0</td>\n",
       "      <td>1.0</td>\n",
       "      <td>1400</td>\n",
       "      <td>1.0</td>\n",
       "      <td>It's complicated</td>\n",
       "      <td>27.0</td>\n",
       "      <td>M</td>\n",
       "      <td>171</td>\n",
       "      <td>67</td>\n",
       "      <td>...</td>\n",
       "      <td>0</td>\n",
       "      <td>5</td>\n",
       "      <td>1</td>\n",
       "      <td>1.0</td>\n",
       "      <td>1627.0</td>\n",
       "      <td>4.0</td>\n",
       "      <td>Country</td>\n",
       "      <td>100</td>\n",
       "      <td>5</td>\n",
       "      <td>100.0</td>\n",
       "    </tr>\n",
       "    <tr>\n",
       "      <th>41</th>\n",
       "      <td>0.0</td>\n",
       "      <td>1.0</td>\n",
       "      <td>0.0</td>\n",
       "      <td>3500</td>\n",
       "      <td>4.0</td>\n",
       "      <td>Yes</td>\n",
       "      <td>37.0</td>\n",
       "      <td>M</td>\n",
       "      <td>163</td>\n",
       "      <td>65</td>\n",
       "      <td>...</td>\n",
       "      <td>0</td>\n",
       "      <td>0</td>\n",
       "      <td>0</td>\n",
       "      <td>0.0</td>\n",
       "      <td>400.0</td>\n",
       "      <td>1.0</td>\n",
       "      <td>R&amp;D</td>\n",
       "      <td>3</td>\n",
       "      <td>4.5</td>\n",
       "      <td>90.0</td>\n",
       "    </tr>\n",
       "    <tr>\n",
       "      <th>42</th>\n",
       "      <td>1.0</td>\n",
       "      <td>4.0</td>\n",
       "      <td>2.0</td>\n",
       "      <td>900</td>\n",
       "      <td>2.0</td>\n",
       "      <td>Yes</td>\n",
       "      <td>38.0</td>\n",
       "      <td>M</td>\n",
       "      <td>165</td>\n",
       "      <td>68</td>\n",
       "      <td>...</td>\n",
       "      <td>1</td>\n",
       "      <td>4</td>\n",
       "      <td>3</td>\n",
       "      <td>2.0</td>\n",
       "      <td>1150.0</td>\n",
       "      <td>6.0</td>\n",
       "      <td>Pop</td>\n",
       "      <td>5</td>\n",
       "      <td>4.75</td>\n",
       "      <td>70.0</td>\n",
       "    </tr>\n",
       "  </tbody>\n",
       "</table>\n",
       "<p>3 rows × 46 columns</p>\n",
       "</div>"
      ],
      "text/plain": [
       "    Number of movies you watched from cinema in the last two weeks  \\\n",
       "40                                                0.0                \n",
       "41                                                0.0                \n",
       "42                                                1.0                \n",
       "\n",
       "    Number of movies you watched from home in the last two weeks  \\\n",
       "40                                                0.0              \n",
       "41                                                1.0              \n",
       "42                                                4.0              \n",
       "\n",
       "    Average Cups of coffee consumed per day  \\\n",
       "40                                      1.0   \n",
       "41                                      0.0   \n",
       "42                                      2.0   \n",
       "\n",
       "   Average amount of bills paid for mobile used  \\\n",
       "40                                         1400   \n",
       "41                                         3500   \n",
       "42                                          900   \n",
       "\n",
       "    Average number of posts in social media per week  \\\n",
       "40                                               1.0   \n",
       "41                                               4.0   \n",
       "42                                               2.0   \n",
       "\n",
       "   In  a relationship (Yes ,  No,  it’s complicated)  How old are you?  \\\n",
       "40                                  It's complicated              27.0   \n",
       "41                                               Yes              37.0   \n",
       "42                                               Yes              38.0   \n",
       "\n",
       "   Male or female? (pls type M or F) What is your height in cm?  \\\n",
       "40                                 M                        171   \n",
       "41                                 M                        163   \n",
       "42                                 M                        165   \n",
       "\n",
       "   What is your weight in kg?                   ...                     \\\n",
       "40                         67                   ...                      \n",
       "41                         65                   ...                      \n",
       "42                         68                   ...                      \n",
       "\n",
       "    How many years in your life have you been a smoker?  \\\n",
       "40                                                  0     \n",
       "41                                                  0     \n",
       "42                                                  1     \n",
       "\n",
       "   How many beers can you drink in one night?  \\\n",
       "40                                          5   \n",
       "41                                          0   \n",
       "42                                          4   \n",
       "\n",
       "    How many pizzas can you eat in one sitting?  \\\n",
       "40                                            1   \n",
       "41                                            0   \n",
       "42                                            3   \n",
       "\n",
       "   How many times do you buy coffee in a week?  \\\n",
       "40                                         1.0   \n",
       "41                                         0.0   \n",
       "42                                         2.0   \n",
       "\n",
       "   How many Facebook friends do you have? (In hundreds, e.g. 1100)  \\\n",
       "40                                             1627.0                \n",
       "41                                              400.0                \n",
       "42                                             1150.0                \n",
       "\n",
       "    How many partners have you had?  \\\n",
       "40                              4.0   \n",
       "41                              1.0   \n",
       "42                              6.0   \n",
       "\n",
       "   What kind of songs do you usually listen to? Pop, hip-hop, R&B, alternative, rock, classical, country, jazz, etc.  \\\n",
       "40                                            Country                                                                  \n",
       "41                                                R&D                                                                  \n",
       "42                                                Pop                                                                  \n",
       "\n",
       "   How many songs do you know the lyrics to?  \\\n",
       "40                                       100   \n",
       "41                                         3   \n",
       "42                                         5   \n",
       "\n",
       "   What do you think your grade in this class will be?  \\\n",
       "40                                                  5    \n",
       "41                                                4.5    \n",
       "42                                               4.75    \n",
       "\n",
       "    What age do you think you will live to?  \n",
       "40                                    100.0  \n",
       "41                                     90.0  \n",
       "42                                     70.0  \n",
       "\n",
       "[3 rows x 46 columns]"
      ]
     },
     "execution_count": 4,
     "metadata": {},
     "output_type": "execute_result"
    }
   ],
   "source": [
    "df.tail(3)"
   ]
  },
  {
   "cell_type": "markdown",
   "metadata": {},
   "source": [
    "It seems there are far more columns than we can see, let's check some information about the dataset. Immediately, we see `NaN` values. We have to clean the dataset."
   ]
  },
  {
   "cell_type": "code",
   "execution_count": 5,
   "metadata": {},
   "outputs": [
    {
     "data": {
      "text/plain": [
       "(43, 46)"
      ]
     },
     "execution_count": 5,
     "metadata": {},
     "output_type": "execute_result"
    }
   ],
   "source": [
    "df.shape"
   ]
  },
  {
   "cell_type": "markdown",
   "metadata": {},
   "source": [
    "The dataset has 46 columns and 43 rows. Let's check how many `NaN`. Or are they text \"NaN\"? Let us check them.\n",
    "\n",
    "For the first five columns, `NaN` will be changed to 0."
   ]
  },
  {
   "cell_type": "code",
   "execution_count": 6,
   "metadata": {},
   "outputs": [],
   "source": [
    "_ = df[:]"
   ]
  },
  {
   "cell_type": "code",
   "execution_count": 7,
   "metadata": {},
   "outputs": [
    {
     "data": {
      "text/html": [
       "<div>\n",
       "<style scoped>\n",
       "    .dataframe tbody tr th:only-of-type {\n",
       "        vertical-align: middle;\n",
       "    }\n",
       "\n",
       "    .dataframe tbody tr th {\n",
       "        vertical-align: top;\n",
       "    }\n",
       "\n",
       "    .dataframe thead th {\n",
       "        text-align: right;\n",
       "    }\n",
       "</style>\n",
       "<table border=\"1\" class=\"dataframe\">\n",
       "  <thead>\n",
       "    <tr style=\"text-align: right;\">\n",
       "      <th></th>\n",
       "      <th>Number of movies you watched from cinema in the last two weeks</th>\n",
       "      <th>Number of movies you watched from home in the last two weeks</th>\n",
       "      <th>Average Cups of coffee consumed per day</th>\n",
       "      <th>Average amount of bills paid for mobile used</th>\n",
       "      <th>Average number of posts in social media per week</th>\n",
       "      <th>In  a relationship (Yes ,  No,  it’s complicated)</th>\n",
       "      <th>How old are you?</th>\n",
       "      <th>Male or female? (pls type M or F)</th>\n",
       "      <th>What is your height in cm?</th>\n",
       "      <th>What is your weight in kg?</th>\n",
       "      <th>...</th>\n",
       "      <th>How many years in your life have you been a smoker?</th>\n",
       "      <th>How many beers can you drink in one night?</th>\n",
       "      <th>How many pizzas can you eat in one sitting?</th>\n",
       "      <th>How many times do you buy coffee in a week?</th>\n",
       "      <th>How many Facebook friends do you have? (In hundreds, e.g. 1100)</th>\n",
       "      <th>How many partners have you had?</th>\n",
       "      <th>What kind of songs do you usually listen to? Pop, hip-hop, R&amp;B, alternative, rock, classical, country, jazz, etc.</th>\n",
       "      <th>How many songs do you know the lyrics to?</th>\n",
       "      <th>What do you think your grade in this class will be?</th>\n",
       "      <th>What age do you think you will live to?</th>\n",
       "    </tr>\n",
       "  </thead>\n",
       "  <tbody>\n",
       "    <tr>\n",
       "      <th>0</th>\n",
       "      <td>0.0</td>\n",
       "      <td>0.0</td>\n",
       "      <td>0.0</td>\n",
       "      <td>1799</td>\n",
       "      <td>1.0</td>\n",
       "      <td>Yes</td>\n",
       "      <td>30.0</td>\n",
       "      <td>M</td>\n",
       "      <td>168</td>\n",
       "      <td>67</td>\n",
       "      <td>...</td>\n",
       "      <td>0</td>\n",
       "      <td>1</td>\n",
       "      <td>3</td>\n",
       "      <td>0.0</td>\n",
       "      <td>933.0</td>\n",
       "      <td>4.0</td>\n",
       "      <td>EDM</td>\n",
       "      <td>5</td>\n",
       "      <td>5</td>\n",
       "      <td>128.0</td>\n",
       "    </tr>\n",
       "    <tr>\n",
       "      <th>1</th>\n",
       "      <td>0.0</td>\n",
       "      <td>0.0</td>\n",
       "      <td>0.0</td>\n",
       "      <td>0</td>\n",
       "      <td>0.0</td>\n",
       "      <td>NaN</td>\n",
       "      <td>29.0</td>\n",
       "      <td>F</td>\n",
       "      <td>160</td>\n",
       "      <td>62</td>\n",
       "      <td>...</td>\n",
       "      <td>0</td>\n",
       "      <td>1</td>\n",
       "      <td>3 slices</td>\n",
       "      <td>6.0</td>\n",
       "      <td>700.0</td>\n",
       "      <td>0.0</td>\n",
       "      <td>pop, jazz, rock, classical, R&amp;B</td>\n",
       "      <td>30</td>\n",
       "      <td>4.5</td>\n",
       "      <td>90.0</td>\n",
       "    </tr>\n",
       "    <tr>\n",
       "      <th>2</th>\n",
       "      <td>0.0</td>\n",
       "      <td>0.0</td>\n",
       "      <td>0.0</td>\n",
       "      <td>800</td>\n",
       "      <td>0.0</td>\n",
       "      <td>Yes</td>\n",
       "      <td>33.0</td>\n",
       "      <td>M</td>\n",
       "      <td>177</td>\n",
       "      <td>150</td>\n",
       "      <td>...</td>\n",
       "      <td>0</td>\n",
       "      <td>6</td>\n",
       "      <td>4</td>\n",
       "      <td>0.0</td>\n",
       "      <td>800.0</td>\n",
       "      <td>5.0</td>\n",
       "      <td>Rock</td>\n",
       "      <td>10</td>\n",
       "      <td>5</td>\n",
       "      <td>82.0</td>\n",
       "    </tr>\n",
       "  </tbody>\n",
       "</table>\n",
       "<p>3 rows × 46 columns</p>\n",
       "</div>"
      ],
      "text/plain": [
       "   Number of movies you watched from cinema in the last two weeks  \\\n",
       "0                                                0.0                \n",
       "1                                                0.0                \n",
       "2                                                0.0                \n",
       "\n",
       "   Number of movies you watched from home in the last two weeks  \\\n",
       "0                                                0.0              \n",
       "1                                                0.0              \n",
       "2                                                0.0              \n",
       "\n",
       "   Average Cups of coffee consumed per day  \\\n",
       "0                                      0.0   \n",
       "1                                      0.0   \n",
       "2                                      0.0   \n",
       "\n",
       "  Average amount of bills paid for mobile used  \\\n",
       "0                                         1799   \n",
       "1                                            0   \n",
       "2                                          800   \n",
       "\n",
       "   Average number of posts in social media per week  \\\n",
       "0                                               1.0   \n",
       "1                                               0.0   \n",
       "2                                               0.0   \n",
       "\n",
       "  In  a relationship (Yes ,  No,  it’s complicated)  How old are you?  \\\n",
       "0                                               Yes              30.0   \n",
       "1                                               NaN              29.0   \n",
       "2                                               Yes              33.0   \n",
       "\n",
       "  Male or female? (pls type M or F) What is your height in cm?  \\\n",
       "0                                 M                        168   \n",
       "1                                 F                        160   \n",
       "2                                 M                        177   \n",
       "\n",
       "  What is your weight in kg?                   ...                     \\\n",
       "0                         67                   ...                      \n",
       "1                         62                   ...                      \n",
       "2                        150                   ...                      \n",
       "\n",
       "   How many years in your life have you been a smoker?  \\\n",
       "0                                                  0     \n",
       "1                                                  0     \n",
       "2                                                  0     \n",
       "\n",
       "  How many beers can you drink in one night?  \\\n",
       "0                                          1   \n",
       "1                                          1   \n",
       "2                                          6   \n",
       "\n",
       "   How many pizzas can you eat in one sitting?  \\\n",
       "0                                            3   \n",
       "1                                     3 slices   \n",
       "2                                            4   \n",
       "\n",
       "  How many times do you buy coffee in a week?  \\\n",
       "0                                         0.0   \n",
       "1                                         6.0   \n",
       "2                                         0.0   \n",
       "\n",
       "  How many Facebook friends do you have? (In hundreds, e.g. 1100)  \\\n",
       "0                                              933.0                \n",
       "1                                              700.0                \n",
       "2                                              800.0                \n",
       "\n",
       "   How many partners have you had?  \\\n",
       "0                              4.0   \n",
       "1                              0.0   \n",
       "2                              5.0   \n",
       "\n",
       "  What kind of songs do you usually listen to? Pop, hip-hop, R&B, alternative, rock, classical, country, jazz, etc.  \\\n",
       "0                                                EDM                                                                  \n",
       "1                    pop, jazz, rock, classical, R&B                                                                  \n",
       "2                                               Rock                                                                  \n",
       "\n",
       "  How many songs do you know the lyrics to?  \\\n",
       "0                                         5   \n",
       "1                                        30   \n",
       "2                                        10   \n",
       "\n",
       "  What do you think your grade in this class will be?  \\\n",
       "0                                                  5    \n",
       "1                                                4.5    \n",
       "2                                                  5    \n",
       "\n",
       "   What age do you think you will live to?  \n",
       "0                                    128.0  \n",
       "1                                     90.0  \n",
       "2                                     82.0  \n",
       "\n",
       "[3 rows x 46 columns]"
      ]
     },
     "execution_count": 7,
     "metadata": {},
     "output_type": "execute_result"
    }
   ],
   "source": [
    "_.iloc[:, 0:5] = _.iloc[:, 0:5].fillna(value=0)\n",
    "_.head(3)"
   ]
  },
  {
   "cell_type": "markdown",
   "metadata": {},
   "source": [
    "Let's check columns 6 to 15."
   ]
  },
  {
   "cell_type": "code",
   "execution_count": 8,
   "metadata": {},
   "outputs": [
    {
     "data": {
      "text/html": [
       "<div>\n",
       "<style scoped>\n",
       "    .dataframe tbody tr th:only-of-type {\n",
       "        vertical-align: middle;\n",
       "    }\n",
       "\n",
       "    .dataframe tbody tr th {\n",
       "        vertical-align: top;\n",
       "    }\n",
       "\n",
       "    .dataframe thead th {\n",
       "        text-align: right;\n",
       "    }\n",
       "</style>\n",
       "<table border=\"1\" class=\"dataframe\">\n",
       "  <thead>\n",
       "    <tr style=\"text-align: right;\">\n",
       "      <th></th>\n",
       "      <th>How old are you?</th>\n",
       "      <th>Male or female? (pls type M or F)</th>\n",
       "      <th>What is your height in cm?</th>\n",
       "      <th>What is your weight in kg?</th>\n",
       "      <th>What is your waist size in inches?</th>\n",
       "      <th>What is your favorite color?</th>\n",
       "      <th>What is your favorite number, from 0 to 9?</th>\n",
       "      <th>Are you predominantly right handed or left handed? (pls type R or L)</th>\n",
       "      <th>What is your favorite car brand? Toyota, Honda, Hyundai, BMW, Mercedes, etc.</th>\n",
       "      <th>How many cars have you owned in your life?</th>\n",
       "    </tr>\n",
       "  </thead>\n",
       "  <tbody>\n",
       "    <tr>\n",
       "      <th>0</th>\n",
       "      <td>30.0</td>\n",
       "      <td>M</td>\n",
       "      <td>168</td>\n",
       "      <td>67</td>\n",
       "      <td>32.0</td>\n",
       "      <td>Red</td>\n",
       "      <td>7.0</td>\n",
       "      <td>L</td>\n",
       "      <td>Hyundai</td>\n",
       "      <td>0.0</td>\n",
       "    </tr>\n",
       "    <tr>\n",
       "      <th>1</th>\n",
       "      <td>29.0</td>\n",
       "      <td>F</td>\n",
       "      <td>160</td>\n",
       "      <td>62</td>\n",
       "      <td>30.0</td>\n",
       "      <td>red</td>\n",
       "      <td>8.0</td>\n",
       "      <td>R</td>\n",
       "      <td>none</td>\n",
       "      <td>0.0</td>\n",
       "    </tr>\n",
       "    <tr>\n",
       "      <th>2</th>\n",
       "      <td>33.0</td>\n",
       "      <td>M</td>\n",
       "      <td>177</td>\n",
       "      <td>150</td>\n",
       "      <td>32.0</td>\n",
       "      <td>green</td>\n",
       "      <td>1.0</td>\n",
       "      <td>R</td>\n",
       "      <td>Honda</td>\n",
       "      <td>2.0</td>\n",
       "    </tr>\n",
       "  </tbody>\n",
       "</table>\n",
       "</div>"
      ],
      "text/plain": [
       "   How old are you? Male or female? (pls type M or F)  \\\n",
       "0              30.0                                 M   \n",
       "1              29.0                                 F   \n",
       "2              33.0                                 M   \n",
       "\n",
       "  What is your height in cm? What is your weight in kg?  \\\n",
       "0                        168                         67   \n",
       "1                        160                         62   \n",
       "2                        177                        150   \n",
       "\n",
       "   What is your waist size in inches? What is your favorite color?  \\\n",
       "0                                32.0                          Red   \n",
       "1                                30.0                          red   \n",
       "2                                32.0                        green   \n",
       "\n",
       "   What is your favorite number, from 0 to 9?  \\\n",
       "0                                         7.0   \n",
       "1                                         8.0   \n",
       "2                                         1.0   \n",
       "\n",
       "  Are you predominantly right handed or left handed? (pls type R or L)  \\\n",
       "0                                                  L                     \n",
       "1                                                  R                     \n",
       "2                                                  R                     \n",
       "\n",
       "  What is your favorite car brand? Toyota, Honda, Hyundai, BMW, Mercedes, etc.  \\\n",
       "0                                            Hyundai                             \n",
       "1                                               none                             \n",
       "2                                              Honda                             \n",
       "\n",
       "   How many cars have you owned in your life?  \n",
       "0                                         0.0  \n",
       "1                                         0.0  \n",
       "2                                         2.0  "
      ]
     },
     "execution_count": 8,
     "metadata": {},
     "output_type": "execute_result"
    }
   ],
   "source": [
    "_2 = _.iloc[:, 6:16]\n",
    "_2.head(3)"
   ]
  },
  {
   "cell_type": "markdown",
   "metadata": {},
   "source": [
    "Let's check the values in this set of data."
   ]
  },
  {
   "cell_type": "code",
   "execution_count": 9,
   "metadata": {},
   "outputs": [
    {
     "name": "stdout",
     "output_type": "stream",
     "text": [
      "<class 'pandas.core.frame.DataFrame'>\n",
      "RangeIndex: 43 entries, 0 to 42\n",
      "Data columns (total 10 columns):\n",
      "How old are you?                                                                42 non-null float64\n",
      "Male or female? (pls type M or F)                                               42 non-null object\n",
      "What is your height in cm?                                                      42 non-null object\n",
      "What is your weight in kg?                                                      42 non-null object\n",
      "What is your waist size in inches?                                              42 non-null float64\n",
      "What is your favorite color?                                                    42 non-null object\n",
      "What is your favorite number, from 0 to 9?                                      42 non-null float64\n",
      "Are you predominantly right handed or left handed? (pls type R or L)            42 non-null object\n",
      "What is your favorite car brand? Toyota, Honda, Hyundai, BMW, Mercedes, etc.    42 non-null object\n",
      "How many cars have you owned in your life?                                      42 non-null float64\n",
      "dtypes: float64(4), object(6)\n",
      "memory usage: 3.4+ KB\n"
     ]
    }
   ],
   "source": [
    "_2.info()"
   ]
  },
  {
   "cell_type": "code",
   "execution_count": 10,
   "metadata": {},
   "outputs": [
    {
     "data": {
      "text/plain": [
       "<bound method DataFrame.isna of     How old are you? Male or female? (pls type M or F)  \\\n",
       "0               30.0                                 M   \n",
       "1               29.0                                 F   \n",
       "2               33.0                                 M   \n",
       "3               28.0                                 M   \n",
       "4               32.0                                 M   \n",
       "5               36.0                                 F   \n",
       "6               23.0                                 M   \n",
       "7               23.0                                 M   \n",
       "8               22.0                                 F   \n",
       "9               25.0                                 M   \n",
       "10              34.0                                 F   \n",
       "11              25.0                                 M   \n",
       "12              24.0                                 M   \n",
       "13              25.0                                 M   \n",
       "14              52.0                                 M   \n",
       "15              25.0                                 M   \n",
       "16              36.0                                 M   \n",
       "17              33.0                                 M   \n",
       "18              26.0                                 M   \n",
       "19              27.0                                 M   \n",
       "20              37.0                                 M   \n",
       "21              26.0                                 M   \n",
       "22              28.0                                 M   \n",
       "23               NaN                               NaN   \n",
       "24              21.0                                 M   \n",
       "25              26.0                                 F   \n",
       "26              34.0                                 F   \n",
       "27              23.0                                 M   \n",
       "28              29.0                                 M   \n",
       "29              21.0                                 M   \n",
       "30              27.0                                 M   \n",
       "31              28.0                                 M   \n",
       "32              35.0                                 M   \n",
       "33              30.0                                 F   \n",
       "34              24.0                                 M   \n",
       "35              29.0                                 M   \n",
       "36              22.0                                 M   \n",
       "37              33.0                                 M   \n",
       "38              30.0                                 M   \n",
       "39              29.0                                 M   \n",
       "40              27.0                                 M   \n",
       "41              37.0                                 M   \n",
       "42              38.0                                 M   \n",
       "\n",
       "   What is your height in cm? What is your weight in kg?  \\\n",
       "0                         168                         67   \n",
       "1                         160                         62   \n",
       "2                         177                        150   \n",
       "3                       167cm                       80kg   \n",
       "4                         177                         90   \n",
       "5                         160                         73   \n",
       "6                         178                         65   \n",
       "7                         167                        100   \n",
       "8                         160                         56   \n",
       "9                         170                         62   \n",
       "10                        161                         64   \n",
       "11                       186                         183   \n",
       "12                        172                         64   \n",
       "13                       161                          55   \n",
       "14                        175                         74   \n",
       "15                        164                         55   \n",
       "16                     157.48                         79   \n",
       "17                        165                         95   \n",
       "18                        163                       62.5   \n",
       "19                        177                         79   \n",
       "20                        165                       56.5   \n",
       "21                        180                         82   \n",
       "22                        170                         80   \n",
       "23                        NaN                        NaN   \n",
       "24                        160                         55   \n",
       "25                        159                          6   \n",
       "26                        153                         59   \n",
       "27                        165                         70   \n",
       "28                        165                         62   \n",
       "29                        164                         69   \n",
       "30                        180                         95   \n",
       "31                        169                         68   \n",
       "32                        180                        100   \n",
       "33                        152                         82   \n",
       "34                        163                         64   \n",
       "35                        155                         50   \n",
       "36                    176.784                         80   \n",
       "37                     170.18                        105   \n",
       "38                        175                         60   \n",
       "39                        178                         65   \n",
       "40                        171                         67   \n",
       "41                        163                         65   \n",
       "42                        165                         68   \n",
       "\n",
       "    What is your waist size in inches? What is your favorite color?  \\\n",
       "0                                 32.0                          Red   \n",
       "1                                 30.0                          red   \n",
       "2                                 32.0                        green   \n",
       "3                                 36.0                         Blue   \n",
       "4                                 40.0                         Blue   \n",
       "5                                 37.0                          Red   \n",
       "6                                 30.0                        Black   \n",
       "7                                 44.0                         Blue   \n",
       "8                                 29.0                          red   \n",
       "9                                 30.0                         blue   \n",
       "10                                30.0                       purple   \n",
       "11                                35.0                         Blue   \n",
       "12                                29.0                         Blue   \n",
       "13                                30.0                         gray   \n",
       "14                                35.0                        Taupe   \n",
       "15                                32.0                        Green   \n",
       "16                                34.0                        black   \n",
       "17                                44.0                         blue   \n",
       "18                                29.0                         blue   \n",
       "19                                33.0                         teal   \n",
       "20                                27.5                        black   \n",
       "21                                32.0                         Blue   \n",
       "22                                34.0                       orange   \n",
       "23                                 NaN                          NaN   \n",
       "24                                30.0                         Blue   \n",
       "25                                31.0                         pink   \n",
       "26                                29.0                        black   \n",
       "27                                30.0                         blue   \n",
       "28                                30.0                         blue   \n",
       "29                                33.0                         Blue   \n",
       "30                                36.0                         Blue   \n",
       "31                                32.0                        Green   \n",
       "32                                36.0                         Blue   \n",
       "33                                38.0                         blue   \n",
       "34                                30.0                         Blue   \n",
       "35                                30.0                    Bluegreen   \n",
       "36                                31.0                        Green   \n",
       "37                                44.0                        white   \n",
       "38                                40.0                         blue   \n",
       "39                                32.0                         Blue   \n",
       "40                                30.0                         Blue   \n",
       "41                                31.0                        black   \n",
       "42                                33.0                       maroon   \n",
       "\n",
       "    What is your favorite number, from 0 to 9?  \\\n",
       "0                                          7.0   \n",
       "1                                          8.0   \n",
       "2                                          1.0   \n",
       "3                                          8.0   \n",
       "4                                          1.0   \n",
       "5                                          6.0   \n",
       "6                                          0.0   \n",
       "7                                          8.0   \n",
       "8                                          5.0   \n",
       "9                                          3.0   \n",
       "10                                         7.0   \n",
       "11                                         6.0   \n",
       "12                                         1.0   \n",
       "13                                         7.0   \n",
       "14                                         7.0   \n",
       "15                                         7.0   \n",
       "16                                         5.0   \n",
       "17                                         8.0   \n",
       "18                                         1.0   \n",
       "19                                         1.0   \n",
       "20                                         5.0   \n",
       "21                                         7.0   \n",
       "22                                         7.0   \n",
       "23                                         NaN   \n",
       "24                                         7.0   \n",
       "25                                         7.0   \n",
       "26                                         0.0   \n",
       "27                                         6.0   \n",
       "28                                         8.0   \n",
       "29                                         4.0   \n",
       "30                                         2.0   \n",
       "31                                         0.0   \n",
       "32                                         7.0   \n",
       "33                                         4.0   \n",
       "34                                         5.0   \n",
       "35                                         7.0   \n",
       "36                                         8.0   \n",
       "37                                         2.0   \n",
       "38                                        21.0   \n",
       "39                                         7.0   \n",
       "40                                         7.0   \n",
       "41                                         8.0   \n",
       "42                                         8.0   \n",
       "\n",
       "   Are you predominantly right handed or left handed? (pls type R or L)  \\\n",
       "0                                                   L                     \n",
       "1                                                   R                     \n",
       "2                                                   R                     \n",
       "3                                                   R                     \n",
       "4                                                   R                     \n",
       "5                                                   R                     \n",
       "6                                                   L                     \n",
       "7                                                   R                     \n",
       "8                                                   R                     \n",
       "9                                               right                     \n",
       "10                                                  R                     \n",
       "11                                                  R                     \n",
       "12                                                  R                     \n",
       "13                                                  R                     \n",
       "14                                                  L                     \n",
       "15                                                  R                     \n",
       "16                                                  R                     \n",
       "17                                                  R                     \n",
       "18                                                  L                     \n",
       "19                                                  R                     \n",
       "20                                                  R                     \n",
       "21                                                  L                     \n",
       "22                                                  R                     \n",
       "23                                                NaN                     \n",
       "24                                                  R                     \n",
       "25                                                  R                     \n",
       "26                                                  R                     \n",
       "27                                                  L                     \n",
       "28                                                  R                     \n",
       "29                                                  R                     \n",
       "30                                                  R                     \n",
       "31                                                  R                     \n",
       "32                                                  R                     \n",
       "33                                                  R                     \n",
       "34                                                  R                     \n",
       "35                                                  R                     \n",
       "36                                                  R                     \n",
       "37                                                  R                     \n",
       "38                                                  R                     \n",
       "39                                                  R                     \n",
       "40                                                  R                     \n",
       "41                                                  R                     \n",
       "42                                                  L                     \n",
       "\n",
       "   What is your favorite car brand? Toyota, Honda, Hyundai, BMW, Mercedes, etc.  \\\n",
       "0                                             Hyundai                             \n",
       "1                                                none                             \n",
       "2                                               Honda                             \n",
       "3                                               Lexus                             \n",
       "4                                                None                             \n",
       "5                                              Toyota                             \n",
       "6                                             Ferarri                             \n",
       "7                                          Mitsubishi                             \n",
       "8                                                Audi                             \n",
       "9                                               honda                             \n",
       "10                                              Honda                             \n",
       "11                                            Hyundai                             \n",
       "12                                             Toyota                             \n",
       "13                                             Toyota                             \n",
       "14                                              Honda                             \n",
       "15                                             Toyota                             \n",
       "16                                              Volvo                             \n",
       "17                                              Volvo                             \n",
       "18                                                BMW                             \n",
       "19                                             Toyota                             \n",
       "20                                             Toyota                             \n",
       "21                                             Subaru                             \n",
       "22                                              Mazda                             \n",
       "23                                                NaN                             \n",
       "24                                        lamborghini                             \n",
       "25                                             Toyota                             \n",
       "26                                             Toyota                             \n",
       "27                                             Toyota                             \n",
       "28                                               Ford                             \n",
       "29                                             Toyota                             \n",
       "30                                              Mazda                             \n",
       "31                                              Tesla                             \n",
       "32                                              Volvo                             \n",
       "33                                               Ford                             \n",
       "34                                        Lamborghini                             \n",
       "35                                              Honda                             \n",
       "36                                               None                             \n",
       "37                                             Toyota                             \n",
       "38                                            Hyundai                             \n",
       "39                                              Honda                             \n",
       "40                                               Jeep                             \n",
       "41                                                BMW                             \n",
       "42                                              Honda                             \n",
       "\n",
       "    How many cars have you owned in your life?  \n",
       "0                                          0.0  \n",
       "1                                          0.0  \n",
       "2                                          2.0  \n",
       "3                                          3.0  \n",
       "4                                          0.0  \n",
       "5                                          2.0  \n",
       "6                                          0.0  \n",
       "7                                          2.0  \n",
       "8                                          0.0  \n",
       "9                                          1.0  \n",
       "10                                         0.0  \n",
       "11                                         0.0  \n",
       "12                                         0.0  \n",
       "13                                         0.0  \n",
       "14                                        11.0  \n",
       "15                                         0.0  \n",
       "16                                         1.0  \n",
       "17                                         1.0  \n",
       "18                                         0.0  \n",
       "19                                         0.0  \n",
       "20                                         0.0  \n",
       "21                                         0.0  \n",
       "22                                         0.0  \n",
       "23                                         NaN  \n",
       "24                                         0.0  \n",
       "25                                         0.0  \n",
       "26                                         3.0  \n",
       "27                                         0.0  \n",
       "28                                         0.0  \n",
       "29                                         0.0  \n",
       "30                                         1.0  \n",
       "31                                         0.0  \n",
       "32                                         2.0  \n",
       "33                                         1.0  \n",
       "34                                         0.0  \n",
       "35                                         1.0  \n",
       "36                                         0.0  \n",
       "37                                         2.0  \n",
       "38                                         1.0  \n",
       "39                                         1.0  \n",
       "40                                         0.0  \n",
       "41                                         5.0  \n",
       "42                                         2.0  >"
      ]
     },
     "execution_count": 10,
     "metadata": {},
     "output_type": "execute_result"
    }
   ],
   "source": [
    "_2.isna"
   ]
  },
  {
   "cell_type": "markdown",
   "metadata": {},
   "source": [
    "Let's see that person 23 has `NaN`. Are all values `NaN`?"
   ]
  },
  {
   "cell_type": "code",
   "execution_count": 11,
   "metadata": {},
   "outputs": [
    {
     "data": {
      "text/plain": [
       "How old are you?                                                                NaN\n",
       "Male or female? (pls type M or F)                                               NaN\n",
       "What is your height in cm?                                                      NaN\n",
       "What is your weight in kg?                                                      NaN\n",
       "What is your waist size in inches?                                              NaN\n",
       "What is your favorite color?                                                    NaN\n",
       "What is your favorite number, from 0 to 9?                                      NaN\n",
       "Are you predominantly right handed or left handed? (pls type R or L)            NaN\n",
       "What is your favorite car brand? Toyota, Honda, Hyundai, BMW, Mercedes, etc.    NaN\n",
       "How many cars have you owned in your life?                                      NaN\n",
       "Name: 23, dtype: object"
      ]
     },
     "execution_count": 11,
     "metadata": {},
     "output_type": "execute_result"
    }
   ],
   "source": [
    "_2.iloc[23]"
   ]
  },
  {
   "cell_type": "markdown",
   "metadata": {},
   "source": [
    "Let's drop this row."
   ]
  },
  {
   "cell_type": "code",
   "execution_count": 12,
   "metadata": {},
   "outputs": [
    {
     "data": {
      "text/html": [
       "<div>\n",
       "<style scoped>\n",
       "    .dataframe tbody tr th:only-of-type {\n",
       "        vertical-align: middle;\n",
       "    }\n",
       "\n",
       "    .dataframe tbody tr th {\n",
       "        vertical-align: top;\n",
       "    }\n",
       "\n",
       "    .dataframe thead th {\n",
       "        text-align: right;\n",
       "    }\n",
       "</style>\n",
       "<table border=\"1\" class=\"dataframe\">\n",
       "  <thead>\n",
       "    <tr style=\"text-align: right;\">\n",
       "      <th></th>\n",
       "      <th>Number of movies you watched from cinema in the last two weeks</th>\n",
       "      <th>Number of movies you watched from home in the last two weeks</th>\n",
       "      <th>Average Cups of coffee consumed per day</th>\n",
       "      <th>Average amount of bills paid for mobile used</th>\n",
       "      <th>Average number of posts in social media per week</th>\n",
       "      <th>In  a relationship (Yes ,  No,  it’s complicated)</th>\n",
       "      <th>How old are you?</th>\n",
       "      <th>Male or female? (pls type M or F)</th>\n",
       "      <th>What is your height in cm?</th>\n",
       "      <th>What is your weight in kg?</th>\n",
       "      <th>...</th>\n",
       "      <th>How many years in your life have you been a smoker?</th>\n",
       "      <th>How many beers can you drink in one night?</th>\n",
       "      <th>How many pizzas can you eat in one sitting?</th>\n",
       "      <th>How many times do you buy coffee in a week?</th>\n",
       "      <th>How many Facebook friends do you have? (In hundreds, e.g. 1100)</th>\n",
       "      <th>How many partners have you had?</th>\n",
       "      <th>What kind of songs do you usually listen to? Pop, hip-hop, R&amp;B, alternative, rock, classical, country, jazz, etc.</th>\n",
       "      <th>How many songs do you know the lyrics to?</th>\n",
       "      <th>What do you think your grade in this class will be?</th>\n",
       "      <th>What age do you think you will live to?</th>\n",
       "    </tr>\n",
       "  </thead>\n",
       "  <tbody>\n",
       "    <tr>\n",
       "      <th>23</th>\n",
       "      <td>1.0</td>\n",
       "      <td>2.0</td>\n",
       "      <td>4.0</td>\n",
       "      <td>6500</td>\n",
       "      <td>2.0</td>\n",
       "      <td>No</td>\n",
       "      <td>NaN</td>\n",
       "      <td>NaN</td>\n",
       "      <td>NaN</td>\n",
       "      <td>NaN</td>\n",
       "      <td>...</td>\n",
       "      <td>NaN</td>\n",
       "      <td>NaN</td>\n",
       "      <td>NaN</td>\n",
       "      <td>NaN</td>\n",
       "      <td>NaN</td>\n",
       "      <td>NaN</td>\n",
       "      <td>NaN</td>\n",
       "      <td>NaN</td>\n",
       "      <td>NaN</td>\n",
       "      <td>NaN</td>\n",
       "    </tr>\n",
       "  </tbody>\n",
       "</table>\n",
       "<p>1 rows × 46 columns</p>\n",
       "</div>"
      ],
      "text/plain": [
       "    Number of movies you watched from cinema in the last two weeks  \\\n",
       "23                                                1.0                \n",
       "\n",
       "    Number of movies you watched from home in the last two weeks  \\\n",
       "23                                                2.0              \n",
       "\n",
       "    Average Cups of coffee consumed per day  \\\n",
       "23                                      4.0   \n",
       "\n",
       "   Average amount of bills paid for mobile used  \\\n",
       "23                                         6500   \n",
       "\n",
       "    Average number of posts in social media per week  \\\n",
       "23                                               2.0   \n",
       "\n",
       "   In  a relationship (Yes ,  No,  it’s complicated)  How old are you?  \\\n",
       "23                                                No               NaN   \n",
       "\n",
       "   Male or female? (pls type M or F) What is your height in cm?  \\\n",
       "23                               NaN                        NaN   \n",
       "\n",
       "   What is your weight in kg?                   ...                     \\\n",
       "23                        NaN                   ...                      \n",
       "\n",
       "    How many years in your life have you been a smoker?  \\\n",
       "23                                                NaN     \n",
       "\n",
       "   How many beers can you drink in one night?  \\\n",
       "23                                        NaN   \n",
       "\n",
       "    How many pizzas can you eat in one sitting?  \\\n",
       "23                                          NaN   \n",
       "\n",
       "   How many times do you buy coffee in a week?  \\\n",
       "23                                         NaN   \n",
       "\n",
       "   How many Facebook friends do you have? (In hundreds, e.g. 1100)  \\\n",
       "23                                                NaN                \n",
       "\n",
       "    How many partners have you had?  \\\n",
       "23                              NaN   \n",
       "\n",
       "   What kind of songs do you usually listen to? Pop, hip-hop, R&B, alternative, rock, classical, country, jazz, etc.  \\\n",
       "23                                                NaN                                                                  \n",
       "\n",
       "   How many songs do you know the lyrics to?  \\\n",
       "23                                       NaN   \n",
       "\n",
       "   What do you think your grade in this class will be?  \\\n",
       "23                                                NaN    \n",
       "\n",
       "    What age do you think you will live to?  \n",
       "23                                      NaN  \n",
       "\n",
       "[1 rows x 46 columns]"
      ]
     },
     "execution_count": 12,
     "metadata": {},
     "output_type": "execute_result"
    }
   ],
   "source": [
    "_.iloc[[23],:]"
   ]
  },
  {
   "cell_type": "code",
   "execution_count": 13,
   "metadata": {},
   "outputs": [],
   "source": [
    "_3 = _.drop(df.index[23])"
   ]
  },
  {
   "cell_type": "code",
   "execution_count": 14,
   "metadata": {},
   "outputs": [
    {
     "data": {
      "text/html": [
       "<div>\n",
       "<style scoped>\n",
       "    .dataframe tbody tr th:only-of-type {\n",
       "        vertical-align: middle;\n",
       "    }\n",
       "\n",
       "    .dataframe tbody tr th {\n",
       "        vertical-align: top;\n",
       "    }\n",
       "\n",
       "    .dataframe thead th {\n",
       "        text-align: right;\n",
       "    }\n",
       "</style>\n",
       "<table border=\"1\" class=\"dataframe\">\n",
       "  <thead>\n",
       "    <tr style=\"text-align: right;\">\n",
       "      <th></th>\n",
       "      <th>Number of movies you watched from cinema in the last two weeks</th>\n",
       "      <th>Number of movies you watched from home in the last two weeks</th>\n",
       "      <th>Average Cups of coffee consumed per day</th>\n",
       "      <th>Average amount of bills paid for mobile used</th>\n",
       "      <th>Average number of posts in social media per week</th>\n",
       "      <th>In  a relationship (Yes ,  No,  it’s complicated)</th>\n",
       "      <th>How old are you?</th>\n",
       "      <th>Male or female? (pls type M or F)</th>\n",
       "      <th>What is your height in cm?</th>\n",
       "      <th>What is your weight in kg?</th>\n",
       "      <th>...</th>\n",
       "      <th>How many years in your life have you been a smoker?</th>\n",
       "      <th>How many beers can you drink in one night?</th>\n",
       "      <th>How many pizzas can you eat in one sitting?</th>\n",
       "      <th>How many times do you buy coffee in a week?</th>\n",
       "      <th>How many Facebook friends do you have? (In hundreds, e.g. 1100)</th>\n",
       "      <th>How many partners have you had?</th>\n",
       "      <th>What kind of songs do you usually listen to? Pop, hip-hop, R&amp;B, alternative, rock, classical, country, jazz, etc.</th>\n",
       "      <th>How many songs do you know the lyrics to?</th>\n",
       "      <th>What do you think your grade in this class will be?</th>\n",
       "      <th>What age do you think you will live to?</th>\n",
       "    </tr>\n",
       "  </thead>\n",
       "  <tbody>\n",
       "    <tr>\n",
       "      <th>0</th>\n",
       "      <td>0.0</td>\n",
       "      <td>0.0</td>\n",
       "      <td>0.0</td>\n",
       "      <td>1799</td>\n",
       "      <td>1.0</td>\n",
       "      <td>Yes</td>\n",
       "      <td>30.0</td>\n",
       "      <td>M</td>\n",
       "      <td>168</td>\n",
       "      <td>67</td>\n",
       "      <td>...</td>\n",
       "      <td>0</td>\n",
       "      <td>1</td>\n",
       "      <td>3</td>\n",
       "      <td>0.0</td>\n",
       "      <td>933.0</td>\n",
       "      <td>4.0</td>\n",
       "      <td>EDM</td>\n",
       "      <td>5</td>\n",
       "      <td>5</td>\n",
       "      <td>128.0</td>\n",
       "    </tr>\n",
       "    <tr>\n",
       "      <th>1</th>\n",
       "      <td>0.0</td>\n",
       "      <td>0.0</td>\n",
       "      <td>0.0</td>\n",
       "      <td>0</td>\n",
       "      <td>0.0</td>\n",
       "      <td>NaN</td>\n",
       "      <td>29.0</td>\n",
       "      <td>F</td>\n",
       "      <td>160</td>\n",
       "      <td>62</td>\n",
       "      <td>...</td>\n",
       "      <td>0</td>\n",
       "      <td>1</td>\n",
       "      <td>3 slices</td>\n",
       "      <td>6.0</td>\n",
       "      <td>700.0</td>\n",
       "      <td>0.0</td>\n",
       "      <td>pop, jazz, rock, classical, R&amp;B</td>\n",
       "      <td>30</td>\n",
       "      <td>4.5</td>\n",
       "      <td>90.0</td>\n",
       "    </tr>\n",
       "    <tr>\n",
       "      <th>2</th>\n",
       "      <td>0.0</td>\n",
       "      <td>0.0</td>\n",
       "      <td>0.0</td>\n",
       "      <td>800</td>\n",
       "      <td>0.0</td>\n",
       "      <td>Yes</td>\n",
       "      <td>33.0</td>\n",
       "      <td>M</td>\n",
       "      <td>177</td>\n",
       "      <td>150</td>\n",
       "      <td>...</td>\n",
       "      <td>0</td>\n",
       "      <td>6</td>\n",
       "      <td>4</td>\n",
       "      <td>0.0</td>\n",
       "      <td>800.0</td>\n",
       "      <td>5.0</td>\n",
       "      <td>Rock</td>\n",
       "      <td>10</td>\n",
       "      <td>5</td>\n",
       "      <td>82.0</td>\n",
       "    </tr>\n",
       "    <tr>\n",
       "      <th>3</th>\n",
       "      <td>0.0</td>\n",
       "      <td>0.0</td>\n",
       "      <td>0.0</td>\n",
       "      <td>0</td>\n",
       "      <td>0.0</td>\n",
       "      <td>NaN</td>\n",
       "      <td>28.0</td>\n",
       "      <td>M</td>\n",
       "      <td>167cm</td>\n",
       "      <td>80kg</td>\n",
       "      <td>...</td>\n",
       "      <td>0</td>\n",
       "      <td>15</td>\n",
       "      <td>4</td>\n",
       "      <td>10.0</td>\n",
       "      <td>1100.0</td>\n",
       "      <td>1.0</td>\n",
       "      <td>classical, pop, alternative, country</td>\n",
       "      <td>20</td>\n",
       "      <td>5.0</td>\n",
       "      <td>68.0</td>\n",
       "    </tr>\n",
       "    <tr>\n",
       "      <th>4</th>\n",
       "      <td>1.0</td>\n",
       "      <td>1.0</td>\n",
       "      <td>3.0</td>\n",
       "      <td>300.00</td>\n",
       "      <td>5.0</td>\n",
       "      <td>No</td>\n",
       "      <td>32.0</td>\n",
       "      <td>M</td>\n",
       "      <td>177</td>\n",
       "      <td>90</td>\n",
       "      <td>...</td>\n",
       "      <td>0</td>\n",
       "      <td>0</td>\n",
       "      <td>6</td>\n",
       "      <td>6.0</td>\n",
       "      <td>1000.0</td>\n",
       "      <td>0.0</td>\n",
       "      <td>jazz, R&amp;B, classical, country, soul</td>\n",
       "      <td>10</td>\n",
       "      <td>5</td>\n",
       "      <td>70.0</td>\n",
       "    </tr>\n",
       "  </tbody>\n",
       "</table>\n",
       "<p>5 rows × 46 columns</p>\n",
       "</div>"
      ],
      "text/plain": [
       "   Number of movies you watched from cinema in the last two weeks  \\\n",
       "0                                                0.0                \n",
       "1                                                0.0                \n",
       "2                                                0.0                \n",
       "3                                                0.0                \n",
       "4                                                1.0                \n",
       "\n",
       "   Number of movies you watched from home in the last two weeks  \\\n",
       "0                                                0.0              \n",
       "1                                                0.0              \n",
       "2                                                0.0              \n",
       "3                                                0.0              \n",
       "4                                                1.0              \n",
       "\n",
       "   Average Cups of coffee consumed per day  \\\n",
       "0                                      0.0   \n",
       "1                                      0.0   \n",
       "2                                      0.0   \n",
       "3                                      0.0   \n",
       "4                                      3.0   \n",
       "\n",
       "  Average amount of bills paid for mobile used  \\\n",
       "0                                         1799   \n",
       "1                                            0   \n",
       "2                                          800   \n",
       "3                                            0   \n",
       "4                                       300.00   \n",
       "\n",
       "   Average number of posts in social media per week  \\\n",
       "0                                               1.0   \n",
       "1                                               0.0   \n",
       "2                                               0.0   \n",
       "3                                               0.0   \n",
       "4                                               5.0   \n",
       "\n",
       "  In  a relationship (Yes ,  No,  it’s complicated)  How old are you?  \\\n",
       "0                                               Yes              30.0   \n",
       "1                                               NaN              29.0   \n",
       "2                                               Yes              33.0   \n",
       "3                                               NaN              28.0   \n",
       "4                                                No              32.0   \n",
       "\n",
       "  Male or female? (pls type M or F) What is your height in cm?  \\\n",
       "0                                 M                        168   \n",
       "1                                 F                        160   \n",
       "2                                 M                        177   \n",
       "3                                 M                      167cm   \n",
       "4                                 M                        177   \n",
       "\n",
       "  What is your weight in kg?                   ...                     \\\n",
       "0                         67                   ...                      \n",
       "1                         62                   ...                      \n",
       "2                        150                   ...                      \n",
       "3                       80kg                   ...                      \n",
       "4                         90                   ...                      \n",
       "\n",
       "   How many years in your life have you been a smoker?  \\\n",
       "0                                                  0     \n",
       "1                                                  0     \n",
       "2                                                  0     \n",
       "3                                                  0     \n",
       "4                                                  0     \n",
       "\n",
       "  How many beers can you drink in one night?  \\\n",
       "0                                          1   \n",
       "1                                          1   \n",
       "2                                          6   \n",
       "3                                         15   \n",
       "4                                          0   \n",
       "\n",
       "   How many pizzas can you eat in one sitting?  \\\n",
       "0                                            3   \n",
       "1                                     3 slices   \n",
       "2                                            4   \n",
       "3                                            4   \n",
       "4                                            6   \n",
       "\n",
       "  How many times do you buy coffee in a week?  \\\n",
       "0                                         0.0   \n",
       "1                                         6.0   \n",
       "2                                         0.0   \n",
       "3                                        10.0   \n",
       "4                                         6.0   \n",
       "\n",
       "  How many Facebook friends do you have? (In hundreds, e.g. 1100)  \\\n",
       "0                                              933.0                \n",
       "1                                              700.0                \n",
       "2                                              800.0                \n",
       "3                                             1100.0                \n",
       "4                                             1000.0                \n",
       "\n",
       "   How many partners have you had?  \\\n",
       "0                              4.0   \n",
       "1                              0.0   \n",
       "2                              5.0   \n",
       "3                              1.0   \n",
       "4                              0.0   \n",
       "\n",
       "  What kind of songs do you usually listen to? Pop, hip-hop, R&B, alternative, rock, classical, country, jazz, etc.  \\\n",
       "0                                                EDM                                                                  \n",
       "1                    pop, jazz, rock, classical, R&B                                                                  \n",
       "2                                               Rock                                                                  \n",
       "3               classical, pop, alternative, country                                                                  \n",
       "4                jazz, R&B, classical, country, soul                                                                  \n",
       "\n",
       "  How many songs do you know the lyrics to?  \\\n",
       "0                                         5   \n",
       "1                                        30   \n",
       "2                                        10   \n",
       "3                                        20   \n",
       "4                                        10   \n",
       "\n",
       "  What do you think your grade in this class will be?  \\\n",
       "0                                                  5    \n",
       "1                                                4.5    \n",
       "2                                                  5    \n",
       "3                                                5.0    \n",
       "4                                                  5    \n",
       "\n",
       "   What age do you think you will live to?  \n",
       "0                                    128.0  \n",
       "1                                     90.0  \n",
       "2                                     82.0  \n",
       "3                                     68.0  \n",
       "4                                     70.0  \n",
       "\n",
       "[5 rows x 46 columns]"
      ]
     },
     "execution_count": 14,
     "metadata": {},
     "output_type": "execute_result"
    }
   ],
   "source": [
    "_3.head()"
   ]
  },
  {
   "cell_type": "code",
   "execution_count": 15,
   "metadata": {},
   "outputs": [],
   "source": [
    "_3.iloc[37, 3] = 1500"
   ]
  },
  {
   "cell_type": "markdown",
   "metadata": {},
   "source": [
    "Let's check relationship status. Let's convert all to `Yes`, `No`, and `it's complicated`"
   ]
  },
  {
   "cell_type": "code",
   "execution_count": 16,
   "metadata": {},
   "outputs": [
    {
     "data": {
      "text/plain": [
       "0    Yes\n",
       "1    NaN\n",
       "2    Yes\n",
       "3    NaN\n",
       "4     No\n",
       "Name: In  a relationship (Yes ,  No,  it’s complicated), dtype: object"
      ]
     },
     "execution_count": 16,
     "metadata": {},
     "output_type": "execute_result"
    }
   ],
   "source": [
    "dum_lst = _3.iloc[:, 5]\n",
    "dum_lst.head()"
   ]
  },
  {
   "cell_type": "code",
   "execution_count": 17,
   "metadata": {},
   "outputs": [
    {
     "data": {
      "text/plain": [
       "Yes                 18\n",
       "No                  16\n",
       "It's complicated     1\n",
       "YEEEEEESSSS          1\n",
       "Name: In  a relationship (Yes ,  No,  it’s complicated), dtype: int64"
      ]
     },
     "execution_count": 17,
     "metadata": {},
     "output_type": "execute_result"
    }
   ],
   "source": [
    "dum_lst.value_counts()"
   ]
  },
  {
   "cell_type": "markdown",
   "metadata": {},
   "source": [
    "We need to convert `YEEEEEESSSS` to `Yes` and nan to `No`."
   ]
  },
  {
   "cell_type": "code",
   "execution_count": 18,
   "metadata": {},
   "outputs": [
    {
     "data": {
      "text/plain": [
       "Int64Index([12], dtype='int64')"
      ]
     },
     "execution_count": 18,
     "metadata": {},
     "output_type": "execute_result"
    }
   ],
   "source": [
    "dum_lst[dum_lst == \"YEEEEEESSSS\"].index"
   ]
  },
  {
   "cell_type": "code",
   "execution_count": 19,
   "metadata": {},
   "outputs": [
    {
     "name": "stderr",
     "output_type": "stream",
     "text": [
      "/Users/fernandojavier/anaconda3/lib/python3.6/site-packages/ipykernel_launcher.py:1: SettingWithCopyWarning: \n",
      "A value is trying to be set on a copy of a slice from a DataFrame\n",
      "\n",
      "See the caveats in the documentation: http://pandas.pydata.org/pandas-docs/stable/indexing.html#indexing-view-versus-copy\n",
      "  \"\"\"Entry point for launching an IPython kernel.\n"
     ]
    }
   ],
   "source": [
    "dum_lst[12] = 'Yes'"
   ]
  },
  {
   "cell_type": "code",
   "execution_count": 20,
   "metadata": {},
   "outputs": [
    {
     "data": {
      "text/plain": [
       "{\"It's complicated\", 'No', 'Yes', nan}"
      ]
     },
     "execution_count": 20,
     "metadata": {},
     "output_type": "execute_result"
    }
   ],
   "source": [
    "set(dum_lst)"
   ]
  },
  {
   "cell_type": "markdown",
   "metadata": {},
   "source": [
    "We can save this as a Series and drop the NaN to 0."
   ]
  },
  {
   "cell_type": "code",
   "execution_count": 21,
   "metadata": {},
   "outputs": [
    {
     "data": {
      "text/plain": [
       "pandas.core.series.Series"
      ]
     },
     "execution_count": 21,
     "metadata": {},
     "output_type": "execute_result"
    }
   ],
   "source": [
    "type(dum_lst)"
   ]
  },
  {
   "cell_type": "code",
   "execution_count": 22,
   "metadata": {},
   "outputs": [
    {
     "data": {
      "text/plain": [
       "{\"It's complicated\", 'No', 'Yes'}"
      ]
     },
     "execution_count": 22,
     "metadata": {},
     "output_type": "execute_result"
    }
   ],
   "source": [
    "target_series = dum_lst.fillna(value='No', axis='rows')\n",
    "set(target_series)"
   ]
  },
  {
   "cell_type": "markdown",
   "metadata": {},
   "source": [
    "We save this new target to Pandas DataFrame"
   ]
  },
  {
   "cell_type": "code",
   "execution_count": 23,
   "metadata": {},
   "outputs": [],
   "source": [
    "_3.iloc[0:, 5] = target_series"
   ]
  },
  {
   "cell_type": "markdown",
   "metadata": {},
   "source": [
    "Let's check the updated DataFrame."
   ]
  },
  {
   "cell_type": "code",
   "execution_count": 24,
   "metadata": {},
   "outputs": [
    {
     "data": {
      "text/html": [
       "<div>\n",
       "<style scoped>\n",
       "    .dataframe tbody tr th:only-of-type {\n",
       "        vertical-align: middle;\n",
       "    }\n",
       "\n",
       "    .dataframe tbody tr th {\n",
       "        vertical-align: top;\n",
       "    }\n",
       "\n",
       "    .dataframe thead th {\n",
       "        text-align: right;\n",
       "    }\n",
       "</style>\n",
       "<table border=\"1\" class=\"dataframe\">\n",
       "  <thead>\n",
       "    <tr style=\"text-align: right;\">\n",
       "      <th></th>\n",
       "      <th>Number of movies you watched from cinema in the last two weeks</th>\n",
       "      <th>Number of movies you watched from home in the last two weeks</th>\n",
       "      <th>Average Cups of coffee consumed per day</th>\n",
       "      <th>Average amount of bills paid for mobile used</th>\n",
       "      <th>Average number of posts in social media per week</th>\n",
       "      <th>In  a relationship (Yes ,  No,  it’s complicated)</th>\n",
       "      <th>How old are you?</th>\n",
       "      <th>Male or female? (pls type M or F)</th>\n",
       "      <th>What is your height in cm?</th>\n",
       "      <th>What is your weight in kg?</th>\n",
       "      <th>...</th>\n",
       "      <th>How many years in your life have you been a smoker?</th>\n",
       "      <th>How many beers can you drink in one night?</th>\n",
       "      <th>How many pizzas can you eat in one sitting?</th>\n",
       "      <th>How many times do you buy coffee in a week?</th>\n",
       "      <th>How many Facebook friends do you have? (In hundreds, e.g. 1100)</th>\n",
       "      <th>How many partners have you had?</th>\n",
       "      <th>What kind of songs do you usually listen to? Pop, hip-hop, R&amp;B, alternative, rock, classical, country, jazz, etc.</th>\n",
       "      <th>How many songs do you know the lyrics to?</th>\n",
       "      <th>What do you think your grade in this class will be?</th>\n",
       "      <th>What age do you think you will live to?</th>\n",
       "    </tr>\n",
       "  </thead>\n",
       "  <tbody>\n",
       "    <tr>\n",
       "      <th>0</th>\n",
       "      <td>0.0</td>\n",
       "      <td>0.0</td>\n",
       "      <td>0.0</td>\n",
       "      <td>1799</td>\n",
       "      <td>1.0</td>\n",
       "      <td>Yes</td>\n",
       "      <td>30.0</td>\n",
       "      <td>M</td>\n",
       "      <td>168</td>\n",
       "      <td>67</td>\n",
       "      <td>...</td>\n",
       "      <td>0</td>\n",
       "      <td>1</td>\n",
       "      <td>3</td>\n",
       "      <td>0.0</td>\n",
       "      <td>933.0</td>\n",
       "      <td>4.0</td>\n",
       "      <td>EDM</td>\n",
       "      <td>5</td>\n",
       "      <td>5</td>\n",
       "      <td>128.0</td>\n",
       "    </tr>\n",
       "    <tr>\n",
       "      <th>1</th>\n",
       "      <td>0.0</td>\n",
       "      <td>0.0</td>\n",
       "      <td>0.0</td>\n",
       "      <td>0</td>\n",
       "      <td>0.0</td>\n",
       "      <td>No</td>\n",
       "      <td>29.0</td>\n",
       "      <td>F</td>\n",
       "      <td>160</td>\n",
       "      <td>62</td>\n",
       "      <td>...</td>\n",
       "      <td>0</td>\n",
       "      <td>1</td>\n",
       "      <td>3 slices</td>\n",
       "      <td>6.0</td>\n",
       "      <td>700.0</td>\n",
       "      <td>0.0</td>\n",
       "      <td>pop, jazz, rock, classical, R&amp;B</td>\n",
       "      <td>30</td>\n",
       "      <td>4.5</td>\n",
       "      <td>90.0</td>\n",
       "    </tr>\n",
       "  </tbody>\n",
       "</table>\n",
       "<p>2 rows × 46 columns</p>\n",
       "</div>"
      ],
      "text/plain": [
       "   Number of movies you watched from cinema in the last two weeks  \\\n",
       "0                                                0.0                \n",
       "1                                                0.0                \n",
       "\n",
       "   Number of movies you watched from home in the last two weeks  \\\n",
       "0                                                0.0              \n",
       "1                                                0.0              \n",
       "\n",
       "   Average Cups of coffee consumed per day  \\\n",
       "0                                      0.0   \n",
       "1                                      0.0   \n",
       "\n",
       "  Average amount of bills paid for mobile used  \\\n",
       "0                                         1799   \n",
       "1                                            0   \n",
       "\n",
       "   Average number of posts in social media per week  \\\n",
       "0                                               1.0   \n",
       "1                                               0.0   \n",
       "\n",
       "  In  a relationship (Yes ,  No,  it’s complicated)  How old are you?  \\\n",
       "0                                               Yes              30.0   \n",
       "1                                                No              29.0   \n",
       "\n",
       "  Male or female? (pls type M or F) What is your height in cm?  \\\n",
       "0                                 M                        168   \n",
       "1                                 F                        160   \n",
       "\n",
       "  What is your weight in kg?                   ...                     \\\n",
       "0                         67                   ...                      \n",
       "1                         62                   ...                      \n",
       "\n",
       "   How many years in your life have you been a smoker?  \\\n",
       "0                                                  0     \n",
       "1                                                  0     \n",
       "\n",
       "  How many beers can you drink in one night?  \\\n",
       "0                                          1   \n",
       "1                                          1   \n",
       "\n",
       "   How many pizzas can you eat in one sitting?  \\\n",
       "0                                            3   \n",
       "1                                     3 slices   \n",
       "\n",
       "  How many times do you buy coffee in a week?  \\\n",
       "0                                         0.0   \n",
       "1                                         6.0   \n",
       "\n",
       "  How many Facebook friends do you have? (In hundreds, e.g. 1100)  \\\n",
       "0                                              933.0                \n",
       "1                                              700.0                \n",
       "\n",
       "   How many partners have you had?  \\\n",
       "0                              4.0   \n",
       "1                              0.0   \n",
       "\n",
       "  What kind of songs do you usually listen to? Pop, hip-hop, R&B, alternative, rock, classical, country, jazz, etc.  \\\n",
       "0                                                EDM                                                                  \n",
       "1                    pop, jazz, rock, classical, R&B                                                                  \n",
       "\n",
       "  How many songs do you know the lyrics to?  \\\n",
       "0                                         5   \n",
       "1                                        30   \n",
       "\n",
       "  What do you think your grade in this class will be?  \\\n",
       "0                                                  5    \n",
       "1                                                4.5    \n",
       "\n",
       "   What age do you think you will live to?  \n",
       "0                                    128.0  \n",
       "1                                     90.0  \n",
       "\n",
       "[2 rows x 46 columns]"
      ]
     },
     "execution_count": 24,
     "metadata": {},
     "output_type": "execute_result"
    }
   ],
   "source": [
    "_3.head(2)"
   ]
  },
  {
   "cell_type": "markdown",
   "metadata": {},
   "source": [
    "Let's now check the dtypes of the values in `How old are you?`"
   ]
  },
  {
   "cell_type": "code",
   "execution_count": 25,
   "metadata": {},
   "outputs": [
    {
     "data": {
      "text/plain": [
       "dtype('float64')"
      ]
     },
     "execution_count": 25,
     "metadata": {},
     "output_type": "execute_result"
    }
   ],
   "source": [
    "_3.iloc[:, 6].dtype"
   ]
  },
  {
   "cell_type": "markdown",
   "metadata": {},
   "source": [
    "Let's check the values for the remaining categories with `object` type."
   ]
  },
  {
   "cell_type": "code",
   "execution_count": 26,
   "metadata": {},
   "outputs": [
    {
     "name": "stdout",
     "output_type": "stream",
     "text": [
      "3 Average amount of bills paid for mobile used:  object\n",
      "5 In  a relationship (Yes ,  No,  it’s complicated):  object\n",
      "7 Male or female? (pls type M or F):  object\n",
      "8 What is your height in cm?:  object\n",
      "9 What is your weight in kg?:  object\n",
      "11 What is your favorite color?:  object\n",
      "13 Are you predominantly right handed or left handed? (pls type R or L):  object\n",
      "14 What is your favorite car brand? Toyota, Honda, Hyundai, BMW, Mercedes, etc.:  object\n",
      "16 What phone network do you use? Globe, Smart, Sun, etc.:  object\n",
      "17 What phone brand do you use? Samsung, Apple, Vivo, Huawei, Sony, etc.:  object\n",
      "18 How many years do you use your phone before replacing it?:  object\n",
      "21 What is your favorite sport? Basketball, football, volleyball, tennis, etc.:  object\n",
      "22 What browser do you prefer? Chrome, IE, Firefox, Safari:  object\n",
      "23 How many functioning shoes do you own currently?:  object\n",
      "24 What is your blood type? O A B AB:  object\n",
      "27 Where is your ideal city to live in?:  object\n",
      "28 How many times in a month do you go to the mall?:  object\n",
      "29 What is your favorite mall? SM, Ayala, Robinsons, Rustan’s, etc.:  object\n",
      "30 What is your favorite fastfood place?:  object\n",
      "31 What is your favorite meat to eat? Chicken, pork, beef, fish, etc.:  object\n",
      "32 How many times in a month do you eat in Jollibee?:  object\n",
      "33 How many times in a week do you cook at home?:  object\n",
      "34 How many times in a month do you go out with your s.o.?:  object\n",
      "35 How many movies do you see inside a theater in a year?:  object\n",
      "36 How many years in your life have you been a smoker?:  object\n",
      "37 How many beers can you drink in one night?:  object\n",
      "38 How many pizzas can you eat in one sitting?:  object\n",
      "42 What kind of songs do you usually listen to? Pop, hip-hop, R&B, alternative, rock, classical, country, jazz, etc.:  object\n",
      "43 How many songs do you know the lyrics to?:  object\n",
      "44 What do you think your grade in this class will be?:  object\n"
     ]
    }
   ],
   "source": [
    "for i in range(len(_3.columns)):\n",
    "    typ = _3.iloc[:, i].dtype\n",
    "    if typ == object:\n",
    "        print('{} {}: '.format(i, _3.columns[i]), _3.iloc[:, i].dtype)"
   ]
  },
  {
   "cell_type": "markdown",
   "metadata": {},
   "source": [
    "Column 3 should be float. Let's look at column 3."
   ]
  },
  {
   "cell_type": "code",
   "execution_count": 27,
   "metadata": {},
   "outputs": [],
   "source": [
    "_3.iloc[:,3] = _3.iloc[:, 3].astype(float)"
   ]
  },
  {
   "cell_type": "markdown",
   "metadata": {},
   "source": [
    "Let's now look at Male or Female column."
   ]
  },
  {
   "cell_type": "code",
   "execution_count": 28,
   "metadata": {},
   "outputs": [
    {
     "data": {
      "text/plain": [
       "M    35\n",
       "F     7\n",
       "Name: Male or female? (pls type M or F), dtype: int64"
      ]
     },
     "execution_count": 28,
     "metadata": {},
     "output_type": "execute_result"
    }
   ],
   "source": [
    "_3.iloc[:, 7].value_counts()"
   ]
  },
  {
   "cell_type": "code",
   "execution_count": 29,
   "metadata": {},
   "outputs": [
    {
     "data": {
      "text/plain": [
       "3       167cm\n",
       "11       186 \n",
       "13       161 \n",
       "16     157.48\n",
       "36    176.784\n",
       "37     170.18\n",
       "Name: What is your height in cm?, dtype: object"
      ]
     },
     "execution_count": 29,
     "metadata": {},
     "output_type": "execute_result"
    }
   ],
   "source": [
    "_3.iloc[:, 8][np.logical_not(_3.iloc[:, 8].str.isnumeric())]"
   ]
  },
  {
   "cell_type": "markdown",
   "metadata": {},
   "source": [
    "We should convert the numbers above to numeric"
   ]
  },
  {
   "cell_type": "markdown",
   "metadata": {},
   "source": [
    "Columns 8, 9, 18, 23, 28, 32 - 38, 43, 44 should all be numerical data. Let's clean them."
   ]
  },
  {
   "cell_type": "code",
   "execution_count": 30,
   "metadata": {},
   "outputs": [],
   "source": [
    "_3.iloc[3, 8] = 167"
   ]
  },
  {
   "cell_type": "code",
   "execution_count": 31,
   "metadata": {},
   "outputs": [],
   "source": [
    "_3.iloc[:, 8] = _3.iloc[:, 8].astype(float)"
   ]
  },
  {
   "cell_type": "code",
   "execution_count": 32,
   "metadata": {},
   "outputs": [
    {
     "data": {
      "text/plain": [
       "dtype('float64')"
      ]
     },
     "execution_count": 32,
     "metadata": {},
     "output_type": "execute_result"
    }
   ],
   "source": [
    "_3.iloc[:, 8].dtype"
   ]
  },
  {
   "cell_type": "markdown",
   "metadata": {},
   "source": [
    "Let's do this for the rest of the columns."
   ]
  },
  {
   "cell_type": "code",
   "execution_count": 33,
   "metadata": {},
   "outputs": [],
   "source": [
    "_4 = _3[:]"
   ]
  },
  {
   "cell_type": "code",
   "execution_count": 34,
   "metadata": {},
   "outputs": [
    {
     "data": {
      "text/html": [
       "<div>\n",
       "<style scoped>\n",
       "    .dataframe tbody tr th:only-of-type {\n",
       "        vertical-align: middle;\n",
       "    }\n",
       "\n",
       "    .dataframe tbody tr th {\n",
       "        vertical-align: top;\n",
       "    }\n",
       "\n",
       "    .dataframe thead th {\n",
       "        text-align: right;\n",
       "    }\n",
       "</style>\n",
       "<table border=\"1\" class=\"dataframe\">\n",
       "  <thead>\n",
       "    <tr style=\"text-align: right;\">\n",
       "      <th></th>\n",
       "      <th>Number of movies you watched from cinema in the last two weeks</th>\n",
       "      <th>Number of movies you watched from home in the last two weeks</th>\n",
       "      <th>Average Cups of coffee consumed per day</th>\n",
       "      <th>Average amount of bills paid for mobile used</th>\n",
       "      <th>Average number of posts in social media per week</th>\n",
       "      <th>In  a relationship (Yes ,  No,  it’s complicated)</th>\n",
       "      <th>How old are you?</th>\n",
       "      <th>Male or female? (pls type M or F)</th>\n",
       "      <th>What is your height in cm?</th>\n",
       "      <th>What is your weight in kg?</th>\n",
       "      <th>...</th>\n",
       "      <th>How many years in your life have you been a smoker?</th>\n",
       "      <th>How many beers can you drink in one night?</th>\n",
       "      <th>How many pizzas can you eat in one sitting?</th>\n",
       "      <th>How many times do you buy coffee in a week?</th>\n",
       "      <th>How many Facebook friends do you have? (In hundreds, e.g. 1100)</th>\n",
       "      <th>How many partners have you had?</th>\n",
       "      <th>What kind of songs do you usually listen to? Pop, hip-hop, R&amp;B, alternative, rock, classical, country, jazz, etc.</th>\n",
       "      <th>How many songs do you know the lyrics to?</th>\n",
       "      <th>What do you think your grade in this class will be?</th>\n",
       "      <th>What age do you think you will live to?</th>\n",
       "    </tr>\n",
       "  </thead>\n",
       "  <tbody>\n",
       "    <tr>\n",
       "      <th>0</th>\n",
       "      <td>0.0</td>\n",
       "      <td>0.0</td>\n",
       "      <td>0.0</td>\n",
       "      <td>1799.0</td>\n",
       "      <td>1.0</td>\n",
       "      <td>Yes</td>\n",
       "      <td>30.0</td>\n",
       "      <td>M</td>\n",
       "      <td>168.0</td>\n",
       "      <td>67</td>\n",
       "      <td>...</td>\n",
       "      <td>0</td>\n",
       "      <td>1</td>\n",
       "      <td>3</td>\n",
       "      <td>0.0</td>\n",
       "      <td>933.0</td>\n",
       "      <td>4.0</td>\n",
       "      <td>EDM</td>\n",
       "      <td>5</td>\n",
       "      <td>5</td>\n",
       "      <td>128.0</td>\n",
       "    </tr>\n",
       "    <tr>\n",
       "      <th>1</th>\n",
       "      <td>0.0</td>\n",
       "      <td>0.0</td>\n",
       "      <td>0.0</td>\n",
       "      <td>0.0</td>\n",
       "      <td>0.0</td>\n",
       "      <td>No</td>\n",
       "      <td>29.0</td>\n",
       "      <td>F</td>\n",
       "      <td>160.0</td>\n",
       "      <td>62</td>\n",
       "      <td>...</td>\n",
       "      <td>0</td>\n",
       "      <td>1</td>\n",
       "      <td>3 slices</td>\n",
       "      <td>6.0</td>\n",
       "      <td>700.0</td>\n",
       "      <td>0.0</td>\n",
       "      <td>pop, jazz, rock, classical, R&amp;B</td>\n",
       "      <td>30</td>\n",
       "      <td>4.5</td>\n",
       "      <td>90.0</td>\n",
       "    </tr>\n",
       "    <tr>\n",
       "      <th>2</th>\n",
       "      <td>0.0</td>\n",
       "      <td>0.0</td>\n",
       "      <td>0.0</td>\n",
       "      <td>800.0</td>\n",
       "      <td>0.0</td>\n",
       "      <td>Yes</td>\n",
       "      <td>33.0</td>\n",
       "      <td>M</td>\n",
       "      <td>177.0</td>\n",
       "      <td>150</td>\n",
       "      <td>...</td>\n",
       "      <td>0</td>\n",
       "      <td>6</td>\n",
       "      <td>4</td>\n",
       "      <td>0.0</td>\n",
       "      <td>800.0</td>\n",
       "      <td>5.0</td>\n",
       "      <td>Rock</td>\n",
       "      <td>10</td>\n",
       "      <td>5</td>\n",
       "      <td>82.0</td>\n",
       "    </tr>\n",
       "  </tbody>\n",
       "</table>\n",
       "<p>3 rows × 46 columns</p>\n",
       "</div>"
      ],
      "text/plain": [
       "   Number of movies you watched from cinema in the last two weeks  \\\n",
       "0                                                0.0                \n",
       "1                                                0.0                \n",
       "2                                                0.0                \n",
       "\n",
       "   Number of movies you watched from home in the last two weeks  \\\n",
       "0                                                0.0              \n",
       "1                                                0.0              \n",
       "2                                                0.0              \n",
       "\n",
       "   Average Cups of coffee consumed per day  \\\n",
       "0                                      0.0   \n",
       "1                                      0.0   \n",
       "2                                      0.0   \n",
       "\n",
       "   Average amount of bills paid for mobile used  \\\n",
       "0                                        1799.0   \n",
       "1                                           0.0   \n",
       "2                                         800.0   \n",
       "\n",
       "   Average number of posts in social media per week  \\\n",
       "0                                               1.0   \n",
       "1                                               0.0   \n",
       "2                                               0.0   \n",
       "\n",
       "  In  a relationship (Yes ,  No,  it’s complicated)  How old are you?  \\\n",
       "0                                               Yes              30.0   \n",
       "1                                                No              29.0   \n",
       "2                                               Yes              33.0   \n",
       "\n",
       "  Male or female? (pls type M or F)  What is your height in cm?  \\\n",
       "0                                 M                       168.0   \n",
       "1                                 F                       160.0   \n",
       "2                                 M                       177.0   \n",
       "\n",
       "  What is your weight in kg?                   ...                     \\\n",
       "0                         67                   ...                      \n",
       "1                         62                   ...                      \n",
       "2                        150                   ...                      \n",
       "\n",
       "   How many years in your life have you been a smoker?  \\\n",
       "0                                                  0     \n",
       "1                                                  0     \n",
       "2                                                  0     \n",
       "\n",
       "  How many beers can you drink in one night?  \\\n",
       "0                                          1   \n",
       "1                                          1   \n",
       "2                                          6   \n",
       "\n",
       "   How many pizzas can you eat in one sitting?  \\\n",
       "0                                            3   \n",
       "1                                     3 slices   \n",
       "2                                            4   \n",
       "\n",
       "  How many times do you buy coffee in a week?  \\\n",
       "0                                         0.0   \n",
       "1                                         6.0   \n",
       "2                                         0.0   \n",
       "\n",
       "  How many Facebook friends do you have? (In hundreds, e.g. 1100)  \\\n",
       "0                                              933.0                \n",
       "1                                              700.0                \n",
       "2                                              800.0                \n",
       "\n",
       "   How many partners have you had?  \\\n",
       "0                              4.0   \n",
       "1                              0.0   \n",
       "2                              5.0   \n",
       "\n",
       "  What kind of songs do you usually listen to? Pop, hip-hop, R&B, alternative, rock, classical, country, jazz, etc.  \\\n",
       "0                                                EDM                                                                  \n",
       "1                    pop, jazz, rock, classical, R&B                                                                  \n",
       "2                                               Rock                                                                  \n",
       "\n",
       "  How many songs do you know the lyrics to?  \\\n",
       "0                                         5   \n",
       "1                                        30   \n",
       "2                                        10   \n",
       "\n",
       "  What do you think your grade in this class will be?  \\\n",
       "0                                                  5    \n",
       "1                                                4.5    \n",
       "2                                                  5    \n",
       "\n",
       "   What age do you think you will live to?  \n",
       "0                                    128.0  \n",
       "1                                     90.0  \n",
       "2                                     82.0  \n",
       "\n",
       "[3 rows x 46 columns]"
      ]
     },
     "execution_count": 34,
     "metadata": {},
     "output_type": "execute_result"
    }
   ],
   "source": [
    "_4.head(3)"
   ]
  },
  {
   "cell_type": "markdown",
   "metadata": {},
   "source": [
    "Let's clean column 9."
   ]
  },
  {
   "cell_type": "code",
   "execution_count": 35,
   "metadata": {},
   "outputs": [
    {
     "data": {
      "text/plain": [
       "3     80kg\n",
       "18    62.5\n",
       "20    56.5\n",
       "Name: What is your weight in kg?, dtype: object"
      ]
     },
     "execution_count": 35,
     "metadata": {},
     "output_type": "execute_result"
    }
   ],
   "source": [
    "_4.iloc[:, 9][np.logical_not(_4.iloc[:, 9].str.isnumeric())]"
   ]
  },
  {
   "cell_type": "code",
   "execution_count": 36,
   "metadata": {},
   "outputs": [],
   "source": [
    "_4.iloc[3, 9] = 80"
   ]
  },
  {
   "cell_type": "code",
   "execution_count": 37,
   "metadata": {},
   "outputs": [
    {
     "data": {
      "text/plain": [
       "dtype('float64')"
      ]
     },
     "execution_count": 37,
     "metadata": {},
     "output_type": "execute_result"
    }
   ],
   "source": [
    "_4.iloc[:, 9] = _4.iloc[:, 9].astype(float)\n",
    "_4.iloc[:, 9].dtype"
   ]
  },
  {
   "cell_type": "markdown",
   "metadata": {},
   "source": [
    "Let's clean column 18."
   ]
  },
  {
   "cell_type": "code",
   "execution_count": 38,
   "metadata": {
    "scrolled": true
   },
   "outputs": [
    {
     "data": {
      "text/plain": [
       "3                              3.5\n",
       "9                              3-4\n",
       "10    until it gets broken or lost\n",
       "17                             1.5\n",
       "30                             2.5\n",
       "31                             4.5\n",
       "36                             1.5\n",
       "Name: How many years do you use your phone before replacing it?, dtype: object"
      ]
     },
     "execution_count": 38,
     "metadata": {},
     "output_type": "execute_result"
    }
   ],
   "source": [
    "_4.iloc[:, 18][np.logical_not(_4.iloc[:, 18].str.isnumeric())]"
   ]
  },
  {
   "cell_type": "markdown",
   "metadata": {},
   "source": [
    "We convert until it gets broken or lost to the maximum value in the dataset."
   ]
  },
  {
   "cell_type": "code",
   "execution_count": 39,
   "metadata": {},
   "outputs": [
    {
     "data": {
      "text/plain": [
       "'5'"
      ]
     },
     "execution_count": 39,
     "metadata": {},
     "output_type": "execute_result"
    }
   ],
   "source": [
    "np.sort(_4.iloc[:, 18])[-2]"
   ]
  },
  {
   "cell_type": "code",
   "execution_count": 40,
   "metadata": {},
   "outputs": [],
   "source": [
    "_4.iloc[9, 18] = 3.5\n",
    "_4.iloc[10, 18] = 5"
   ]
  },
  {
   "cell_type": "code",
   "execution_count": 41,
   "metadata": {
    "scrolled": true
   },
   "outputs": [
    {
     "data": {
      "text/plain": [
       "dtype('float64')"
      ]
     },
     "execution_count": 41,
     "metadata": {},
     "output_type": "execute_result"
    }
   ],
   "source": [
    "_4.iloc[:, 18] = _4.iloc[:, 18].astype(float)\n",
    "_4.iloc[:, 18].dtype"
   ]
  },
  {
   "cell_type": "markdown",
   "metadata": {},
   "source": [
    "Let's clean column 23."
   ]
  },
  {
   "cell_type": "code",
   "execution_count": 42,
   "metadata": {
    "scrolled": true
   },
   "outputs": [
    {
     "data": {
      "text/plain": [
       "36    7 pairs\n",
       "Name: How many functioning shoes do you own currently?, dtype: object"
      ]
     },
     "execution_count": 42,
     "metadata": {},
     "output_type": "execute_result"
    }
   ],
   "source": [
    "_4.iloc[:, 23][np.logical_not(_4.iloc[:, 23].str.isnumeric())]"
   ]
  },
  {
   "cell_type": "code",
   "execution_count": 43,
   "metadata": {},
   "outputs": [
    {
     "data": {
      "text/plain": [
       "'7 pairs'"
      ]
     },
     "execution_count": 43,
     "metadata": {},
     "output_type": "execute_result"
    }
   ],
   "source": [
    "_4.iloc[35, 23]"
   ]
  },
  {
   "cell_type": "code",
   "execution_count": 44,
   "metadata": {},
   "outputs": [],
   "source": [
    "_4.iloc[35, 23] = 7"
   ]
  },
  {
   "cell_type": "code",
   "execution_count": 45,
   "metadata": {
    "scrolled": false
   },
   "outputs": [
    {
     "data": {
      "text/plain": [
       "dtype('float64')"
      ]
     },
     "execution_count": 45,
     "metadata": {},
     "output_type": "execute_result"
    }
   ],
   "source": [
    "_4.iloc[:, 23] = _4.iloc[:, 23].astype(float)\n",
    "_4.iloc[:, 23].dtype"
   ]
  },
  {
   "cell_type": "markdown",
   "metadata": {},
   "source": [
    "Let's clean column 28."
   ]
  },
  {
   "cell_type": "code",
   "execution_count": 46,
   "metadata": {
    "scrolled": true
   },
   "outputs": [
    {
     "data": {
      "text/plain": [
       "8     daily\n",
       "25      ~20\n",
       "Name: How many times in a month do you go to the mall?, dtype: object"
      ]
     },
     "execution_count": 46,
     "metadata": {},
     "output_type": "execute_result"
    }
   ],
   "source": [
    "_4.iloc[:, 28][np.logical_not(_4.iloc[:, 28].str.isnumeric())]"
   ]
  },
  {
   "cell_type": "code",
   "execution_count": 47,
   "metadata": {},
   "outputs": [],
   "source": [
    "n = 28\n",
    "_4.iloc[8, n] = 30\n",
    "_4.iloc[24, n] = 20"
   ]
  },
  {
   "cell_type": "code",
   "execution_count": 48,
   "metadata": {
    "scrolled": true
   },
   "outputs": [
    {
     "data": {
      "text/plain": [
       "dtype('float64')"
      ]
     },
     "execution_count": 48,
     "metadata": {},
     "output_type": "execute_result"
    }
   ],
   "source": [
    "_4.iloc[:, n] = _4.iloc[:, n].astype(float)\n",
    "_4.iloc[:, n].dtype"
   ]
  },
  {
   "cell_type": "markdown",
   "metadata": {},
   "source": [
    "Let's clean column 32."
   ]
  },
  {
   "cell_type": "code",
   "execution_count": 49,
   "metadata": {
    "scrolled": true
   },
   "outputs": [
    {
     "data": {
      "text/plain": [
       "25    twice a month\n",
       "Name: How many times in a month do you eat in Jollibee?, dtype: object"
      ]
     },
     "execution_count": 49,
     "metadata": {},
     "output_type": "execute_result"
    }
   ],
   "source": [
    "n = 32\n",
    "_4.iloc[:, n][np.logical_not(_4.iloc[:, n].str.isnumeric())]"
   ]
  },
  {
   "cell_type": "code",
   "execution_count": 50,
   "metadata": {},
   "outputs": [
    {
     "data": {
      "text/plain": [
       "'twice a month'"
      ]
     },
     "execution_count": 50,
     "metadata": {},
     "output_type": "execute_result"
    }
   ],
   "source": [
    "_4.iloc[24, n]"
   ]
  },
  {
   "cell_type": "code",
   "execution_count": 51,
   "metadata": {},
   "outputs": [],
   "source": [
    "_4.iloc[24, n] = 2"
   ]
  },
  {
   "cell_type": "code",
   "execution_count": 52,
   "metadata": {
    "scrolled": false
   },
   "outputs": [
    {
     "data": {
      "text/plain": [
       "dtype('float64')"
      ]
     },
     "execution_count": 52,
     "metadata": {},
     "output_type": "execute_result"
    }
   ],
   "source": [
    "_4.iloc[:, n] = _4.iloc[:, n].astype(float)\n",
    "_4.iloc[:, n].dtype"
   ]
  },
  {
   "cell_type": "markdown",
   "metadata": {},
   "source": [
    "Let's clean column 33."
   ]
  },
  {
   "cell_type": "code",
   "execution_count": 53,
   "metadata": {
    "scrolled": true
   },
   "outputs": [
    {
     "data": {
      "text/plain": [
       "9             daily\n",
       "25    twice a month\n",
       "40             Once\n",
       "Name: How many times in a week do you cook at home?, dtype: object"
      ]
     },
     "execution_count": 53,
     "metadata": {},
     "output_type": "execute_result"
    }
   ],
   "source": [
    "n = 33\n",
    "_4.iloc[:, n][np.logical_not(_4.iloc[:, n].str.isnumeric())]"
   ]
  },
  {
   "cell_type": "code",
   "execution_count": 54,
   "metadata": {},
   "outputs": [
    {
     "data": {
      "text/plain": [
       "'Once'"
      ]
     },
     "execution_count": 54,
     "metadata": {},
     "output_type": "execute_result"
    }
   ],
   "source": [
    "_4.iloc[39, n]"
   ]
  },
  {
   "cell_type": "code",
   "execution_count": 55,
   "metadata": {},
   "outputs": [],
   "source": [
    "_4.iloc[9, n] = 7\n",
    "_4.iloc[24, n] = 0.5\n",
    "_4.iloc[39, n] = 1"
   ]
  },
  {
   "cell_type": "code",
   "execution_count": 56,
   "metadata": {
    "scrolled": true
   },
   "outputs": [
    {
     "data": {
      "text/plain": [
       "dtype('float64')"
      ]
     },
     "execution_count": 56,
     "metadata": {},
     "output_type": "execute_result"
    }
   ],
   "source": [
    "_4.iloc[:, n] = _4.iloc[:, n].astype(float)\n",
    "_4.iloc[:, n].dtype"
   ]
  },
  {
   "cell_type": "markdown",
   "metadata": {},
   "source": [
    "Let's clean column 34."
   ]
  },
  {
   "cell_type": "code",
   "execution_count": 57,
   "metadata": {
    "scrolled": true
   },
   "outputs": [
    {
     "data": {
      "text/plain": [
       "9    na\n",
       "Name: How many times in a month do you go out with your s.o.?, dtype: object"
      ]
     },
     "execution_count": 57,
     "metadata": {},
     "output_type": "execute_result"
    }
   ],
   "source": [
    "n = 34\n",
    "_4.iloc[:, n][np.logical_not(_4.iloc[:, n].str.isnumeric())]"
   ]
  },
  {
   "cell_type": "code",
   "execution_count": 58,
   "metadata": {},
   "outputs": [
    {
     "data": {
      "text/plain": [
       "'na'"
      ]
     },
     "execution_count": 58,
     "metadata": {},
     "output_type": "execute_result"
    }
   ],
   "source": [
    "_4.iloc[9, n]"
   ]
  },
  {
   "cell_type": "code",
   "execution_count": 59,
   "metadata": {},
   "outputs": [
    {
     "data": {
      "text/plain": [
       "29    NaN\n",
       "30    NaN\n",
       "Name: How many times in a month do you go out with your s.o.?, dtype: object"
      ]
     },
     "execution_count": 59,
     "metadata": {},
     "output_type": "execute_result"
    }
   ],
   "source": [
    "_4.iloc[:,n][_4.iloc[:, n].isnull()]"
   ]
  },
  {
   "cell_type": "code",
   "execution_count": 60,
   "metadata": {},
   "outputs": [
    {
     "data": {
      "text/plain": [
       "nan"
      ]
     },
     "execution_count": 60,
     "metadata": {},
     "output_type": "execute_result"
    }
   ],
   "source": [
    "_4.iloc[28, n]"
   ]
  },
  {
   "cell_type": "code",
   "execution_count": 61,
   "metadata": {},
   "outputs": [],
   "source": [
    "_4.iloc[9, n] = 0\n",
    "_4.iloc[29, n] = 0\n",
    "_4.iloc[28, n] = 0"
   ]
  },
  {
   "cell_type": "code",
   "execution_count": 62,
   "metadata": {
    "scrolled": false
   },
   "outputs": [
    {
     "data": {
      "text/plain": [
       "dtype('float64')"
      ]
     },
     "execution_count": 62,
     "metadata": {},
     "output_type": "execute_result"
    }
   ],
   "source": [
    "_4.iloc[:, n] = _4.iloc[:, n].astype(float)\n",
    "_4.iloc[:, n].dtype"
   ]
  },
  {
   "cell_type": "markdown",
   "metadata": {},
   "source": [
    "Let's clean column 35."
   ]
  },
  {
   "cell_type": "code",
   "execution_count": 63,
   "metadata": {
    "scrolled": true
   },
   "outputs": [
    {
     "data": {
      "text/plain": [
       "9    <10\n",
       "Name: How many movies do you see inside a theater in a year?, dtype: object"
      ]
     },
     "execution_count": 63,
     "metadata": {},
     "output_type": "execute_result"
    }
   ],
   "source": [
    "n = 35\n",
    "_4.iloc[:, n][np.logical_not(_4.iloc[:, n].str.isnumeric())]"
   ]
  },
  {
   "cell_type": "code",
   "execution_count": 64,
   "metadata": {},
   "outputs": [
    {
     "data": {
      "text/plain": [
       "'<10'"
      ]
     },
     "execution_count": 64,
     "metadata": {},
     "output_type": "execute_result"
    }
   ],
   "source": [
    "_4.iloc[9, n]"
   ]
  },
  {
   "cell_type": "code",
   "execution_count": 65,
   "metadata": {},
   "outputs": [],
   "source": [
    "_4.iloc[9, n] = 10"
   ]
  },
  {
   "cell_type": "code",
   "execution_count": 66,
   "metadata": {
    "scrolled": false
   },
   "outputs": [
    {
     "data": {
      "text/plain": [
       "dtype('float64')"
      ]
     },
     "execution_count": 66,
     "metadata": {},
     "output_type": "execute_result"
    }
   ],
   "source": [
    "_4.iloc[:, n] = _4.iloc[:, n].astype(float)\n",
    "_4.iloc[:, n].dtype"
   ]
  },
  {
   "cell_type": "markdown",
   "metadata": {},
   "source": [
    "Let's clean column 36."
   ]
  },
  {
   "cell_type": "code",
   "execution_count": 67,
   "metadata": {
    "scrolled": true
   },
   "outputs": [
    {
     "data": {
      "text/plain": [
       "9    na\n",
       "Name: How many years in your life have you been a smoker?, dtype: object"
      ]
     },
     "execution_count": 67,
     "metadata": {},
     "output_type": "execute_result"
    }
   ],
   "source": [
    "n = 36\n",
    "_4.iloc[:, n][np.logical_not(_4.iloc[:, n].str.isnumeric())]"
   ]
  },
  {
   "cell_type": "code",
   "execution_count": 68,
   "metadata": {},
   "outputs": [
    {
     "data": {
      "text/plain": [
       "'na'"
      ]
     },
     "execution_count": 68,
     "metadata": {},
     "output_type": "execute_result"
    }
   ],
   "source": [
    "_4.iloc[9, n]"
   ]
  },
  {
   "cell_type": "code",
   "execution_count": 69,
   "metadata": {},
   "outputs": [],
   "source": [
    "_4.iloc[9, n] = 0"
   ]
  },
  {
   "cell_type": "code",
   "execution_count": 70,
   "metadata": {
    "scrolled": false
   },
   "outputs": [
    {
     "data": {
      "text/plain": [
       "dtype('float64')"
      ]
     },
     "execution_count": 70,
     "metadata": {},
     "output_type": "execute_result"
    }
   ],
   "source": [
    "_4.iloc[:, n] = _4.iloc[:, n].astype(float)\n",
    "_4.iloc[:, n].dtype"
   ]
  },
  {
   "cell_type": "markdown",
   "metadata": {},
   "source": [
    "Let's clean column 37."
   ]
  },
  {
   "cell_type": "code",
   "execution_count": 71,
   "metadata": {
    "scrolled": true
   },
   "outputs": [
    {
     "data": {
      "text/plain": [
       "30     1L\n",
       "31    0.5\n",
       "Name: How many beers can you drink in one night?, dtype: object"
      ]
     },
     "execution_count": 71,
     "metadata": {},
     "output_type": "execute_result"
    }
   ],
   "source": [
    "n = 37\n",
    "_4.iloc[:, n][np.logical_not(_4.iloc[:, n].str.isnumeric())]"
   ]
  },
  {
   "cell_type": "code",
   "execution_count": 72,
   "metadata": {},
   "outputs": [
    {
     "data": {
      "text/plain": [
       "'1L'"
      ]
     },
     "execution_count": 72,
     "metadata": {},
     "output_type": "execute_result"
    }
   ],
   "source": [
    "_4.iloc[29, n]"
   ]
  },
  {
   "cell_type": "code",
   "execution_count": 73,
   "metadata": {},
   "outputs": [],
   "source": [
    "_4.iloc[29, n] = 3"
   ]
  },
  {
   "cell_type": "code",
   "execution_count": 74,
   "metadata": {
    "scrolled": true
   },
   "outputs": [
    {
     "data": {
      "text/plain": [
       "dtype('float64')"
      ]
     },
     "execution_count": 74,
     "metadata": {},
     "output_type": "execute_result"
    }
   ],
   "source": [
    "_4.iloc[:, n] = _4.iloc[:, n].astype(float)\n",
    "_4.iloc[:, n].dtype"
   ]
  },
  {
   "cell_type": "markdown",
   "metadata": {},
   "source": [
    "Let's clean column 38"
   ]
  },
  {
   "cell_type": "code",
   "execution_count": 75,
   "metadata": {
    "scrolled": true
   },
   "outputs": [
    {
     "data": {
      "text/plain": [
       "1     3 slices\n",
       "13         1/3\n",
       "30     1 whole\n",
       "39        0.33\n",
       "Name: How many pizzas can you eat in one sitting?, dtype: object"
      ]
     },
     "execution_count": 75,
     "metadata": {},
     "output_type": "execute_result"
    }
   ],
   "source": [
    "n = 38\n",
    "_4.iloc[:, n][np.logical_not(_4.iloc[:, n].str.isnumeric())]"
   ]
  },
  {
   "cell_type": "code",
   "execution_count": 76,
   "metadata": {},
   "outputs": [
    {
     "data": {
      "text/plain": [
       "'1 whole'"
      ]
     },
     "execution_count": 76,
     "metadata": {},
     "output_type": "execute_result"
    }
   ],
   "source": [
    "_4.iloc[29, n]"
   ]
  },
  {
   "cell_type": "markdown",
   "metadata": {},
   "source": [
    "We convert 1 whole of pizza to 12 slices"
   ]
  },
  {
   "cell_type": "code",
   "execution_count": 77,
   "metadata": {},
   "outputs": [],
   "source": [
    "_4.iloc[1, n] = 3\n",
    "_4.iloc[13, n] = 0.33333\n",
    "_4.iloc[29, n] = 12"
   ]
  },
  {
   "cell_type": "code",
   "execution_count": 78,
   "metadata": {
    "scrolled": false
   },
   "outputs": [
    {
     "data": {
      "text/plain": [
       "dtype('float64')"
      ]
     },
     "execution_count": 78,
     "metadata": {},
     "output_type": "execute_result"
    }
   ],
   "source": [
    "_4.iloc[:, n] = _4.iloc[:, n].astype(float)\n",
    "_4.iloc[:, n].dtype"
   ]
  },
  {
   "cell_type": "markdown",
   "metadata": {},
   "source": [
    "Let's clean column 43"
   ]
  },
  {
   "cell_type": "code",
   "execution_count": 79,
   "metadata": {
    "scrolled": true
   },
   "outputs": [
    {
     "data": {
      "text/plain": [
       "8     150+\n",
       "9      <10\n",
       "25     30+\n",
       "39     50+\n",
       "Name: How many songs do you know the lyrics to?, dtype: object"
      ]
     },
     "execution_count": 79,
     "metadata": {},
     "output_type": "execute_result"
    }
   ],
   "source": [
    "n = 43\n",
    "_4.iloc[:, n][np.logical_not(_4.iloc[:, n].str.isnumeric())]"
   ]
  },
  {
   "cell_type": "code",
   "execution_count": 80,
   "metadata": {},
   "outputs": [
    {
     "data": {
      "text/plain": [
       "'50+'"
      ]
     },
     "execution_count": 80,
     "metadata": {},
     "output_type": "execute_result"
    }
   ],
   "source": [
    "_4.iloc[38, n]"
   ]
  },
  {
   "cell_type": "code",
   "execution_count": 81,
   "metadata": {},
   "outputs": [],
   "source": [
    "_4.iloc[8, n] = 150\n",
    "_4.iloc[9, n] = 10\n",
    "_4.iloc[24, n] = 30\n",
    "_4.iloc[38, n] = 50"
   ]
  },
  {
   "cell_type": "code",
   "execution_count": 82,
   "metadata": {
    "scrolled": true
   },
   "outputs": [
    {
     "data": {
      "text/plain": [
       "dtype('float64')"
      ]
     },
     "execution_count": 82,
     "metadata": {},
     "output_type": "execute_result"
    }
   ],
   "source": [
    "_4.iloc[:, n] = _4.iloc[:, n].astype(float)\n",
    "_4.iloc[:, n].dtype"
   ]
  },
  {
   "cell_type": "markdown",
   "metadata": {},
   "source": [
    "Let's clean column 44"
   ]
  },
  {
   "cell_type": "code",
   "execution_count": 83,
   "metadata": {
    "scrolled": true
   },
   "outputs": [
    {
     "data": {
      "text/plain": [
       "1       4.5\n",
       "3       5.0\n",
       "7      3.00\n",
       "9       3.5\n",
       "10     4.75\n",
       "12       B+\n",
       "13    4 - 5\n",
       "17     4.25\n",
       "19     5.00\n",
       "21        A\n",
       "22      4.0\n",
       "24      4.0\n",
       "28     4.75\n",
       "30      3.5\n",
       "34     3.25\n",
       "37      4.5\n",
       "38     4..5\n",
       "41      4.5\n",
       "42     4.75\n",
       "Name: What do you think your grade in this class will be?, dtype: object"
      ]
     },
     "execution_count": 83,
     "metadata": {},
     "output_type": "execute_result"
    }
   ],
   "source": [
    "n = 44\n",
    "_4.iloc[:, n][np.logical_not(_4.iloc[:, n].str.isnumeric())]"
   ]
  },
  {
   "cell_type": "code",
   "execution_count": 84,
   "metadata": {},
   "outputs": [
    {
     "data": {
      "text/plain": [
       "'4..5'"
      ]
     },
     "execution_count": 84,
     "metadata": {},
     "output_type": "execute_result"
    }
   ],
   "source": [
    "_4.iloc[37, n]"
   ]
  },
  {
   "cell_type": "markdown",
   "metadata": {},
   "source": [
    "We convert B+ to 4.5 and A to 5"
   ]
  },
  {
   "cell_type": "code",
   "execution_count": 85,
   "metadata": {},
   "outputs": [],
   "source": [
    "_4.iloc[13, n] = 4.5\n",
    "_4.iloc[12, n] = 4.5\n",
    "_4.iloc[21, n] = 5\n",
    "_4.iloc[37, n] = 4.5"
   ]
  },
  {
   "cell_type": "code",
   "execution_count": 86,
   "metadata": {
    "scrolled": true
   },
   "outputs": [
    {
     "data": {
      "text/plain": [
       "dtype('float64')"
      ]
     },
     "execution_count": 86,
     "metadata": {},
     "output_type": "execute_result"
    }
   ],
   "source": [
    "_4.iloc[:, n] = _4.iloc[:, n].astype(float)\n",
    "_4.iloc[:, n].dtype"
   ]
  },
  {
   "cell_type": "markdown",
   "metadata": {},
   "source": [
    "Let's check the remaining categories with object types."
   ]
  },
  {
   "cell_type": "code",
   "execution_count": 87,
   "metadata": {},
   "outputs": [
    {
     "name": "stdout",
     "output_type": "stream",
     "text": [
      "5 In  a relationship (Yes ,  No,  it’s complicated):  object\n",
      "7 Male or female? (pls type M or F):  object\n",
      "11 What is your favorite color?:  object\n",
      "13 Are you predominantly right handed or left handed? (pls type R or L):  object\n",
      "14 What is your favorite car brand? Toyota, Honda, Hyundai, BMW, Mercedes, etc.:  object\n",
      "16 What phone network do you use? Globe, Smart, Sun, etc.:  object\n",
      "17 What phone brand do you use? Samsung, Apple, Vivo, Huawei, Sony, etc.:  object\n",
      "21 What is your favorite sport? Basketball, football, volleyball, tennis, etc.:  object\n",
      "22 What browser do you prefer? Chrome, IE, Firefox, Safari:  object\n",
      "24 What is your blood type? O A B AB:  object\n",
      "27 Where is your ideal city to live in?:  object\n",
      "29 What is your favorite mall? SM, Ayala, Robinsons, Rustan’s, etc.:  object\n",
      "30 What is your favorite fastfood place?:  object\n",
      "31 What is your favorite meat to eat? Chicken, pork, beef, fish, etc.:  object\n",
      "42 What kind of songs do you usually listen to? Pop, hip-hop, R&B, alternative, rock, classical, country, jazz, etc.:  object\n"
     ]
    }
   ],
   "source": [
    "for i in range(len(_4.columns)):\n",
    "    typ = _4.iloc[:, i].dtype\n",
    "    if typ == object:\n",
    "        print('{} {}: '.format(i, _4.columns[i]), _4.iloc[:, i].dtype)"
   ]
  },
  {
   "cell_type": "code",
   "execution_count": 88,
   "metadata": {},
   "outputs": [
    {
     "data": {
      "text/plain": [
       "No                  22\n",
       "Yes                 19\n",
       "It's complicated     1\n",
       "Name: In  a relationship (Yes ,  No,  it’s complicated), dtype: int64"
      ]
     },
     "execution_count": 88,
     "metadata": {},
     "output_type": "execute_result"
    }
   ],
   "source": [
    "_4.iloc[:, 5].value_counts()"
   ]
  },
  {
   "cell_type": "code",
   "execution_count": 89,
   "metadata": {},
   "outputs": [
    {
     "data": {
      "text/plain": [
       "M    35\n",
       "F     7\n",
       "Name: Male or female? (pls type M or F), dtype: int64"
      ]
     },
     "execution_count": 89,
     "metadata": {},
     "output_type": "execute_result"
    }
   ],
   "source": [
    "_4.iloc[:, 7].value_counts()"
   ]
  },
  {
   "cell_type": "code",
   "execution_count": 90,
   "metadata": {},
   "outputs": [
    {
     "data": {
      "text/plain": [
       "Blue         13\n",
       "blue          7\n",
       "black         4\n",
       "Green         3\n",
       "Red           2\n",
       "red           2\n",
       "Black         1\n",
       "orange        1\n",
       "Taupe         1\n",
       "pink          1\n",
       "teal          1\n",
       "gray          1\n",
       "green         1\n",
       "purple        1\n",
       "white         1\n",
       "maroon        1\n",
       "Bluegreen     1\n",
       "Name: What is your favorite color?, dtype: int64"
      ]
     },
     "execution_count": 90,
     "metadata": {},
     "output_type": "execute_result"
    }
   ],
   "source": [
    "_4.iloc[:, 11].value_counts()"
   ]
  },
  {
   "cell_type": "markdown",
   "metadata": {},
   "source": [
    "Let's lower make all color lowercase."
   ]
  },
  {
   "cell_type": "code",
   "execution_count": 91,
   "metadata": {},
   "outputs": [],
   "source": [
    "_4.iloc[:, 11] = _4.iloc[:, 11].str.lower()"
   ]
  },
  {
   "cell_type": "code",
   "execution_count": 92,
   "metadata": {},
   "outputs": [
    {
     "data": {
      "text/plain": [
       "blue         20\n",
       "black         5\n",
       "green         4\n",
       "red           4\n",
       "taupe         1\n",
       "teal          1\n",
       "purple        1\n",
       "orange        1\n",
       "bluegreen     1\n",
       "pink          1\n",
       "gray          1\n",
       "white         1\n",
       "maroon        1\n",
       "Name: What is your favorite color?, dtype: int64"
      ]
     },
     "execution_count": 92,
     "metadata": {},
     "output_type": "execute_result"
    }
   ],
   "source": [
    "_4.iloc[:, 11].value_counts()"
   ]
  },
  {
   "cell_type": "code",
   "execution_count": 93,
   "metadata": {},
   "outputs": [
    {
     "data": {
      "text/plain": [
       "R        34\n",
       "L         7\n",
       "right     1\n",
       "Name: Are you predominantly right handed or left handed? (pls type R or L), dtype: int64"
      ]
     },
     "execution_count": 93,
     "metadata": {},
     "output_type": "execute_result"
    }
   ],
   "source": [
    "_4.iloc[:, 13].value_counts()"
   ]
  },
  {
   "cell_type": "code",
   "execution_count": 94,
   "metadata": {},
   "outputs": [
    {
     "data": {
      "text/plain": [
       "Int64Index([9], dtype='int64')"
      ]
     },
     "execution_count": 94,
     "metadata": {},
     "output_type": "execute_result"
    }
   ],
   "source": [
    "_4[_4.iloc[:, 13] == 'right'].index"
   ]
  },
  {
   "cell_type": "code",
   "execution_count": 95,
   "metadata": {},
   "outputs": [],
   "source": [
    "_4.iloc[9, 13] = 'R'"
   ]
  },
  {
   "cell_type": "code",
   "execution_count": 96,
   "metadata": {},
   "outputs": [
    {
     "data": {
      "text/plain": [
       "R    35\n",
       "L     7\n",
       "Name: Are you predominantly right handed or left handed? (pls type R or L), dtype: int64"
      ]
     },
     "execution_count": 96,
     "metadata": {},
     "output_type": "execute_result"
    }
   ],
   "source": [
    "_4.iloc[:, 13].value_counts()"
   ]
  },
  {
   "cell_type": "code",
   "execution_count": 97,
   "metadata": {},
   "outputs": [
    {
     "data": {
      "text/plain": [
       "Toyota         11\n",
       "Honda           6\n",
       "Hyundai         3\n",
       "Volvo           3\n",
       "Mazda           2\n",
       "Ford            2\n",
       "BMW             2\n",
       "Subaru          1\n",
       "none            1\n",
       "None            1\n",
       "Lexus           1\n",
       "honda           1\n",
       "Mitsubishi      1\n",
       "lamborghini     1\n",
       "Jeep            1\n",
       "Audi            1\n",
       "Tesla           1\n",
       "Lamborghini     1\n",
       "Ferarri         1\n",
       " None           1\n",
       "Name: What is your favorite car brand? Toyota, Honda, Hyundai, BMW, Mercedes, etc., dtype: int64"
      ]
     },
     "execution_count": 97,
     "metadata": {},
     "output_type": "execute_result"
    }
   ],
   "source": [
    "_4.iloc[:, 14].value_counts()"
   ]
  },
  {
   "cell_type": "markdown",
   "metadata": {},
   "source": [
    "Let's remove spaces and convert all to lowercase."
   ]
  },
  {
   "cell_type": "code",
   "execution_count": 98,
   "metadata": {},
   "outputs": [],
   "source": [
    "_4.iloc[:, 14] = _4.iloc[:, 14].str.replace(\" \", \"\").str.lower()"
   ]
  },
  {
   "cell_type": "code",
   "execution_count": 99,
   "metadata": {},
   "outputs": [
    {
     "data": {
      "text/plain": [
       "toyota         11\n",
       "honda           7\n",
       "volvo           3\n",
       "hyundai         3\n",
       "none            3\n",
       "bmw             2\n",
       "lamborghini     2\n",
       "ford            2\n",
       "mazda           2\n",
       "lexus           1\n",
       "audi            1\n",
       "subaru          1\n",
       "ferarri         1\n",
       "jeep            1\n",
       "mitsubishi      1\n",
       "tesla           1\n",
       "Name: What is your favorite car brand? Toyota, Honda, Hyundai, BMW, Mercedes, etc., dtype: int64"
      ]
     },
     "execution_count": 99,
     "metadata": {},
     "output_type": "execute_result"
    }
   ],
   "source": [
    "_4.iloc[:, 14].value_counts()"
   ]
  },
  {
   "cell_type": "code",
   "execution_count": 100,
   "metadata": {},
   "outputs": [
    {
     "data": {
      "text/plain": [
       "Globe    33\n",
       "Smart     5\n",
       "globe     2\n",
       "Sun       1\n",
       "TM        1\n",
       "Name: What phone network do you use? Globe, Smart, Sun, etc., dtype: int64"
      ]
     },
     "execution_count": 100,
     "metadata": {},
     "output_type": "execute_result"
    }
   ],
   "source": [
    "_4.iloc[:, 16].value_counts()"
   ]
  },
  {
   "cell_type": "code",
   "execution_count": 101,
   "metadata": {},
   "outputs": [],
   "source": [
    "_4.iloc[:, 16] = _4.iloc[:, 16].str.lower()"
   ]
  },
  {
   "cell_type": "code",
   "execution_count": 102,
   "metadata": {},
   "outputs": [
    {
     "data": {
      "text/plain": [
       "globe    35\n",
       "smart     5\n",
       "sun       1\n",
       "tm        1\n",
       "Name: What phone network do you use? Globe, Smart, Sun, etc., dtype: int64"
      ]
     },
     "execution_count": 102,
     "metadata": {},
     "output_type": "execute_result"
    }
   ],
   "source": [
    "_4.iloc[:, 16].value_counts()"
   ]
  },
  {
   "cell_type": "code",
   "execution_count": 103,
   "metadata": {},
   "outputs": [],
   "source": [
    "_4.iloc[:, 17] = _4.iloc[:, 17].str.lower()"
   ]
  },
  {
   "cell_type": "code",
   "execution_count": 104,
   "metadata": {},
   "outputs": [
    {
     "data": {
      "text/plain": [
       "apple      20\n",
       "samsung    12\n",
       "asus        2\n",
       "oppo        2\n",
       "nokia       1\n",
       "lenovo      1\n",
       "google      1\n",
       "oneplus     1\n",
       "huawei      1\n",
       "lennovo     1\n",
       "Name: What phone brand do you use? Samsung, Apple, Vivo, Huawei, Sony, etc., dtype: int64"
      ]
     },
     "execution_count": 104,
     "metadata": {},
     "output_type": "execute_result"
    }
   ],
   "source": [
    "_4.iloc[:, 17].value_counts()"
   ]
  },
  {
   "cell_type": "code",
   "execution_count": 105,
   "metadata": {},
   "outputs": [
    {
     "data": {
      "text/plain": [
       "Int64Index([13], dtype='int64')"
      ]
     },
     "execution_count": 105,
     "metadata": {},
     "output_type": "execute_result"
    }
   ],
   "source": [
    "_4[_4.iloc[:, 17] == 'lennovo'].index"
   ]
  },
  {
   "cell_type": "code",
   "execution_count": 106,
   "metadata": {},
   "outputs": [],
   "source": [
    "_4.iloc[13, 17] = 'lenovo'"
   ]
  },
  {
   "cell_type": "code",
   "execution_count": 107,
   "metadata": {},
   "outputs": [
    {
     "data": {
      "text/plain": [
       "apple      20\n",
       "samsung    12\n",
       "lenovo      2\n",
       "asus        2\n",
       "oppo        2\n",
       "google      1\n",
       "oneplus     1\n",
       "huawei      1\n",
       "nokia       1\n",
       "Name: What phone brand do you use? Samsung, Apple, Vivo, Huawei, Sony, etc., dtype: int64"
      ]
     },
     "execution_count": 107,
     "metadata": {},
     "output_type": "execute_result"
    }
   ],
   "source": [
    "_4.iloc[:, 17].value_counts()"
   ]
  },
  {
   "cell_type": "code",
   "execution_count": 108,
   "metadata": {},
   "outputs": [
    {
     "data": {
      "text/plain": [
       "badminton                               8\n",
       "basketball                              8\n",
       "volleyball                              5\n",
       "table tennis                            4\n",
       "football                                3\n",
       "tennis                                  3\n",
       "boxing                                  2\n",
       "crossfit                                2\n",
       "judo                                    1\n",
       "swimming                                1\n",
       "competitive real time strategy games    1\n",
       "none                                    1\n",
       "sleeping                                1\n",
       "basketbal                               1\n",
       "chess                                   1\n",
       "Name: What is your favorite sport? Basketball, football, volleyball, tennis, etc., dtype: int64"
      ]
     },
     "execution_count": 108,
     "metadata": {},
     "output_type": "execute_result"
    }
   ],
   "source": [
    "_4.iloc[:, 21] = _4.iloc[:, 21].str.lower()\n",
    "_4.iloc[:, 21].value_counts()"
   ]
  },
  {
   "cell_type": "code",
   "execution_count": 109,
   "metadata": {},
   "outputs": [
    {
     "data": {
      "text/plain": [
       "chrome     36\n",
       "firefox     3\n",
       "safari      2\n",
       "ie          1\n",
       "Name: What browser do you prefer? Chrome, IE, Firefox, Safari, dtype: int64"
      ]
     },
     "execution_count": 109,
     "metadata": {},
     "output_type": "execute_result"
    }
   ],
   "source": [
    "n = 22\n",
    "_4.iloc[:, n] = _4.iloc[:, n].str.lower()\n",
    "_4.iloc[:, n].value_counts()"
   ]
  },
  {
   "cell_type": "code",
   "execution_count": 110,
   "metadata": {},
   "outputs": [
    {
     "data": {
      "text/plain": [
       "o     19\n",
       "b     12\n",
       "a      6\n",
       "ab     5\n",
       "Name: What is your blood type? O A B AB, dtype: int64"
      ]
     },
     "execution_count": 110,
     "metadata": {},
     "output_type": "execute_result"
    }
   ],
   "source": [
    "n = 24\n",
    "_4.iloc[:, n] = _4.iloc[:, n].str.lower()\n",
    "_4.iloc[:, n].value_counts()"
   ]
  },
  {
   "cell_type": "code",
   "execution_count": 111,
   "metadata": {},
   "outputs": [
    {
     "data": {
      "text/plain": [
       "singapore               3\n",
       "paris                   2\n",
       "new york                2\n",
       "tagaytay                2\n",
       "makati                  2\n",
       "warsaw                  1\n",
       "bern                    1\n",
       "baguio                  1\n",
       "somewhere in europe     1\n",
       "baliuag                 1\n",
       "toronto                 1\n",
       "lipa                    1\n",
       "melbourne               1\n",
       "hometown                1\n",
       "polilio                 1\n",
       "tagbilaran, bohol       1\n",
       "cebu                    1\n",
       "tagaytay city           1\n",
       "metro manila            1\n",
       "st. gallen              1\n",
       "mandaue                 1\n",
       "urban                   1\n",
       "taipei                  1\n",
       "zurich                  1\n",
       "yakutsk city            1\n",
       "mandaluyong city        1\n",
       "manila                  1\n",
       "cavite                  1\n",
       "mandaluyong             1\n",
       "paranaque               1\n",
       "vancouver               1\n",
       "alabang                 1\n",
       "hong kong               1\n",
       "laguna                  1\n",
       "legazpi                 1\n",
       "yokohama                1\n",
       "Name: Where is your ideal city to live in?, dtype: int64"
      ]
     },
     "execution_count": 111,
     "metadata": {},
     "output_type": "execute_result"
    }
   ],
   "source": [
    "n = 27\n",
    "_4.iloc[:, n] = _4.iloc[:, n].str.lower()\n",
    "_4.iloc[:, n].value_counts()"
   ]
  },
  {
   "cell_type": "code",
   "execution_count": 112,
   "metadata": {},
   "outputs": [
    {
     "data": {
      "text/plain": [
       "ayala             19\n",
       "sm                11\n",
       "greenbelt          4\n",
       "up town center     1\n",
       "rustans            1\n",
       "mall of asia       1\n",
       "farmer's plaza     1\n",
       "shang              1\n",
       "rockwell           1\n",
       "shangri-la         1\n",
       "robinsons          1\n",
       "Name: What is your favorite mall? SM, Ayala, Robinsons, Rustan’s, etc., dtype: int64"
      ]
     },
     "execution_count": 112,
     "metadata": {},
     "output_type": "execute_result"
    }
   ],
   "source": [
    "n = 29\n",
    "_4.iloc[:, n] = _4.iloc[:, n].str.lower()\n",
    "_4.iloc[:, n].value_counts()"
   ]
  },
  {
   "cell_type": "code",
   "execution_count": 113,
   "metadata": {},
   "outputs": [
    {
     "data": {
      "text/plain": [
       "Int64Index([30], dtype='int64')"
      ]
     },
     "execution_count": 113,
     "metadata": {},
     "output_type": "execute_result"
    }
   ],
   "source": [
    "_4[_4.iloc[:, n] == 'shang'].index"
   ]
  },
  {
   "cell_type": "code",
   "execution_count": 114,
   "metadata": {},
   "outputs": [],
   "source": [
    "_4.iloc[29, n] = 'shangri-la'"
   ]
  },
  {
   "cell_type": "code",
   "execution_count": 115,
   "metadata": {},
   "outputs": [
    {
     "data": {
      "text/plain": [
       "ayala             19\n",
       "sm                11\n",
       "greenbelt          4\n",
       "shangri-la         2\n",
       "up town center     1\n",
       "rustans            1\n",
       "mall of asia       1\n",
       "farmer's plaza     1\n",
       "rockwell           1\n",
       "robinsons          1\n",
       "Name: What is your favorite mall? SM, Ayala, Robinsons, Rustan’s, etc., dtype: int64"
      ]
     },
     "execution_count": 115,
     "metadata": {},
     "output_type": "execute_result"
    }
   ],
   "source": [
    "_4.iloc[:, n].value_counts()"
   ]
  },
  {
   "cell_type": "code",
   "execution_count": 116,
   "metadata": {},
   "outputs": [
    {
     "data": {
      "text/plain": [
       "jollibee        16\n",
       "kfc              4\n",
       "mcdonalds        3\n",
       "chowking         3\n",
       "mcdonald's       3\n",
       "mcdo             2\n",
       "tokyo tokyo      2\n",
       "burger king      2\n",
       "none             1\n",
       "kenny rogers     1\n",
       "tokyo-tokyo      1\n",
       "wendy's          1\n",
       "starbucks        1\n",
       "andok's          1\n",
       "frankies         1\n",
       "Name: What is your favorite fastfood place?, dtype: int64"
      ]
     },
     "execution_count": 116,
     "metadata": {},
     "output_type": "execute_result"
    }
   ],
   "source": [
    "n = 30\n",
    "_4.iloc[:, n] = _4.iloc[:, n].str.lower()\n",
    "_4.iloc[:, n].value_counts()"
   ]
  },
  {
   "cell_type": "code",
   "execution_count": 117,
   "metadata": {},
   "outputs": [
    {
     "name": "stderr",
     "output_type": "stream",
     "text": [
      "/Users/fernandojavier/anaconda3/lib/python3.6/site-packages/ipykernel_launcher.py:2: SettingWithCopyWarning: \n",
      "A value is trying to be set on a copy of a slice from a DataFrame\n",
      "\n",
      "See the caveats in the documentation: http://pandas.pydata.org/pandas-docs/stable/indexing.html#indexing-view-versus-copy\n",
      "  \n"
     ]
    }
   ],
   "source": [
    "inds = list(_4[_4.iloc[:, n] == \"mcdonalds\"].index)\n",
    "_4.iloc[:, n][inds] = \"mcdonald's\""
   ]
  },
  {
   "cell_type": "code",
   "execution_count": 118,
   "metadata": {},
   "outputs": [
    {
     "name": "stderr",
     "output_type": "stream",
     "text": [
      "/Users/fernandojavier/anaconda3/lib/python3.6/site-packages/ipykernel_launcher.py:2: SettingWithCopyWarning: \n",
      "A value is trying to be set on a copy of a slice from a DataFrame\n",
      "\n",
      "See the caveats in the documentation: http://pandas.pydata.org/pandas-docs/stable/indexing.html#indexing-view-versus-copy\n",
      "  \n"
     ]
    },
    {
     "data": {
      "text/plain": [
       "jollibee        16\n",
       "mcdonald's       8\n",
       "kfc              4\n",
       "chowking         3\n",
       "tokyo tokyo      2\n",
       "burger king      2\n",
       "none             1\n",
       "kenny rogers     1\n",
       "tokyo-tokyo      1\n",
       "wendy's          1\n",
       "starbucks        1\n",
       "frankies         1\n",
       "andok's          1\n",
       "Name: What is your favorite fastfood place?, dtype: int64"
      ]
     },
     "execution_count": 118,
     "metadata": {},
     "output_type": "execute_result"
    }
   ],
   "source": [
    "inds = list(_4[_4.iloc[:, n] == \"mcdo\"].index)\n",
    "_4.iloc[:, n][inds] = \"mcdonald's\"\n",
    "_4.iloc[:, n].value_counts()"
   ]
  },
  {
   "cell_type": "code",
   "execution_count": 119,
   "metadata": {},
   "outputs": [
    {
     "name": "stderr",
     "output_type": "stream",
     "text": [
      "/Users/fernandojavier/anaconda3/lib/python3.6/site-packages/ipykernel_launcher.py:2: SettingWithCopyWarning: \n",
      "A value is trying to be set on a copy of a slice from a DataFrame\n",
      "\n",
      "See the caveats in the documentation: http://pandas.pydata.org/pandas-docs/stable/indexing.html#indexing-view-versus-copy\n",
      "  \n"
     ]
    },
    {
     "data": {
      "text/plain": [
       "jollibee        16\n",
       "mcdonald's       8\n",
       "kfc              4\n",
       "chowking         3\n",
       "tokyo tokyo      3\n",
       "burger king      2\n",
       "none             1\n",
       "wendy's          1\n",
       "starbucks        1\n",
       "frankies         1\n",
       "andok's          1\n",
       "kenny rogers     1\n",
       "Name: What is your favorite fastfood place?, dtype: int64"
      ]
     },
     "execution_count": 119,
     "metadata": {},
     "output_type": "execute_result"
    }
   ],
   "source": [
    "inds = list(_4[_4.iloc[:, n] == \"tokyo-tokyo\"].index)\n",
    "_4.iloc[:, n][inds] = \"tokyo tokyo\"\n",
    "_4.iloc[:, n].value_counts()"
   ]
  },
  {
   "cell_type": "code",
   "execution_count": 120,
   "metadata": {},
   "outputs": [
    {
     "data": {
      "text/plain": [
       "chicken      21\n",
       "beef          8\n",
       "pork          6\n",
       "fish          5\n",
       "salmon        1\n",
       "spaghetti     1\n",
       "Name: What is your favorite meat to eat? Chicken, pork, beef, fish, etc., dtype: int64"
      ]
     },
     "execution_count": 120,
     "metadata": {},
     "output_type": "execute_result"
    }
   ],
   "source": [
    "n = 31\n",
    "_4.iloc[:, n] = _4.iloc[:, n].str.lower()\n",
    "_4.iloc[:, n].value_counts()"
   ]
  },
  {
   "cell_type": "code",
   "execution_count": 121,
   "metadata": {},
   "outputs": [
    {
     "data": {
      "text/plain": [
       "pop                                                    8\n",
       "rock                                                   3\n",
       "alternative                                            3\n",
       "country                                                3\n",
       "edm                                                    2\n",
       "hip-hop                                                2\n",
       "indie                                                  2\n",
       "r&b                                                    2\n",
       "indie rock                                             1\n",
       "classical, pop, alternative, country                   1\n",
       "hip-hop, r&b, alternative, rock, classical, country    1\n",
       "death metal                                            1\n",
       "classical, rock                                        1\n",
       "opm                                                    1\n",
       "pop, jazz, rock, classical, r&b                        1\n",
       "classical, pop                                         1\n",
       "j-rock                                                 1\n",
       "pop, rock, classical                                   1\n",
       "love                                                   1\n",
       "alternative rock                                       1\n",
       "r&d                                                    1\n",
       "jazz, r&b, classical, country, soul                    1\n",
       "acoustic                                               1\n",
       "alternative, pop, acoustic pop, classical              1\n",
       "pop, r&b, edm                                          1\n",
       "Name: What kind of songs do you usually listen to? Pop, hip-hop, R&B, alternative, rock, classical, country, jazz, etc., dtype: int64"
      ]
     },
     "execution_count": 121,
     "metadata": {},
     "output_type": "execute_result"
    }
   ],
   "source": [
    "n = 42\n",
    "_4.iloc[:, n] = _4.iloc[:, n].str.lower()\n",
    "_4.iloc[:, n].value_counts()"
   ]
  },
  {
   "cell_type": "markdown",
   "metadata": {},
   "source": [
    "Let's save the cleaned data to a new dataframe `df_clean`."
   ]
  },
  {
   "cell_type": "code",
   "execution_count": 122,
   "metadata": {},
   "outputs": [],
   "source": [
    "df_clean = _4[:]"
   ]
  },
  {
   "cell_type": "code",
   "execution_count": 123,
   "metadata": {},
   "outputs": [
    {
     "data": {
      "text/html": [
       "<div>\n",
       "<style scoped>\n",
       "    .dataframe tbody tr th:only-of-type {\n",
       "        vertical-align: middle;\n",
       "    }\n",
       "\n",
       "    .dataframe tbody tr th {\n",
       "        vertical-align: top;\n",
       "    }\n",
       "\n",
       "    .dataframe thead th {\n",
       "        text-align: right;\n",
       "    }\n",
       "</style>\n",
       "<table border=\"1\" class=\"dataframe\">\n",
       "  <thead>\n",
       "    <tr style=\"text-align: right;\">\n",
       "      <th></th>\n",
       "      <th>Number of movies you watched from cinema in the last two weeks</th>\n",
       "      <th>Number of movies you watched from home in the last two weeks</th>\n",
       "      <th>Average Cups of coffee consumed per day</th>\n",
       "      <th>Average amount of bills paid for mobile used</th>\n",
       "      <th>Average number of posts in social media per week</th>\n",
       "      <th>In  a relationship (Yes ,  No,  it’s complicated)</th>\n",
       "      <th>How old are you?</th>\n",
       "      <th>Male or female? (pls type M or F)</th>\n",
       "      <th>What is your height in cm?</th>\n",
       "      <th>What is your weight in kg?</th>\n",
       "      <th>...</th>\n",
       "      <th>How many years in your life have you been a smoker?</th>\n",
       "      <th>How many beers can you drink in one night?</th>\n",
       "      <th>How many pizzas can you eat in one sitting?</th>\n",
       "      <th>How many times do you buy coffee in a week?</th>\n",
       "      <th>How many Facebook friends do you have? (In hundreds, e.g. 1100)</th>\n",
       "      <th>How many partners have you had?</th>\n",
       "      <th>What kind of songs do you usually listen to? Pop, hip-hop, R&amp;B, alternative, rock, classical, country, jazz, etc.</th>\n",
       "      <th>How many songs do you know the lyrics to?</th>\n",
       "      <th>What do you think your grade in this class will be?</th>\n",
       "      <th>What age do you think you will live to?</th>\n",
       "    </tr>\n",
       "  </thead>\n",
       "  <tbody>\n",
       "    <tr>\n",
       "      <th>0</th>\n",
       "      <td>0.0</td>\n",
       "      <td>0.0</td>\n",
       "      <td>0.0</td>\n",
       "      <td>1799.0</td>\n",
       "      <td>1.0</td>\n",
       "      <td>Yes</td>\n",
       "      <td>30.0</td>\n",
       "      <td>M</td>\n",
       "      <td>168.0</td>\n",
       "      <td>67.0</td>\n",
       "      <td>...</td>\n",
       "      <td>0.0</td>\n",
       "      <td>1.0</td>\n",
       "      <td>3.0</td>\n",
       "      <td>0.0</td>\n",
       "      <td>933.0</td>\n",
       "      <td>4.0</td>\n",
       "      <td>edm</td>\n",
       "      <td>5.0</td>\n",
       "      <td>5.0</td>\n",
       "      <td>128.0</td>\n",
       "    </tr>\n",
       "    <tr>\n",
       "      <th>1</th>\n",
       "      <td>0.0</td>\n",
       "      <td>0.0</td>\n",
       "      <td>0.0</td>\n",
       "      <td>0.0</td>\n",
       "      <td>0.0</td>\n",
       "      <td>No</td>\n",
       "      <td>29.0</td>\n",
       "      <td>F</td>\n",
       "      <td>160.0</td>\n",
       "      <td>62.0</td>\n",
       "      <td>...</td>\n",
       "      <td>0.0</td>\n",
       "      <td>1.0</td>\n",
       "      <td>3.0</td>\n",
       "      <td>6.0</td>\n",
       "      <td>700.0</td>\n",
       "      <td>0.0</td>\n",
       "      <td>pop, jazz, rock, classical, r&amp;b</td>\n",
       "      <td>30.0</td>\n",
       "      <td>4.5</td>\n",
       "      <td>90.0</td>\n",
       "    </tr>\n",
       "    <tr>\n",
       "      <th>2</th>\n",
       "      <td>0.0</td>\n",
       "      <td>0.0</td>\n",
       "      <td>0.0</td>\n",
       "      <td>800.0</td>\n",
       "      <td>0.0</td>\n",
       "      <td>Yes</td>\n",
       "      <td>33.0</td>\n",
       "      <td>M</td>\n",
       "      <td>177.0</td>\n",
       "      <td>150.0</td>\n",
       "      <td>...</td>\n",
       "      <td>0.0</td>\n",
       "      <td>6.0</td>\n",
       "      <td>4.0</td>\n",
       "      <td>0.0</td>\n",
       "      <td>800.0</td>\n",
       "      <td>5.0</td>\n",
       "      <td>rock</td>\n",
       "      <td>10.0</td>\n",
       "      <td>5.0</td>\n",
       "      <td>82.0</td>\n",
       "    </tr>\n",
       "  </tbody>\n",
       "</table>\n",
       "<p>3 rows × 46 columns</p>\n",
       "</div>"
      ],
      "text/plain": [
       "   Number of movies you watched from cinema in the last two weeks  \\\n",
       "0                                                0.0                \n",
       "1                                                0.0                \n",
       "2                                                0.0                \n",
       "\n",
       "   Number of movies you watched from home in the last two weeks  \\\n",
       "0                                                0.0              \n",
       "1                                                0.0              \n",
       "2                                                0.0              \n",
       "\n",
       "   Average Cups of coffee consumed per day  \\\n",
       "0                                      0.0   \n",
       "1                                      0.0   \n",
       "2                                      0.0   \n",
       "\n",
       "   Average amount of bills paid for mobile used  \\\n",
       "0                                        1799.0   \n",
       "1                                           0.0   \n",
       "2                                         800.0   \n",
       "\n",
       "   Average number of posts in social media per week  \\\n",
       "0                                               1.0   \n",
       "1                                               0.0   \n",
       "2                                               0.0   \n",
       "\n",
       "  In  a relationship (Yes ,  No,  it’s complicated)  How old are you?  \\\n",
       "0                                               Yes              30.0   \n",
       "1                                                No              29.0   \n",
       "2                                               Yes              33.0   \n",
       "\n",
       "  Male or female? (pls type M or F)  What is your height in cm?  \\\n",
       "0                                 M                       168.0   \n",
       "1                                 F                       160.0   \n",
       "2                                 M                       177.0   \n",
       "\n",
       "   What is your weight in kg?                   ...                     \\\n",
       "0                        67.0                   ...                      \n",
       "1                        62.0                   ...                      \n",
       "2                       150.0                   ...                      \n",
       "\n",
       "   How many years in your life have you been a smoker?  \\\n",
       "0                                                0.0     \n",
       "1                                                0.0     \n",
       "2                                                0.0     \n",
       "\n",
       "  How many beers can you drink in one night?  \\\n",
       "0                                        1.0   \n",
       "1                                        1.0   \n",
       "2                                        6.0   \n",
       "\n",
       "   How many pizzas can you eat in one sitting?  \\\n",
       "0                                          3.0   \n",
       "1                                          3.0   \n",
       "2                                          4.0   \n",
       "\n",
       "  How many times do you buy coffee in a week?  \\\n",
       "0                                         0.0   \n",
       "1                                         6.0   \n",
       "2                                         0.0   \n",
       "\n",
       "  How many Facebook friends do you have? (In hundreds, e.g. 1100)  \\\n",
       "0                                              933.0                \n",
       "1                                              700.0                \n",
       "2                                              800.0                \n",
       "\n",
       "   How many partners have you had?  \\\n",
       "0                              4.0   \n",
       "1                              0.0   \n",
       "2                              5.0   \n",
       "\n",
       "  What kind of songs do you usually listen to? Pop, hip-hop, R&B, alternative, rock, classical, country, jazz, etc.  \\\n",
       "0                                                edm                                                                  \n",
       "1                    pop, jazz, rock, classical, r&b                                                                  \n",
       "2                                               rock                                                                  \n",
       "\n",
       "  How many songs do you know the lyrics to?  \\\n",
       "0                                       5.0   \n",
       "1                                      30.0   \n",
       "2                                      10.0   \n",
       "\n",
       "   What do you think your grade in this class will be?  \\\n",
       "0                                                5.0     \n",
       "1                                                4.5     \n",
       "2                                                5.0     \n",
       "\n",
       "   What age do you think you will live to?  \n",
       "0                                    128.0  \n",
       "1                                     90.0  \n",
       "2                                     82.0  \n",
       "\n",
       "[3 rows x 46 columns]"
      ]
     },
     "execution_count": 123,
     "metadata": {},
     "output_type": "execute_result"
    }
   ],
   "source": [
    "df_clean.head(3)"
   ]
  },
  {
   "cell_type": "markdown",
   "metadata": {},
   "source": [
    "Below are the columns containing categorical data."
   ]
  },
  {
   "cell_type": "code",
   "execution_count": 124,
   "metadata": {},
   "outputs": [
    {
     "name": "stdout",
     "output_type": "stream",
     "text": [
      "5 In  a relationship (Yes ,  No,  it’s complicated):  object\n",
      "7 Male or female? (pls type M or F):  object\n",
      "11 What is your favorite color?:  object\n",
      "13 Are you predominantly right handed or left handed? (pls type R or L):  object\n",
      "14 What is your favorite car brand? Toyota, Honda, Hyundai, BMW, Mercedes, etc.:  object\n",
      "16 What phone network do you use? Globe, Smart, Sun, etc.:  object\n",
      "17 What phone brand do you use? Samsung, Apple, Vivo, Huawei, Sony, etc.:  object\n",
      "21 What is your favorite sport? Basketball, football, volleyball, tennis, etc.:  object\n",
      "22 What browser do you prefer? Chrome, IE, Firefox, Safari:  object\n",
      "24 What is your blood type? O A B AB:  object\n",
      "27 Where is your ideal city to live in?:  object\n",
      "29 What is your favorite mall? SM, Ayala, Robinsons, Rustan’s, etc.:  object\n",
      "30 What is your favorite fastfood place?:  object\n",
      "31 What is your favorite meat to eat? Chicken, pork, beef, fish, etc.:  object\n",
      "42 What kind of songs do you usually listen to? Pop, hip-hop, R&B, alternative, rock, classical, country, jazz, etc.:  object\n"
     ]
    }
   ],
   "source": [
    "i_cat = []\n",
    "\n",
    "for i in range(len(_4.columns)):\n",
    "    typ = _4.iloc[:, i].dtype\n",
    "    if typ == object:\n",
    "        print('{} {}: '.format(i, _4.columns[i]), _4.iloc[:, i].dtype)\n",
    "        i_cat.append(i)"
   ]
  },
  {
   "cell_type": "markdown",
   "metadata": {},
   "source": [
    "The column indices are:"
   ]
  },
  {
   "cell_type": "code",
   "execution_count": 125,
   "metadata": {},
   "outputs": [
    {
     "name": "stdout",
     "output_type": "stream",
     "text": [
      "[5, 7, 11, 13, 14, 16, 17, 21, 22, 24, 27, 29, 30, 31, 42]\n"
     ]
    }
   ],
   "source": [
    "print(i_cat)"
   ]
  },
  {
   "cell_type": "markdown",
   "metadata": {},
   "source": [
    "Below are the columns containing numerical data."
   ]
  },
  {
   "cell_type": "code",
   "execution_count": 126,
   "metadata": {},
   "outputs": [
    {
     "name": "stdout",
     "output_type": "stream",
     "text": [
      "0 Number of movies you watched from cinema in the last two weeks:  float64\n",
      "1 Number of movies you watched from home in the last two weeks:  float64\n",
      "2 Average Cups of coffee consumed per day:  float64\n",
      "3 Average amount of bills paid for mobile used:  float64\n",
      "4 Average number of posts in social media per week:  float64\n",
      "6 How old are you?:  float64\n",
      "8 What is your height in cm?:  float64\n",
      "9 What is your weight in kg?:  float64\n",
      "10 What is your waist size in inches?:  float64\n",
      "12 What is your favorite number, from 0 to 9?:  float64\n",
      "15 How many cars have you owned in your life?:  float64\n",
      "18 How many years do you use your phone before replacing it?:  float64\n",
      "19 How many cities have you lived in? (Must have lived more than 1 year):  float64\n",
      "20 How many siblings are you in the family? (not counting half siblings):  float64\n",
      "23 How many functioning shoes do you own currently?:  float64\n",
      "25 How many countries have you visited?:  float64\n",
      "26 How many provinces in the Philippines have you visited?:  float64\n",
      "28 How many times in a month do you go to the mall?:  float64\n",
      "32 How many times in a month do you eat in Jollibee?:  float64\n",
      "33 How many times in a week do you cook at home?:  float64\n",
      "34 How many times in a month do you go out with your s.o.?:  float64\n",
      "35 How many movies do you see inside a theater in a year?:  float64\n",
      "36 How many years in your life have you been a smoker?:  float64\n",
      "37 How many beers can you drink in one night?:  float64\n",
      "38 How many pizzas can you eat in one sitting?:  float64\n",
      "39 How many times do you buy coffee in a week?:  float64\n",
      "40 How many Facebook friends do you have? (In hundreds, e.g. 1100):  float64\n",
      "41 How many partners have you had?:  float64\n",
      "43 How many songs do you know the lyrics to?:  float64\n",
      "44 What do you think your grade in this class will be?:  float64\n",
      "45 What age do you think you will live to?:  float64\n"
     ]
    }
   ],
   "source": [
    "i_num = []\n",
    "\n",
    "for i in range(len(_4.columns)):\n",
    "    typ = _4.iloc[:, i].dtype\n",
    "    if typ == float:\n",
    "        print('{} {}: '.format(i, _4.columns[i]), _4.iloc[:, i].dtype)\n",
    "        i_num.append(i)"
   ]
  },
  {
   "cell_type": "markdown",
   "metadata": {},
   "source": [
    "The column indices are:"
   ]
  },
  {
   "cell_type": "code",
   "execution_count": 127,
   "metadata": {},
   "outputs": [
    {
     "name": "stdout",
     "output_type": "stream",
     "text": [
      "[0, 1, 2, 3, 4, 6, 8, 9, 10, 12, 15, 18, 19, 20, 23, 25, 26, 28, 32, 33, 34, 35, 36, 37, 38, 39, 40, 41, 43, 44, 45]\n"
     ]
    }
   ],
   "source": [
    "print(i_num)"
   ]
  },
  {
   "cell_type": "markdown",
   "metadata": {},
   "source": [
    "Let's separate the categorical from the numerical. Let's also separate the target variable."
   ]
  },
  {
   "cell_type": "code",
   "execution_count": 128,
   "metadata": {},
   "outputs": [
    {
     "data": {
      "text/plain": [
       "'In  a relationship (Yes ,  No,  it’s complicated)'"
      ]
     },
     "execution_count": 128,
     "metadata": {},
     "output_type": "execute_result"
    }
   ],
   "source": [
    "df_clean.columns[5]"
   ]
  },
  {
   "cell_type": "code",
   "execution_count": 129,
   "metadata": {},
   "outputs": [],
   "source": [
    "df_num = df_clean.iloc[:, i_num]\n",
    "df_cat = df_clean.iloc[:, i_cat].drop('In  a relationship (Yes ,  No,  it’s complicated)', axis='columns') \n",
    "df_tar = df_clean.iloc[:, 5] "
   ]
  },
  {
   "cell_type": "code",
   "execution_count": 130,
   "metadata": {},
   "outputs": [
    {
     "data": {
      "text/html": [
       "<div>\n",
       "<style scoped>\n",
       "    .dataframe tbody tr th:only-of-type {\n",
       "        vertical-align: middle;\n",
       "    }\n",
       "\n",
       "    .dataframe tbody tr th {\n",
       "        vertical-align: top;\n",
       "    }\n",
       "\n",
       "    .dataframe thead th {\n",
       "        text-align: right;\n",
       "    }\n",
       "</style>\n",
       "<table border=\"1\" class=\"dataframe\">\n",
       "  <thead>\n",
       "    <tr style=\"text-align: right;\">\n",
       "      <th></th>\n",
       "      <th>Number of movies you watched from cinema in the last two weeks</th>\n",
       "      <th>Number of movies you watched from home in the last two weeks</th>\n",
       "      <th>Average Cups of coffee consumed per day</th>\n",
       "      <th>Average amount of bills paid for mobile used</th>\n",
       "      <th>Average number of posts in social media per week</th>\n",
       "      <th>How old are you?</th>\n",
       "      <th>What is your height in cm?</th>\n",
       "      <th>What is your weight in kg?</th>\n",
       "      <th>What is your waist size in inches?</th>\n",
       "      <th>What is your favorite number, from 0 to 9?</th>\n",
       "      <th>...</th>\n",
       "      <th>How many movies do you see inside a theater in a year?</th>\n",
       "      <th>How many years in your life have you been a smoker?</th>\n",
       "      <th>How many beers can you drink in one night?</th>\n",
       "      <th>How many pizzas can you eat in one sitting?</th>\n",
       "      <th>How many times do you buy coffee in a week?</th>\n",
       "      <th>How many Facebook friends do you have? (In hundreds, e.g. 1100)</th>\n",
       "      <th>How many partners have you had?</th>\n",
       "      <th>How many songs do you know the lyrics to?</th>\n",
       "      <th>What do you think your grade in this class will be?</th>\n",
       "      <th>What age do you think you will live to?</th>\n",
       "    </tr>\n",
       "  </thead>\n",
       "  <tbody>\n",
       "    <tr>\n",
       "      <th>0</th>\n",
       "      <td>0.0</td>\n",
       "      <td>0.0</td>\n",
       "      <td>0.0</td>\n",
       "      <td>1799.0</td>\n",
       "      <td>1.0</td>\n",
       "      <td>30.0</td>\n",
       "      <td>168.0</td>\n",
       "      <td>67.0</td>\n",
       "      <td>32.0</td>\n",
       "      <td>7.0</td>\n",
       "      <td>...</td>\n",
       "      <td>0.0</td>\n",
       "      <td>0.0</td>\n",
       "      <td>1.0</td>\n",
       "      <td>3.0</td>\n",
       "      <td>0.0</td>\n",
       "      <td>933.0</td>\n",
       "      <td>4.0</td>\n",
       "      <td>5.0</td>\n",
       "      <td>5.0</td>\n",
       "      <td>128.0</td>\n",
       "    </tr>\n",
       "    <tr>\n",
       "      <th>1</th>\n",
       "      <td>0.0</td>\n",
       "      <td>0.0</td>\n",
       "      <td>0.0</td>\n",
       "      <td>0.0</td>\n",
       "      <td>0.0</td>\n",
       "      <td>29.0</td>\n",
       "      <td>160.0</td>\n",
       "      <td>62.0</td>\n",
       "      <td>30.0</td>\n",
       "      <td>8.0</td>\n",
       "      <td>...</td>\n",
       "      <td>45.0</td>\n",
       "      <td>0.0</td>\n",
       "      <td>1.0</td>\n",
       "      <td>3.0</td>\n",
       "      <td>6.0</td>\n",
       "      <td>700.0</td>\n",
       "      <td>0.0</td>\n",
       "      <td>30.0</td>\n",
       "      <td>4.5</td>\n",
       "      <td>90.0</td>\n",
       "    </tr>\n",
       "    <tr>\n",
       "      <th>2</th>\n",
       "      <td>0.0</td>\n",
       "      <td>0.0</td>\n",
       "      <td>0.0</td>\n",
       "      <td>800.0</td>\n",
       "      <td>0.0</td>\n",
       "      <td>33.0</td>\n",
       "      <td>177.0</td>\n",
       "      <td>150.0</td>\n",
       "      <td>32.0</td>\n",
       "      <td>1.0</td>\n",
       "      <td>...</td>\n",
       "      <td>8.0</td>\n",
       "      <td>0.0</td>\n",
       "      <td>6.0</td>\n",
       "      <td>4.0</td>\n",
       "      <td>0.0</td>\n",
       "      <td>800.0</td>\n",
       "      <td>5.0</td>\n",
       "      <td>10.0</td>\n",
       "      <td>5.0</td>\n",
       "      <td>82.0</td>\n",
       "    </tr>\n",
       "  </tbody>\n",
       "</table>\n",
       "<p>3 rows × 31 columns</p>\n",
       "</div>"
      ],
      "text/plain": [
       "   Number of movies you watched from cinema in the last two weeks  \\\n",
       "0                                                0.0                \n",
       "1                                                0.0                \n",
       "2                                                0.0                \n",
       "\n",
       "   Number of movies you watched from home in the last two weeks  \\\n",
       "0                                                0.0              \n",
       "1                                                0.0              \n",
       "2                                                0.0              \n",
       "\n",
       "   Average Cups of coffee consumed per day  \\\n",
       "0                                      0.0   \n",
       "1                                      0.0   \n",
       "2                                      0.0   \n",
       "\n",
       "   Average amount of bills paid for mobile used  \\\n",
       "0                                        1799.0   \n",
       "1                                           0.0   \n",
       "2                                         800.0   \n",
       "\n",
       "   Average number of posts in social media per week  How old are you?  \\\n",
       "0                                               1.0              30.0   \n",
       "1                                               0.0              29.0   \n",
       "2                                               0.0              33.0   \n",
       "\n",
       "   What is your height in cm?  What is your weight in kg?  \\\n",
       "0                       168.0                        67.0   \n",
       "1                       160.0                        62.0   \n",
       "2                       177.0                       150.0   \n",
       "\n",
       "   What is your waist size in inches?  \\\n",
       "0                                32.0   \n",
       "1                                30.0   \n",
       "2                                32.0   \n",
       "\n",
       "   What is your favorite number, from 0 to 9?  \\\n",
       "0                                         7.0   \n",
       "1                                         8.0   \n",
       "2                                         1.0   \n",
       "\n",
       "                    ...                     \\\n",
       "0                   ...                      \n",
       "1                   ...                      \n",
       "2                   ...                      \n",
       "\n",
       "   How many movies do you see inside a theater in a year?  \\\n",
       "0                                                0.0        \n",
       "1                                               45.0        \n",
       "2                                                8.0        \n",
       "\n",
       "   How many years in your life have you been a smoker?  \\\n",
       "0                                                0.0     \n",
       "1                                                0.0     \n",
       "2                                                0.0     \n",
       "\n",
       "   How many beers can you drink in one night?  \\\n",
       "0                                         1.0   \n",
       "1                                         1.0   \n",
       "2                                         6.0   \n",
       "\n",
       "   How many pizzas can you eat in one sitting?  \\\n",
       "0                                          3.0   \n",
       "1                                          3.0   \n",
       "2                                          4.0   \n",
       "\n",
       "   How many times do you buy coffee in a week?  \\\n",
       "0                                          0.0   \n",
       "1                                          6.0   \n",
       "2                                          0.0   \n",
       "\n",
       "   How many Facebook friends do you have? (In hundreds, e.g. 1100)  \\\n",
       "0                                              933.0                 \n",
       "1                                              700.0                 \n",
       "2                                              800.0                 \n",
       "\n",
       "   How many partners have you had?  How many songs do you know the lyrics to?  \\\n",
       "0                              4.0                                        5.0   \n",
       "1                              0.0                                       30.0   \n",
       "2                              5.0                                       10.0   \n",
       "\n",
       "   What do you think your grade in this class will be?  \\\n",
       "0                                                5.0     \n",
       "1                                                4.5     \n",
       "2                                                5.0     \n",
       "\n",
       "   What age do you think you will live to?  \n",
       "0                                    128.0  \n",
       "1                                     90.0  \n",
       "2                                     82.0  \n",
       "\n",
       "[3 rows x 31 columns]"
      ]
     },
     "execution_count": 130,
     "metadata": {},
     "output_type": "execute_result"
    }
   ],
   "source": [
    "df_num.head(3)"
   ]
  },
  {
   "cell_type": "code",
   "execution_count": 131,
   "metadata": {},
   "outputs": [
    {
     "data": {
      "text/html": [
       "<div>\n",
       "<style scoped>\n",
       "    .dataframe tbody tr th:only-of-type {\n",
       "        vertical-align: middle;\n",
       "    }\n",
       "\n",
       "    .dataframe tbody tr th {\n",
       "        vertical-align: top;\n",
       "    }\n",
       "\n",
       "    .dataframe thead th {\n",
       "        text-align: right;\n",
       "    }\n",
       "</style>\n",
       "<table border=\"1\" class=\"dataframe\">\n",
       "  <thead>\n",
       "    <tr style=\"text-align: right;\">\n",
       "      <th></th>\n",
       "      <th>Male or female? (pls type M or F)</th>\n",
       "      <th>What is your favorite color?</th>\n",
       "      <th>Are you predominantly right handed or left handed? (pls type R or L)</th>\n",
       "      <th>What is your favorite car brand? Toyota, Honda, Hyundai, BMW, Mercedes, etc.</th>\n",
       "      <th>What phone network do you use? Globe, Smart, Sun, etc.</th>\n",
       "      <th>What phone brand do you use? Samsung, Apple, Vivo, Huawei, Sony, etc.</th>\n",
       "      <th>What is your favorite sport? Basketball, football, volleyball, tennis, etc.</th>\n",
       "      <th>What browser do you prefer? Chrome, IE, Firefox, Safari</th>\n",
       "      <th>What is your blood type? O A B AB</th>\n",
       "      <th>Where is your ideal city to live in?</th>\n",
       "      <th>What is your favorite mall? SM, Ayala, Robinsons, Rustan’s, etc.</th>\n",
       "      <th>What is your favorite fastfood place?</th>\n",
       "      <th>What is your favorite meat to eat? Chicken, pork, beef, fish, etc.</th>\n",
       "      <th>What kind of songs do you usually listen to? Pop, hip-hop, R&amp;B, alternative, rock, classical, country, jazz, etc.</th>\n",
       "    </tr>\n",
       "  </thead>\n",
       "  <tbody>\n",
       "    <tr>\n",
       "      <th>0</th>\n",
       "      <td>M</td>\n",
       "      <td>red</td>\n",
       "      <td>L</td>\n",
       "      <td>hyundai</td>\n",
       "      <td>globe</td>\n",
       "      <td>apple</td>\n",
       "      <td>basketball</td>\n",
       "      <td>chrome</td>\n",
       "      <td>a</td>\n",
       "      <td>yakutsk city</td>\n",
       "      <td>ayala</td>\n",
       "      <td>jollibee</td>\n",
       "      <td>pork</td>\n",
       "      <td>edm</td>\n",
       "    </tr>\n",
       "    <tr>\n",
       "      <th>1</th>\n",
       "      <td>F</td>\n",
       "      <td>red</td>\n",
       "      <td>R</td>\n",
       "      <td>none</td>\n",
       "      <td>globe</td>\n",
       "      <td>samsung</td>\n",
       "      <td>tennis</td>\n",
       "      <td>chrome</td>\n",
       "      <td>a</td>\n",
       "      <td>legazpi</td>\n",
       "      <td>ayala</td>\n",
       "      <td>jollibee</td>\n",
       "      <td>pork</td>\n",
       "      <td>pop, jazz, rock, classical, r&amp;b</td>\n",
       "    </tr>\n",
       "    <tr>\n",
       "      <th>2</th>\n",
       "      <td>M</td>\n",
       "      <td>green</td>\n",
       "      <td>R</td>\n",
       "      <td>honda</td>\n",
       "      <td>globe</td>\n",
       "      <td>oneplus</td>\n",
       "      <td>basketball</td>\n",
       "      <td>chrome</td>\n",
       "      <td>ab</td>\n",
       "      <td>hong kong</td>\n",
       "      <td>up town center</td>\n",
       "      <td>kfc</td>\n",
       "      <td>pork</td>\n",
       "      <td>rock</td>\n",
       "    </tr>\n",
       "  </tbody>\n",
       "</table>\n",
       "</div>"
      ],
      "text/plain": [
       "  Male or female? (pls type M or F) What is your favorite color?  \\\n",
       "0                                 M                          red   \n",
       "1                                 F                          red   \n",
       "2                                 M                        green   \n",
       "\n",
       "  Are you predominantly right handed or left handed? (pls type R or L)  \\\n",
       "0                                                  L                     \n",
       "1                                                  R                     \n",
       "2                                                  R                     \n",
       "\n",
       "  What is your favorite car brand? Toyota, Honda, Hyundai, BMW, Mercedes, etc.  \\\n",
       "0                                            hyundai                             \n",
       "1                                               none                             \n",
       "2                                              honda                             \n",
       "\n",
       "  What phone network do you use? Globe, Smart, Sun, etc.  \\\n",
       "0                                              globe       \n",
       "1                                              globe       \n",
       "2                                              globe       \n",
       "\n",
       "  What phone brand do you use? Samsung, Apple, Vivo, Huawei, Sony, etc.  \\\n",
       "0                                              apple                      \n",
       "1                                            samsung                      \n",
       "2                                            oneplus                      \n",
       "\n",
       "  What is your favorite sport? Basketball, football, volleyball, tennis, etc.  \\\n",
       "0                                         basketball                            \n",
       "1                                             tennis                            \n",
       "2                                         basketball                            \n",
       "\n",
       "  What browser do you prefer? Chrome, IE, Firefox, Safari  \\\n",
       "0                                             chrome        \n",
       "1                                             chrome        \n",
       "2                                             chrome        \n",
       "\n",
       "  What is your blood type? O A B AB Where is your ideal city to live in?  \\\n",
       "0                                 a                         yakutsk city   \n",
       "1                                 a                              legazpi   \n",
       "2                                ab                            hong kong   \n",
       "\n",
       "  What is your favorite mall? SM, Ayala, Robinsons, Rustan’s, etc.  \\\n",
       "0                                              ayala                 \n",
       "1                                              ayala                 \n",
       "2                                     up town center                 \n",
       "\n",
       "  What is your favorite fastfood place?  \\\n",
       "0                              jollibee   \n",
       "1                              jollibee   \n",
       "2                                   kfc   \n",
       "\n",
       "  What is your favorite meat to eat? Chicken, pork, beef, fish, etc.  \\\n",
       "0                                               pork                   \n",
       "1                                               pork                   \n",
       "2                                               pork                   \n",
       "\n",
       "  What kind of songs do you usually listen to? Pop, hip-hop, R&B, alternative, rock, classical, country, jazz, etc.  \n",
       "0                                                edm                                                                 \n",
       "1                    pop, jazz, rock, classical, r&b                                                                 \n",
       "2                                               rock                                                                 "
      ]
     },
     "execution_count": 131,
     "metadata": {},
     "output_type": "execute_result"
    }
   ],
   "source": [
    "df_cat.head(3)"
   ]
  },
  {
   "cell_type": "code",
   "execution_count": 132,
   "metadata": {},
   "outputs": [
    {
     "data": {
      "text/plain": [
       "0    Yes\n",
       "1     No\n",
       "2    Yes\n",
       "Name: In  a relationship (Yes ,  No,  it’s complicated), dtype: object"
      ]
     },
     "execution_count": 132,
     "metadata": {},
     "output_type": "execute_result"
    }
   ],
   "source": [
    "df_tar.head(3)"
   ]
  },
  {
   "cell_type": "markdown",
   "metadata": {},
   "source": [
    "#### Exploring the Data"
   ]
  },
  {
   "cell_type": "markdown",
   "metadata": {},
   "source": [
    "Now that we have cleaned the data, let's start exploring and visualizing the data."
   ]
  },
  {
   "cell_type": "markdown",
   "metadata": {},
   "source": [
    "Let's start with visualizing the categorical data below:"
   ]
  },
  {
   "cell_type": "code",
   "execution_count": 133,
   "metadata": {},
   "outputs": [
    {
     "name": "stdout",
     "output_type": "stream",
     "text": [
      "0 Male or female? (pls type M or F):  object\n",
      "1 What is your favorite color?:  object\n",
      "2 Are you predominantly right handed or left handed? (pls type R or L):  object\n",
      "3 What is your favorite car brand? Toyota, Honda, Hyundai, BMW, Mercedes, etc.:  object\n",
      "4 What phone network do you use? Globe, Smart, Sun, etc.:  object\n",
      "5 What phone brand do you use? Samsung, Apple, Vivo, Huawei, Sony, etc.:  object\n",
      "6 What is your favorite sport? Basketball, football, volleyball, tennis, etc.:  object\n",
      "7 What browser do you prefer? Chrome, IE, Firefox, Safari:  object\n",
      "8 What is your blood type? O A B AB:  object\n",
      "9 Where is your ideal city to live in?:  object\n",
      "10 What is your favorite mall? SM, Ayala, Robinsons, Rustan’s, etc.:  object\n",
      "11 What is your favorite fastfood place?:  object\n",
      "12 What is your favorite meat to eat? Chicken, pork, beef, fish, etc.:  object\n",
      "13 What kind of songs do you usually listen to? Pop, hip-hop, R&B, alternative, rock, classical, country, jazz, etc.:  object\n"
     ]
    }
   ],
   "source": [
    "for i in range(len(df_cat.columns)):\n",
    "    typ = df_cat.iloc[:, i].dtype\n",
    "    if typ == object:\n",
    "        print('{} {}: '.format(i, df_cat.columns[i]), df_cat.iloc[:, i].dtype)"
   ]
  },
  {
   "cell_type": "markdown",
   "metadata": {},
   "source": [
    "Here are the following insights from looking at categorical data:\n",
    "* 83% of the people surveyed are male.\n",
    "* 48% like the color blue.\n",
    "* 83% are right handed.\n",
    "* 26% like Toyota.\n",
    "* 83% use Globe as phone network.\n",
    "* 48% use Apple phones.\n",
    "* 19% like bandminton.\n",
    "* 86% like Chrome.\n",
    "* 45% are blood type O.\n",
    "* Most liked city to live in is Singapore (7% of respondents).\n",
    "* 45% like Ayala malls.\n",
    "* 38% like Jollibee.\n",
    "* 50% like chicken.\n",
    "* Most liked music genre is pop."
   ]
  },
  {
   "cell_type": "code",
   "execution_count": 134,
   "metadata": {
    "scrolled": false
   },
   "outputs": [
    {
     "data": {
      "image/png": "[encoded data removed]",
      "text/plain": [
       "<matplotlib.figure.Figure at 0x10d761940>"
      ]
     },
     "metadata": {},
     "output_type": "display_data"
    },
    {
     "name": "stdout",
     "output_type": "stream",
     "text": [
      "83.33% M\n",
      "\n"
     ]
    },
    {
     "data": {
      "image/png": "[encoded data removed]",
      "text/plain": [
       "<matplotlib.figure.Figure at 0x1109476d8>"
      ]
     },
     "metadata": {},
     "output_type": "display_data"
    },
    {
     "name": "stdout",
     "output_type": "stream",
     "text": [
      "47.62% blue\n",
      "\n"
     ]
    },
    {
     "data": {
      "image/png": "[encoded data removed]",
      "text/plain": [
       "<matplotlib.figure.Figure at 0x110ad5c50>"
      ]
     },
     "metadata": {},
     "output_type": "display_data"
    },
    {
     "name": "stdout",
     "output_type": "stream",
     "text": [
      "83.33% R\n",
      "\n"
     ]
    },
    {
     "data": {
      "image/png": "[encoded data removed]",
      "text/plain": [
       "<matplotlib.figure.Figure at 0x110ab28d0>"
      ]
     },
     "metadata": {},
     "output_type": "display_data"
    },
    {
     "name": "stdout",
     "output_type": "stream",
     "text": [
      "26.19% toyota\n",
      "\n"
     ]
    },
    {
     "data": {
      "image/png": "[encoded data removed]",
      "text/plain": [
       "<matplotlib.figure.Figure at 0x110d03e80>"
      ]
     },
     "metadata": {},
     "output_type": "display_data"
    },
    {
     "name": "stdout",
     "output_type": "stream",
     "text": [
      "83.33% globe\n",
      "\n"
     ]
    },
    {
     "data": {
      "image/png": "[encoded data removed]",
      "text/plain": [
       "<matplotlib.figure.Figure at 0x110a87048>"
      ]
     },
     "metadata": {},
     "output_type": "display_data"
    },
    {
     "name": "stdout",
     "output_type": "stream",
     "text": [
      "47.62% apple\n",
      "\n"
     ]
    },
    {
     "data": {
      "image/png": "[encoded data removed]",
      "text/plain": [
       "<matplotlib.figure.Figure at 0x110f3de80>"
      ]
     },
     "metadata": {},
     "output_type": "display_data"
    },
    {
     "name": "stdout",
     "output_type": "stream",
     "text": [
      "19.05% badminton\n",
      "\n"
     ]
    },
    {
     "data": {
      "image/png": "[encoded data removed]",
      "text/plain": [
       "<matplotlib.figure.Figure at 0x111075eb8>"
      ]
     },
     "metadata": {},
     "output_type": "display_data"
    },
    {
     "name": "stdout",
     "output_type": "stream",
     "text": [
      "85.71% chrome\n",
      "\n"
     ]
    },
    {
     "data": {
      "image/png": "[encoded data removed]",
      "text/plain": [
       "<matplotlib.figure.Figure at 0x1110ac6a0>"
      ]
     },
     "metadata": {},
     "output_type": "display_data"
    },
    {
     "name": "stdout",
     "output_type": "stream",
     "text": [
      "45.24% o\n",
      "\n"
     ]
    },
    {
     "data": {
      "image/png": "[encoded data removed]",
      "text/plain": [
       "<matplotlib.figure.Figure at 0x1111eb438>"
      ]
     },
     "metadata": {},
     "output_type": "display_data"
    },
    {
     "name": "stdout",
     "output_type": "stream",
     "text": [
      "7.14% singapore\n",
      "\n"
     ]
    },
    {
     "data": {
      "image/png": "[encoded data removed]",
      "text/plain": [
       "<matplotlib.figure.Figure at 0x11143ef60>"
      ]
     },
     "metadata": {},
     "output_type": "display_data"
    },
    {
     "name": "stdout",
     "output_type": "stream",
     "text": [
      "45.24% ayala\n",
      "\n"
     ]
    },
    {
     "data": {
      "image/png": "[encoded data removed]",
      "text/plain": [
       "<matplotlib.figure.Figure at 0x111594c18>"
      ]
     },
     "metadata": {},
     "output_type": "display_data"
    },
    {
     "name": "stdout",
     "output_type": "stream",
     "text": [
      "38.10% jollibee\n",
      "\n"
     ]
    },
    {
     "data": {
      "image/png": "[encoded data removed]",
      "text/plain": [
       "<matplotlib.figure.Figure at 0x111445780>"
      ]
     },
     "metadata": {},
     "output_type": "display_data"
    },
    {
     "name": "stdout",
     "output_type": "stream",
     "text": [
      "50.00% chicken\n",
      "\n"
     ]
    },
    {
     "data": {
      "image/png": "[encoded data removed]",
      "text/plain": [
       "<matplotlib.figure.Figure at 0x111407908>"
      ]
     },
     "metadata": {},
     "output_type": "display_data"
    },
    {
     "name": "stdout",
     "output_type": "stream",
     "text": [
      "19.05% pop\n",
      "\n"
     ]
    }
   ],
   "source": [
    "for n in range(len(df_cat.columns)):\n",
    "    plt.figure(figsize=(7, 6))\n",
    "\n",
    "    keys = list(dict(df_cat.iloc[:, n].value_counts()).keys())\n",
    "    vals = list(dict(df_cat.iloc[:, n].value_counts()).values())\n",
    "\n",
    "    plt.barh(keys, vals)\n",
    "    plt.title(df_cat.columns[n])\n",
    "\n",
    "    plt.tight_layout\n",
    "    plt.show()\n",
    "\n",
    "    print('{0:.2f}%'.format(max(vals)/np.sum(vals)*100), keys[vals.index(max(vals))])\n",
    "    print()"
   ]
  },
  {
   "cell_type": "markdown",
   "metadata": {},
   "source": [
    "Let's now visualize numerical data."
   ]
  },
  {
   "cell_type": "code",
   "execution_count": 135,
   "metadata": {},
   "outputs": [
    {
     "name": "stdout",
     "output_type": "stream",
     "text": [
      "0 Number of movies you watched from cinema in the last two weeks:  float64\n",
      "1 Number of movies you watched from home in the last two weeks:  float64\n",
      "2 Average Cups of coffee consumed per day:  float64\n",
      "3 Average amount of bills paid for mobile used:  float64\n",
      "4 Average number of posts in social media per week:  float64\n",
      "5 How old are you?:  float64\n",
      "6 What is your height in cm?:  float64\n",
      "7 What is your weight in kg?:  float64\n",
      "8 What is your waist size in inches?:  float64\n",
      "9 What is your favorite number, from 0 to 9?:  float64\n",
      "10 How many cars have you owned in your life?:  float64\n",
      "11 How many years do you use your phone before replacing it?:  float64\n",
      "12 How many cities have you lived in? (Must have lived more than 1 year):  float64\n",
      "13 How many siblings are you in the family? (not counting half siblings):  float64\n",
      "14 How many functioning shoes do you own currently?:  float64\n",
      "15 How many countries have you visited?:  float64\n",
      "16 How many provinces in the Philippines have you visited?:  float64\n",
      "17 How many times in a month do you go to the mall?:  float64\n",
      "18 How many times in a month do you eat in Jollibee?:  float64\n",
      "19 How many times in a week do you cook at home?:  float64\n",
      "20 How many times in a month do you go out with your s.o.?:  float64\n",
      "21 How many movies do you see inside a theater in a year?:  float64\n",
      "22 How many years in your life have you been a smoker?:  float64\n",
      "23 How many beers can you drink in one night?:  float64\n",
      "24 How many pizzas can you eat in one sitting?:  float64\n",
      "25 How many times do you buy coffee in a week?:  float64\n",
      "26 How many Facebook friends do you have? (In hundreds, e.g. 1100):  float64\n",
      "27 How many partners have you had?:  float64\n",
      "28 How many songs do you know the lyrics to?:  float64\n",
      "29 What do you think your grade in this class will be?:  float64\n",
      "30 What age do you think you will live to?:  float64\n"
     ]
    }
   ],
   "source": [
    "for i in range(len(df_num.columns)):\n",
    "    typ = df_num.iloc[:, i].dtype\n",
    "    if typ == float:\n",
    "        print('{} {}: '.format(i, df_num.columns[i]), df_num.iloc[:, i].dtype)"
   ]
  },
  {
   "cell_type": "markdown",
   "metadata": {},
   "source": [
    "One observation is that most datasets are skewed to the right. Below are the histograms and the means:"
   ]
  },
  {
   "cell_type": "code",
   "execution_count": 136,
   "metadata": {
    "scrolled": false
   },
   "outputs": [
    {
     "data": {
      "image/png": "[encoded data removed]",
      "text/plain": [
       "<matplotlib.figure.Figure at 0x11140fe80>"
      ]
     },
     "metadata": {},
     "output_type": "display_data"
    },
    {
     "name": "stdout",
     "output_type": "stream",
     "text": [
      "Mean: 0.55\n"
     ]
    },
    {
     "data": {
      "image/png": "[encoded data removed]",
      "text/plain": [
       "<matplotlib.figure.Figure at 0x1113ed160>"
      ]
     },
     "metadata": {},
     "output_type": "display_data"
    },
    {
     "name": "stdout",
     "output_type": "stream",
     "text": [
      "Mean: 1.74\n"
     ]
    },
    {
     "data": {
      "image/png": "[encoded data removed]",
      "text/plain": [
       "<matplotlib.figure.Figure at 0x11093c5f8>"
      ]
     },
     "metadata": {},
     "output_type": "display_data"
    },
    {
     "name": "stdout",
     "output_type": "stream",
     "text": [
      "Mean: 0.80\n"
     ]
    },
    {
     "data": {
      "image/png": "[encoded data removed]",
      "text/plain": [
       "<matplotlib.figure.Figure at 0x11108ec18>"
      ]
     },
     "metadata": {},
     "output_type": "display_data"
    },
    {
     "name": "stdout",
     "output_type": "stream",
     "text": [
      "Mean: 892.33\n"
     ]
    },
    {
     "data": {
      "image/png": "[encoded data removed]",
      "text/plain": [
       "<matplotlib.figure.Figure at 0x111044160>"
      ]
     },
     "metadata": {},
     "output_type": "display_data"
    },
    {
     "name": "stdout",
     "output_type": "stream",
     "text": [
      "Mean: 2.74\n"
     ]
    },
    {
     "data": {
      "image/png": "[encoded data removed]",
      "text/plain": [
       "<matplotlib.figure.Figure at 0x1110c56a0>"
      ]
     },
     "metadata": {},
     "output_type": "display_data"
    },
    {
     "name": "stdout",
     "output_type": "stream",
     "text": [
      "Mean: 29.10\n"
     ]
    },
    {
     "data": {
      "image/png": "[encoded data removed]",
      "text/plain": [
       "<matplotlib.figure.Figure at 0x11107f240>"
      ]
     },
     "metadata": {},
     "output_type": "display_data"
    },
    {
     "name": "stdout",
     "output_type": "stream",
     "text": [
      "Mean: 167.72\n"
     ]
    },
    {
     "data": {
      "image/png": "[encoded data removed]",
      "text/plain": [
       "<matplotlib.figure.Figure at 0x110cfa710>"
      ]
     },
     "metadata": {},
     "output_type": "display_data"
    },
    {
     "name": "stdout",
     "output_type": "stream",
     "text": [
      "Mean: 74.38\n"
     ]
    },
    {
     "data": {
      "image/png": "[encoded data removed]",
      "text/plain": [
       "<matplotlib.figure.Figure at 0x110ca5f98>"
      ]
     },
     "metadata": {},
     "output_type": "display_data"
    },
    {
     "name": "stdout",
     "output_type": "stream",
     "text": [
      "Mean: 33.11\n"
     ]
    },
    {
     "data": {
      "image/png": "[encoded data removed]",
      "text/plain": [
       "<matplotlib.figure.Figure at 0x110ca8240>"
      ]
     },
     "metadata": {},
     "output_type": "display_data"
    },
    {
     "name": "stdout",
     "output_type": "stream",
     "text": [
      "Mean: 5.57\n"
     ]
    },
    {
     "data": {
      "image/png": "[encoded data removed]",
      "text/plain": [
       "<matplotlib.figure.Figure at 0x111455710>"
      ]
     },
     "metadata": {},
     "output_type": "display_data"
    },
    {
     "name": "stdout",
     "output_type": "stream",
     "text": [
      "Mean: 1.00\n"
     ]
    },
    {
     "data": {
      "image/png": "[encoded data removed]",
      "text/plain": [
       "<matplotlib.figure.Figure at 0x10d760630>"
      ]
     },
     "metadata": {},
     "output_type": "display_data"
    },
    {
     "name": "stdout",
     "output_type": "stream",
     "text": [
      "Mean: 3.40\n"
     ]
    },
    {
     "data": {
      "image/png": "[encoded data removed]",
      "text/plain": [
       "<matplotlib.figure.Figure at 0x110bb5e48>"
      ]
     },
     "metadata": {},
     "output_type": "display_data"
    },
    {
     "name": "stdout",
     "output_type": "stream",
     "text": [
      "Mean: 2.55\n"
     ]
    },
    {
     "data": {
      "image/png": "[encoded data removed]",
      "text/plain": [
       "<matplotlib.figure.Figure at 0x106d9eef0>"
      ]
     },
     "metadata": {},
     "output_type": "display_data"
    },
    {
     "name": "stdout",
     "output_type": "stream",
     "text": [
      "Mean: 2.88\n"
     ]
    },
    {
     "data": {
      "image/png": "[encoded data removed]",
      "text/plain": [
       "<matplotlib.figure.Figure at 0x10d76dc88>"
      ]
     },
     "metadata": {},
     "output_type": "display_data"
    },
    {
     "name": "stdout",
     "output_type": "stream",
     "text": [
      "Mean: 8.74\n"
     ]
    },
    {
     "data": {
      "image/png": "[encoded data removed]",
      "text/plain": [
       "<matplotlib.figure.Figure at 0x110be5f60>"
      ]
     },
     "metadata": {},
     "output_type": "display_data"
    },
    {
     "name": "stdout",
     "output_type": "stream",
     "text": [
      "Mean: 6.17\n"
     ]
    },
    {
     "data": {
      "image/png": "[encoded data removed]",
      "text/plain": [
       "<matplotlib.figure.Figure at 0x110a9de80>"
      ]
     },
     "metadata": {},
     "output_type": "display_data"
    },
    {
     "name": "stdout",
     "output_type": "stream",
     "text": [
      "Mean: 12.29\n"
     ]
    },
    {
     "data": {
      "image/png": "[encoded data removed]",
      "text/plain": [
       "<matplotlib.figure.Figure at 0x110af5e48>"
      ]
     },
     "metadata": {},
     "output_type": "display_data"
    },
    {
     "name": "stdout",
     "output_type": "stream",
     "text": [
      "Mean: 11.57\n"
     ]
    },
    {
     "data": {
      "image/png": "[encoded data removed]",
      "text/plain": [
       "<matplotlib.figure.Figure at 0x111097518>"
      ]
     },
     "metadata": {},
     "output_type": "display_data"
    },
    {
     "name": "stdout",
     "output_type": "stream",
     "text": [
      "Mean: 4.05\n"
     ]
    },
    {
     "data": {
      "image/png": "[encoded data removed]",
      "text/plain": [
       "<matplotlib.figure.Figure at 0x1111dd5c0>"
      ]
     },
     "metadata": {},
     "output_type": "display_data"
    },
    {
     "name": "stdout",
     "output_type": "stream",
     "text": [
      "Mean: 1.61\n"
     ]
    },
    {
     "data": {
      "image/png": "[encoded data removed]",
      "text/plain": [
       "<matplotlib.figure.Figure at 0x1111dd470>"
      ]
     },
     "metadata": {},
     "output_type": "display_data"
    },
    {
     "name": "stdout",
     "output_type": "stream",
     "text": [
      "Mean: 5.81\n"
     ]
    },
    {
     "data": {
      "image/png": "[encoded data removed]",
      "text/plain": [
       "<matplotlib.figure.Figure at 0x111022080>"
      ]
     },
     "metadata": {},
     "output_type": "display_data"
    },
    {
     "name": "stdout",
     "output_type": "stream",
     "text": [
      "Mean: 10.79\n"
     ]
    },
    {
     "data": {
      "image/png": "[encoded data removed]",
      "text/plain": [
       "<matplotlib.figure.Figure at 0x11094b7b8>"
      ]
     },
     "metadata": {},
     "output_type": "display_data"
    },
    {
     "name": "stdout",
     "output_type": "stream",
     "text": [
      "Mean: 0.64\n"
     ]
    },
    {
     "data": {
      "image/png": "[encoded data removed]",
      "text/plain": [
       "<matplotlib.figure.Figure at 0x11143f4e0>"
      ]
     },
     "metadata": {},
     "output_type": "display_data"
    },
    {
     "name": "stdout",
     "output_type": "stream",
     "text": [
      "Mean: 6.65\n"
     ]
    },
    {
     "data": {
      "image/png": "[encoded data removed]",
      "text/plain": [
       "<matplotlib.figure.Figure at 0x110ad6be0>"
      ]
     },
     "metadata": {},
     "output_type": "display_data"
    },
    {
     "name": "stdout",
     "output_type": "stream",
     "text": [
      "Mean: 3.94\n"
     ]
    },
    {
     "data": {
      "image/png": "[encoded data removed]",
      "text/plain": [
       "<matplotlib.figure.Figure at 0x1109aaba8>"
      ]
     },
     "metadata": {},
     "output_type": "display_data"
    },
    {
     "name": "stdout",
     "output_type": "stream",
     "text": [
      "Mean: 2.86\n"
     ]
    },
    {
     "data": {
      "image/png": "[encoded data removed]",
      "text/plain": [
       "<matplotlib.figure.Figure at 0x110efb2b0>"
      ]
     },
     "metadata": {},
     "output_type": "display_data"
    },
    {
     "name": "stdout",
     "output_type": "stream",
     "text": [
      "Mean: 1095.90\n"
     ]
    },
    {
     "data": {
      "image/png": "[encoded data removed]",
      "text/plain": [
       "<matplotlib.figure.Figure at 0x110bcdbe0>"
      ]
     },
     "metadata": {},
     "output_type": "display_data"
    },
    {
     "name": "stdout",
     "output_type": "stream",
     "text": [
      "Mean: 1.74\n"
     ]
    },
    {
     "data": {
      "image/png": "[encoded data removed]",
      "text/plain": [
       "<matplotlib.figure.Figure at 0x1110342b0>"
      ]
     },
     "metadata": {},
     "output_type": "display_data"
    },
    {
     "name": "stdout",
     "output_type": "stream",
     "text": [
      "Mean: 31.14\n"
     ]
    },
    {
     "data": {
      "image/png": "[encoded data removed]",
      "text/plain": [
       "<matplotlib.figure.Figure at 0x106dac080>"
      ]
     },
     "metadata": {},
     "output_type": "display_data"
    },
    {
     "name": "stdout",
     "output_type": "stream",
     "text": [
      "Mean: 4.45\n"
     ]
    },
    {
     "data": {
      "image/png": "[encoded data removed]",
      "text/plain": [
       "<matplotlib.figure.Figure at 0x110e0d588>"
      ]
     },
     "metadata": {},
     "output_type": "display_data"
    },
    {
     "name": "stdout",
     "output_type": "stream",
     "text": [
      "Mean: 79.45\n"
     ]
    }
   ],
   "source": [
    "for n in range(len(df_num.columns)):\n",
    "    plt.figure(figsize=(7, 6))\n",
    "\n",
    "    vals = list(df_num.iloc[:, n])\n",
    "\n",
    "    plt.hist(vals)\n",
    "    plt.title(df_num.columns[n])\n",
    "\n",
    "    plt.tight_layout\n",
    "    plt.show()\n",
    "    \n",
    "    print('Mean: {0:.2f}'.format(np.mean(vals)))"
   ]
  },
  {
   "cell_type": "markdown",
   "metadata": {},
   "source": [
    "#### Convert Categorical Data to Numerical Data"
   ]
  },
  {
   "cell_type": "markdown",
   "metadata": {},
   "source": [
    "Since we are going to use k Nearest Neighbors Classifier, we need to convert categorical data to numerical data. To do this, we use get_dummies method. This turns categorical data to \"features\" or \"columns\" that can take either the value 1 (observation has feature) or 0 (observation doesn't have feature)."
   ]
  },
  {
   "cell_type": "code",
   "execution_count": 137,
   "metadata": {},
   "outputs": [
    {
     "data": {
      "text/plain": [
       "(42, 14)"
      ]
     },
     "execution_count": 137,
     "metadata": {},
     "output_type": "execute_result"
    }
   ],
   "source": [
    "df_cat.shape"
   ]
  },
  {
   "cell_type": "code",
   "execution_count": 138,
   "metadata": {},
   "outputs": [],
   "source": [
    "df_cat2 = pd.get_dummies(df_cat)"
   ]
  },
  {
   "cell_type": "code",
   "execution_count": 139,
   "metadata": {},
   "outputs": [
    {
     "data": {
      "text/plain": [
       "(42, 158)"
      ]
     },
     "execution_count": 139,
     "metadata": {},
     "output_type": "execute_result"
    }
   ],
   "source": [
    "df_cat2.shape"
   ]
  },
  {
   "cell_type": "code",
   "execution_count": 140,
   "metadata": {},
   "outputs": [
    {
     "data": {
      "text/plain": [
       "(42,)"
      ]
     },
     "execution_count": 140,
     "metadata": {},
     "output_type": "execute_result"
    }
   ],
   "source": [
    "df_tar.shape"
   ]
  },
  {
   "cell_type": "markdown",
   "metadata": {},
   "source": [
    "In the case of the target variable, we convert it to 0 (not in relationship), 1 (in relationship), or 2 (it's complicated)."
   ]
  },
  {
   "cell_type": "code",
   "execution_count": 141,
   "metadata": {},
   "outputs": [
    {
     "data": {
      "text/plain": [
       "No                  22\n",
       "Yes                 19\n",
       "It's complicated     1\n",
       "Name: In  a relationship (Yes ,  No,  it’s complicated), dtype: int64"
      ]
     },
     "execution_count": 141,
     "metadata": {},
     "output_type": "execute_result"
    }
   ],
   "source": [
    "df_tar.value_counts()"
   ]
  },
  {
   "cell_type": "code",
   "execution_count": 142,
   "metadata": {},
   "outputs": [],
   "source": [
    "target = []\n",
    "for i in df_tar:\n",
    "    if i == 'Yes':\n",
    "        target.append(1)\n",
    "    elif i == 'No':\n",
    "        target.append(0)\n",
    "    else:\n",
    "        target.append(2)\n"
   ]
  },
  {
   "cell_type": "code",
   "execution_count": 143,
   "metadata": {},
   "outputs": [
    {
     "data": {
      "text/plain": [
       "0    1\n",
       "1    0\n",
       "2    1\n",
       "dtype: int64"
      ]
     },
     "execution_count": 143,
     "metadata": {},
     "output_type": "execute_result"
    }
   ],
   "source": [
    "target = pd.Series(target)\n",
    "target.head(3)"
   ]
  },
  {
   "cell_type": "markdown",
   "metadata": {},
   "source": [
    "Let's combine df_num, df_cat, and df_tar into one big dataframe."
   ]
  },
  {
   "cell_type": "code",
   "execution_count": 144,
   "metadata": {},
   "outputs": [],
   "source": [
    "df_num = df_num.reset_index(drop=True)"
   ]
  },
  {
   "cell_type": "code",
   "execution_count": 145,
   "metadata": {},
   "outputs": [
    {
     "data": {
      "text/plain": [
       "(42, 31)"
      ]
     },
     "execution_count": 145,
     "metadata": {},
     "output_type": "execute_result"
    }
   ],
   "source": [
    "df_num.shape"
   ]
  },
  {
   "cell_type": "code",
   "execution_count": 146,
   "metadata": {},
   "outputs": [],
   "source": [
    "df_cat2 = df_cat2.reset_index(drop=True)"
   ]
  },
  {
   "cell_type": "code",
   "execution_count": 147,
   "metadata": {},
   "outputs": [
    {
     "data": {
      "text/plain": [
       "(42, 158)"
      ]
     },
     "execution_count": 147,
     "metadata": {},
     "output_type": "execute_result"
    }
   ],
   "source": [
    "df_cat2.shape"
   ]
  },
  {
   "cell_type": "code",
   "execution_count": 148,
   "metadata": {},
   "outputs": [],
   "source": [
    "target = target.reset_index(drop=True)"
   ]
  },
  {
   "cell_type": "code",
   "execution_count": 149,
   "metadata": {},
   "outputs": [
    {
     "data": {
      "text/plain": [
       "(42,)"
      ]
     },
     "execution_count": 149,
     "metadata": {},
     "output_type": "execute_result"
    }
   ],
   "source": [
    "target.shape"
   ]
  },
  {
   "cell_type": "code",
   "execution_count": 150,
   "metadata": {},
   "outputs": [],
   "source": [
    "df_final = pd.concat([df_num, df_cat2, target], axis=1)"
   ]
  },
  {
   "cell_type": "code",
   "execution_count": 151,
   "metadata": {},
   "outputs": [
    {
     "data": {
      "text/plain": [
       "(42, 190)"
      ]
     },
     "execution_count": 151,
     "metadata": {},
     "output_type": "execute_result"
    }
   ],
   "source": [
    "df_final.shape"
   ]
  },
  {
   "cell_type": "code",
   "execution_count": 152,
   "metadata": {},
   "outputs": [
    {
     "data": {
      "text/html": [
       "<div>\n",
       "<style scoped>\n",
       "    .dataframe tbody tr th:only-of-type {\n",
       "        vertical-align: middle;\n",
       "    }\n",
       "\n",
       "    .dataframe tbody tr th {\n",
       "        vertical-align: top;\n",
       "    }\n",
       "\n",
       "    .dataframe thead th {\n",
       "        text-align: right;\n",
       "    }\n",
       "</style>\n",
       "<table border=\"1\" class=\"dataframe\">\n",
       "  <thead>\n",
       "    <tr style=\"text-align: right;\">\n",
       "      <th></th>\n",
       "      <th>Number of movies you watched from cinema in the last two weeks</th>\n",
       "      <th>Number of movies you watched from home in the last two weeks</th>\n",
       "      <th>Average Cups of coffee consumed per day</th>\n",
       "      <th>Average amount of bills paid for mobile used</th>\n",
       "      <th>Average number of posts in social media per week</th>\n",
       "      <th>How old are you?</th>\n",
       "      <th>What is your height in cm?</th>\n",
       "      <th>What is your weight in kg?</th>\n",
       "      <th>What is your waist size in inches?</th>\n",
       "      <th>What is your favorite number, from 0 to 9?</th>\n",
       "      <th>...</th>\n",
       "      <th>What kind of songs do you usually listen to? Pop, hip-hop, R&amp;B, alternative, rock, classical, country, jazz, etc._love</th>\n",
       "      <th>What kind of songs do you usually listen to? Pop, hip-hop, R&amp;B, alternative, rock, classical, country, jazz, etc._opm</th>\n",
       "      <th>What kind of songs do you usually listen to? Pop, hip-hop, R&amp;B, alternative, rock, classical, country, jazz, etc._pop</th>\n",
       "      <th>What kind of songs do you usually listen to? Pop, hip-hop, R&amp;B, alternative, rock, classical, country, jazz, etc._pop, jazz, rock, classical, r&amp;b</th>\n",
       "      <th>What kind of songs do you usually listen to? Pop, hip-hop, R&amp;B, alternative, rock, classical, country, jazz, etc._pop, r&amp;b, edm</th>\n",
       "      <th>What kind of songs do you usually listen to? Pop, hip-hop, R&amp;B, alternative, rock, classical, country, jazz, etc._pop, rock, classical</th>\n",
       "      <th>What kind of songs do you usually listen to? Pop, hip-hop, R&amp;B, alternative, rock, classical, country, jazz, etc._r&amp;b</th>\n",
       "      <th>What kind of songs do you usually listen to? Pop, hip-hop, R&amp;B, alternative, rock, classical, country, jazz, etc._r&amp;d</th>\n",
       "      <th>What kind of songs do you usually listen to? Pop, hip-hop, R&amp;B, alternative, rock, classical, country, jazz, etc._rock</th>\n",
       "      <th>0</th>\n",
       "    </tr>\n",
       "  </thead>\n",
       "  <tbody>\n",
       "    <tr>\n",
       "      <th>0</th>\n",
       "      <td>0.0</td>\n",
       "      <td>0.0</td>\n",
       "      <td>0.0</td>\n",
       "      <td>1799.0</td>\n",
       "      <td>1.0</td>\n",
       "      <td>30.0</td>\n",
       "      <td>168.0</td>\n",
       "      <td>67.0</td>\n",
       "      <td>32.0</td>\n",
       "      <td>7.0</td>\n",
       "      <td>...</td>\n",
       "      <td>0</td>\n",
       "      <td>0</td>\n",
       "      <td>0</td>\n",
       "      <td>0</td>\n",
       "      <td>0</td>\n",
       "      <td>0</td>\n",
       "      <td>0</td>\n",
       "      <td>0</td>\n",
       "      <td>0</td>\n",
       "      <td>1</td>\n",
       "    </tr>\n",
       "    <tr>\n",
       "      <th>1</th>\n",
       "      <td>0.0</td>\n",
       "      <td>0.0</td>\n",
       "      <td>0.0</td>\n",
       "      <td>0.0</td>\n",
       "      <td>0.0</td>\n",
       "      <td>29.0</td>\n",
       "      <td>160.0</td>\n",
       "      <td>62.0</td>\n",
       "      <td>30.0</td>\n",
       "      <td>8.0</td>\n",
       "      <td>...</td>\n",
       "      <td>0</td>\n",
       "      <td>0</td>\n",
       "      <td>0</td>\n",
       "      <td>1</td>\n",
       "      <td>0</td>\n",
       "      <td>0</td>\n",
       "      <td>0</td>\n",
       "      <td>0</td>\n",
       "      <td>0</td>\n",
       "      <td>0</td>\n",
       "    </tr>\n",
       "    <tr>\n",
       "      <th>2</th>\n",
       "      <td>0.0</td>\n",
       "      <td>0.0</td>\n",
       "      <td>0.0</td>\n",
       "      <td>800.0</td>\n",
       "      <td>0.0</td>\n",
       "      <td>33.0</td>\n",
       "      <td>177.0</td>\n",
       "      <td>150.0</td>\n",
       "      <td>32.0</td>\n",
       "      <td>1.0</td>\n",
       "      <td>...</td>\n",
       "      <td>0</td>\n",
       "      <td>0</td>\n",
       "      <td>0</td>\n",
       "      <td>0</td>\n",
       "      <td>0</td>\n",
       "      <td>0</td>\n",
       "      <td>0</td>\n",
       "      <td>0</td>\n",
       "      <td>1</td>\n",
       "      <td>1</td>\n",
       "    </tr>\n",
       "  </tbody>\n",
       "</table>\n",
       "<p>3 rows × 190 columns</p>\n",
       "</div>"
      ],
      "text/plain": [
       "   Number of movies you watched from cinema in the last two weeks  \\\n",
       "0                                                0.0                \n",
       "1                                                0.0                \n",
       "2                                                0.0                \n",
       "\n",
       "   Number of movies you watched from home in the last two weeks  \\\n",
       "0                                                0.0              \n",
       "1                                                0.0              \n",
       "2                                                0.0              \n",
       "\n",
       "   Average Cups of coffee consumed per day  \\\n",
       "0                                      0.0   \n",
       "1                                      0.0   \n",
       "2                                      0.0   \n",
       "\n",
       "   Average amount of bills paid for mobile used  \\\n",
       "0                                        1799.0   \n",
       "1                                           0.0   \n",
       "2                                         800.0   \n",
       "\n",
       "   Average number of posts in social media per week  How old are you?  \\\n",
       "0                                               1.0              30.0   \n",
       "1                                               0.0              29.0   \n",
       "2                                               0.0              33.0   \n",
       "\n",
       "   What is your height in cm?  What is your weight in kg?  \\\n",
       "0                       168.0                        67.0   \n",
       "1                       160.0                        62.0   \n",
       "2                       177.0                       150.0   \n",
       "\n",
       "   What is your waist size in inches?  \\\n",
       "0                                32.0   \n",
       "1                                30.0   \n",
       "2                                32.0   \n",
       "\n",
       "   What is your favorite number, from 0 to 9? ...  \\\n",
       "0                                         7.0 ...   \n",
       "1                                         8.0 ...   \n",
       "2                                         1.0 ...   \n",
       "\n",
       "   What kind of songs do you usually listen to? Pop, hip-hop, R&B, alternative, rock, classical, country, jazz, etc._love  \\\n",
       "0                                                  0                                                                        \n",
       "1                                                  0                                                                        \n",
       "2                                                  0                                                                        \n",
       "\n",
       "   What kind of songs do you usually listen to? Pop, hip-hop, R&B, alternative, rock, classical, country, jazz, etc._opm  \\\n",
       "0                                                  0                                                                       \n",
       "1                                                  0                                                                       \n",
       "2                                                  0                                                                       \n",
       "\n",
       "   What kind of songs do you usually listen to? Pop, hip-hop, R&B, alternative, rock, classical, country, jazz, etc._pop  \\\n",
       "0                                                  0                                                                       \n",
       "1                                                  0                                                                       \n",
       "2                                                  0                                                                       \n",
       "\n",
       "   What kind of songs do you usually listen to? Pop, hip-hop, R&B, alternative, rock, classical, country, jazz, etc._pop, jazz, rock, classical, r&b  \\\n",
       "0                                                  0                                                                                                   \n",
       "1                                                  1                                                                                                   \n",
       "2                                                  0                                                                                                   \n",
       "\n",
       "   What kind of songs do you usually listen to? Pop, hip-hop, R&B, alternative, rock, classical, country, jazz, etc._pop, r&b, edm  \\\n",
       "0                                                  0                                                                                 \n",
       "1                                                  0                                                                                 \n",
       "2                                                  0                                                                                 \n",
       "\n",
       "   What kind of songs do you usually listen to? Pop, hip-hop, R&B, alternative, rock, classical, country, jazz, etc._pop, rock, classical  \\\n",
       "0                                                  0                                                                                        \n",
       "1                                                  0                                                                                        \n",
       "2                                                  0                                                                                        \n",
       "\n",
       "   What kind of songs do you usually listen to? Pop, hip-hop, R&B, alternative, rock, classical, country, jazz, etc._r&b  \\\n",
       "0                                                  0                                                                       \n",
       "1                                                  0                                                                       \n",
       "2                                                  0                                                                       \n",
       "\n",
       "   What kind of songs do you usually listen to? Pop, hip-hop, R&B, alternative, rock, classical, country, jazz, etc._r&d  \\\n",
       "0                                                  0                                                                       \n",
       "1                                                  0                                                                       \n",
       "2                                                  0                                                                       \n",
       "\n",
       "   What kind of songs do you usually listen to? Pop, hip-hop, R&B, alternative, rock, classical, country, jazz, etc._rock  \\\n",
       "0                                                  0                                                                        \n",
       "1                                                  0                                                                        \n",
       "2                                                  1                                                                        \n",
       "\n",
       "   0  \n",
       "0  1  \n",
       "1  0  \n",
       "2  1  \n",
       "\n",
       "[3 rows x 190 columns]"
      ]
     },
     "execution_count": 152,
     "metadata": {},
     "output_type": "execute_result"
    }
   ],
   "source": [
    "df_final.head(3)"
   ]
  },
  {
   "cell_type": "code",
   "execution_count": 153,
   "metadata": {},
   "outputs": [
    {
     "data": {
      "text/html": [
       "<div>\n",
       "<style scoped>\n",
       "    .dataframe tbody tr th:only-of-type {\n",
       "        vertical-align: middle;\n",
       "    }\n",
       "\n",
       "    .dataframe tbody tr th {\n",
       "        vertical-align: top;\n",
       "    }\n",
       "\n",
       "    .dataframe thead th {\n",
       "        text-align: right;\n",
       "    }\n",
       "</style>\n",
       "<table border=\"1\" class=\"dataframe\">\n",
       "  <thead>\n",
       "    <tr style=\"text-align: right;\">\n",
       "      <th></th>\n",
       "      <th>Number of movies you watched from cinema in the last two weeks</th>\n",
       "      <th>Number of movies you watched from home in the last two weeks</th>\n",
       "      <th>Average Cups of coffee consumed per day</th>\n",
       "      <th>Average amount of bills paid for mobile used</th>\n",
       "      <th>Average number of posts in social media per week</th>\n",
       "      <th>How old are you?</th>\n",
       "      <th>What is your height in cm?</th>\n",
       "      <th>What is your weight in kg?</th>\n",
       "      <th>What is your waist size in inches?</th>\n",
       "      <th>What is your favorite number, from 0 to 9?</th>\n",
       "      <th>...</th>\n",
       "      <th>What kind of songs do you usually listen to? Pop, hip-hop, R&amp;B, alternative, rock, classical, country, jazz, etc._love</th>\n",
       "      <th>What kind of songs do you usually listen to? Pop, hip-hop, R&amp;B, alternative, rock, classical, country, jazz, etc._opm</th>\n",
       "      <th>What kind of songs do you usually listen to? Pop, hip-hop, R&amp;B, alternative, rock, classical, country, jazz, etc._pop</th>\n",
       "      <th>What kind of songs do you usually listen to? Pop, hip-hop, R&amp;B, alternative, rock, classical, country, jazz, etc._pop, jazz, rock, classical, r&amp;b</th>\n",
       "      <th>What kind of songs do you usually listen to? Pop, hip-hop, R&amp;B, alternative, rock, classical, country, jazz, etc._pop, r&amp;b, edm</th>\n",
       "      <th>What kind of songs do you usually listen to? Pop, hip-hop, R&amp;B, alternative, rock, classical, country, jazz, etc._pop, rock, classical</th>\n",
       "      <th>What kind of songs do you usually listen to? Pop, hip-hop, R&amp;B, alternative, rock, classical, country, jazz, etc._r&amp;b</th>\n",
       "      <th>What kind of songs do you usually listen to? Pop, hip-hop, R&amp;B, alternative, rock, classical, country, jazz, etc._r&amp;d</th>\n",
       "      <th>What kind of songs do you usually listen to? Pop, hip-hop, R&amp;B, alternative, rock, classical, country, jazz, etc._rock</th>\n",
       "      <th>0</th>\n",
       "    </tr>\n",
       "  </thead>\n",
       "  <tbody>\n",
       "    <tr>\n",
       "      <th>39</th>\n",
       "      <td>0.0</td>\n",
       "      <td>0.0</td>\n",
       "      <td>1.0</td>\n",
       "      <td>1400.0</td>\n",
       "      <td>1.0</td>\n",
       "      <td>27.0</td>\n",
       "      <td>171.0</td>\n",
       "      <td>67.0</td>\n",
       "      <td>30.0</td>\n",
       "      <td>7.0</td>\n",
       "      <td>...</td>\n",
       "      <td>0</td>\n",
       "      <td>0</td>\n",
       "      <td>0</td>\n",
       "      <td>0</td>\n",
       "      <td>0</td>\n",
       "      <td>0</td>\n",
       "      <td>0</td>\n",
       "      <td>0</td>\n",
       "      <td>0</td>\n",
       "      <td>2</td>\n",
       "    </tr>\n",
       "    <tr>\n",
       "      <th>40</th>\n",
       "      <td>0.0</td>\n",
       "      <td>1.0</td>\n",
       "      <td>0.0</td>\n",
       "      <td>3500.0</td>\n",
       "      <td>4.0</td>\n",
       "      <td>37.0</td>\n",
       "      <td>163.0</td>\n",
       "      <td>65.0</td>\n",
       "      <td>31.0</td>\n",
       "      <td>8.0</td>\n",
       "      <td>...</td>\n",
       "      <td>0</td>\n",
       "      <td>0</td>\n",
       "      <td>0</td>\n",
       "      <td>0</td>\n",
       "      <td>0</td>\n",
       "      <td>0</td>\n",
       "      <td>0</td>\n",
       "      <td>1</td>\n",
       "      <td>0</td>\n",
       "      <td>1</td>\n",
       "    </tr>\n",
       "    <tr>\n",
       "      <th>41</th>\n",
       "      <td>1.0</td>\n",
       "      <td>4.0</td>\n",
       "      <td>2.0</td>\n",
       "      <td>900.0</td>\n",
       "      <td>2.0</td>\n",
       "      <td>38.0</td>\n",
       "      <td>165.0</td>\n",
       "      <td>68.0</td>\n",
       "      <td>33.0</td>\n",
       "      <td>8.0</td>\n",
       "      <td>...</td>\n",
       "      <td>0</td>\n",
       "      <td>0</td>\n",
       "      <td>1</td>\n",
       "      <td>0</td>\n",
       "      <td>0</td>\n",
       "      <td>0</td>\n",
       "      <td>0</td>\n",
       "      <td>0</td>\n",
       "      <td>0</td>\n",
       "      <td>1</td>\n",
       "    </tr>\n",
       "  </tbody>\n",
       "</table>\n",
       "<p>3 rows × 190 columns</p>\n",
       "</div>"
      ],
      "text/plain": [
       "    Number of movies you watched from cinema in the last two weeks  \\\n",
       "39                                                0.0                \n",
       "40                                                0.0                \n",
       "41                                                1.0                \n",
       "\n",
       "    Number of movies you watched from home in the last two weeks  \\\n",
       "39                                                0.0              \n",
       "40                                                1.0              \n",
       "41                                                4.0              \n",
       "\n",
       "    Average Cups of coffee consumed per day  \\\n",
       "39                                      1.0   \n",
       "40                                      0.0   \n",
       "41                                      2.0   \n",
       "\n",
       "    Average amount of bills paid for mobile used  \\\n",
       "39                                        1400.0   \n",
       "40                                        3500.0   \n",
       "41                                         900.0   \n",
       "\n",
       "    Average number of posts in social media per week  How old are you?  \\\n",
       "39                                               1.0              27.0   \n",
       "40                                               4.0              37.0   \n",
       "41                                               2.0              38.0   \n",
       "\n",
       "    What is your height in cm?  What is your weight in kg?  \\\n",
       "39                       171.0                        67.0   \n",
       "40                       163.0                        65.0   \n",
       "41                       165.0                        68.0   \n",
       "\n",
       "    What is your waist size in inches?  \\\n",
       "39                                30.0   \n",
       "40                                31.0   \n",
       "41                                33.0   \n",
       "\n",
       "    What is your favorite number, from 0 to 9? ...  \\\n",
       "39                                         7.0 ...   \n",
       "40                                         8.0 ...   \n",
       "41                                         8.0 ...   \n",
       "\n",
       "    What kind of songs do you usually listen to? Pop, hip-hop, R&B, alternative, rock, classical, country, jazz, etc._love  \\\n",
       "39                                                  0                                                                        \n",
       "40                                                  0                                                                        \n",
       "41                                                  0                                                                        \n",
       "\n",
       "    What kind of songs do you usually listen to? Pop, hip-hop, R&B, alternative, rock, classical, country, jazz, etc._opm  \\\n",
       "39                                                  0                                                                       \n",
       "40                                                  0                                                                       \n",
       "41                                                  0                                                                       \n",
       "\n",
       "    What kind of songs do you usually listen to? Pop, hip-hop, R&B, alternative, rock, classical, country, jazz, etc._pop  \\\n",
       "39                                                  0                                                                       \n",
       "40                                                  0                                                                       \n",
       "41                                                  1                                                                       \n",
       "\n",
       "    What kind of songs do you usually listen to? Pop, hip-hop, R&B, alternative, rock, classical, country, jazz, etc._pop, jazz, rock, classical, r&b  \\\n",
       "39                                                  0                                                                                                   \n",
       "40                                                  0                                                                                                   \n",
       "41                                                  0                                                                                                   \n",
       "\n",
       "    What kind of songs do you usually listen to? Pop, hip-hop, R&B, alternative, rock, classical, country, jazz, etc._pop, r&b, edm  \\\n",
       "39                                                  0                                                                                 \n",
       "40                                                  0                                                                                 \n",
       "41                                                  0                                                                                 \n",
       "\n",
       "    What kind of songs do you usually listen to? Pop, hip-hop, R&B, alternative, rock, classical, country, jazz, etc._pop, rock, classical  \\\n",
       "39                                                  0                                                                                        \n",
       "40                                                  0                                                                                        \n",
       "41                                                  0                                                                                        \n",
       "\n",
       "    What kind of songs do you usually listen to? Pop, hip-hop, R&B, alternative, rock, classical, country, jazz, etc._r&b  \\\n",
       "39                                                  0                                                                       \n",
       "40                                                  0                                                                       \n",
       "41                                                  0                                                                       \n",
       "\n",
       "    What kind of songs do you usually listen to? Pop, hip-hop, R&B, alternative, rock, classical, country, jazz, etc._r&d  \\\n",
       "39                                                  0                                                                       \n",
       "40                                                  1                                                                       \n",
       "41                                                  0                                                                       \n",
       "\n",
       "    What kind of songs do you usually listen to? Pop, hip-hop, R&B, alternative, rock, classical, country, jazz, etc._rock  \\\n",
       "39                                                  0                                                                        \n",
       "40                                                  0                                                                        \n",
       "41                                                  0                                                                        \n",
       "\n",
       "    0  \n",
       "39  2  \n",
       "40  1  \n",
       "41  1  \n",
       "\n",
       "[3 rows x 190 columns]"
      ]
     },
     "execution_count": 153,
     "metadata": {},
     "output_type": "execute_result"
    }
   ],
   "source": [
    "df_final.tail(3)"
   ]
  },
  {
   "cell_type": "markdown",
   "metadata": {},
   "source": [
    "## Models"
   ]
  },
  {
   "cell_type": "markdown",
   "metadata": {},
   "source": [
    "Here, we run a k-Nearest Neighbors algorithm to automatically classify whether a person is in a relationship or not.\n",
    "\n",
    "kNN is a kind of algorithm that we can use to predict the classification of a certain observation based on the classifications of historical observations used to train the algorithm. Loosely speaking, new observations are are classified based on how closely they resemble the features of historical observations. "
   ]
  },
  {
   "cell_type": "markdown",
   "metadata": {},
   "source": [
    "#### Importing Packages"
   ]
  },
  {
   "cell_type": "code",
   "execution_count": 154,
   "metadata": {},
   "outputs": [],
   "source": [
    "# Import packages\n",
    "\n",
    "from collections import Counter\n",
    "\n",
    "from sklearn.model_selection import cross_val_score\n",
    "from sklearn.model_selection import train_test_split\n",
    "\n",
    "from sklearn.neighbors import KNeighborsClassifier\n",
    "from sklearn.neighbors import KNeighborsRegressor\n",
    "\n",
    "from sklearn.linear_model import LinearRegression\n",
    "from sklearn.linear_model import Ridge\n",
    "from sklearn.linear_model import Lasso\n",
    "\n",
    "import mglearn"
   ]
  },
  {
   "cell_type": "markdown",
   "metadata": {},
   "source": [
    "#### Defining Model Function"
   ]
  },
  {
   "cell_type": "code",
   "execution_count": 155,
   "metadata": {},
   "outputs": [],
   "source": [
    "def ml_model(feature, target, ml_type='knn_class', show_PCC=False,\n",
    "             test_size=0.25, param_range=range(1, 30),\n",
    "             seed_settings=range(0, 30), max_iter = 10000, plot = False,\n",
    "            report = True):\n",
    "    \"\"\"\n",
    "    Plot accuracy vs parameter for test and training data. Print\n",
    "    maximum accuracy and corresponding k value. Print number of trials.\n",
    "\n",
    "    Inputs\n",
    "    ======\n",
    "    target: Dataframe or Series of target variables\n",
    "    feature: Dataframe of features\n",
    "    test_size: Float indicating the proportion of data for testing\n",
    "    target: Series of target values\n",
    "    test_size: List of values for percentage of test size\n",
    "    ml_type: String indicating which ML algorithm to use\n",
    "    param_range: Range of values for parameters\n",
    "\n",
    "    Outputs\n",
    "    =======\n",
    "    Plot of accuracy vs parameter for test and training data\n",
    "    \"\"\"\n",
    "\n",
    "    train_acc = []\n",
    "    test_acc = []\n",
    "    \n",
    "    lasso_feats = []\n",
    "\n",
    "    # Initiate counter for number of trials\n",
    "    iterations = 0\n",
    "\n",
    "    # create an array of cols: parameters and rows: seeds\n",
    "    for seed in seed_settings:\n",
    "\n",
    "        # count one trial\n",
    "        iterations += 1\n",
    "\n",
    "        # split data into test and training sets\n",
    "        X_train, X_test, y_train, y_test = train_test_split(feature,\n",
    "                                                            target,\n",
    "                                                            test_size=test_size,\n",
    "                                                            random_state=seed)\n",
    "        train = []\n",
    "        test = []\n",
    "        lasso = []\n",
    "        \n",
    "        # make a list of accuracies for different parameters\n",
    "        for param in param_range:\n",
    "            # build the model\n",
    "            if ml_type == 'knn_class':\n",
    "                clf = KNeighborsClassifier(n_neighbors=param)\n",
    "\n",
    "            elif ml_type == 'knn_reg':\n",
    "                clf = KNeighborsRegressor(n_neighbors=param)\n",
    "\n",
    "            elif ml_type == 'ridge':\n",
    "                clf = Ridge(alpha=param)\n",
    "                \n",
    "            elif ml_type == 'lasso':\n",
    "                clf = Lasso(alpha=param, max_iter=max_iter)\n",
    "\n",
    "            clf.fit(X_train, y_train)\n",
    "\n",
    "            # record training set accuracy\n",
    "            train.append(clf.score(X_train, y_train))\n",
    "            # record generalization accuracy\n",
    "            test.append(clf.score(X_test, y_test))\n",
    "            \n",
    "            if ml_type == 'lasso':\n",
    "                lasso.append(np.sum(clf.coef_ != 0))\n",
    "\n",
    "        # append the list to _acc arrays\n",
    "        train_acc.append(train)\n",
    "        test_acc.append(test)\n",
    "        \n",
    "        if ml_type == 'lasso':\n",
    "            lasso_feats.append(lasso)\n",
    "\n",
    "    # compute mean and error across columns\n",
    "    train_all = np.mean(train_acc, axis=0)\n",
    "    test_all = np.mean(test_acc, axis=0)\n",
    "\n",
    "    # compute standard deviation\n",
    "    std_train = np.std(train_acc, axis=0)\n",
    "    std_test = np.std(test_acc, axis=0)\n",
    "\n",
    "    # compute pcc\n",
    "    state_counts = Counter(target)\n",
    "    df_state = pd.DataFrame.from_dict(state_counts, orient='index')\n",
    "    num = (df_state[0] / df_state[0].sum())**2\n",
    "    pcc = 1.25 * num.sum()\n",
    "    \n",
    "    if plot == True:\n",
    "        plt.figure(figsize=(8, 6))\n",
    "\n",
    "        # plot train and errors and standard devs\n",
    "        plt.plot(param_range, train_all, c='b', label=\"training set\", marker='.')\n",
    "        plt.fill_between(param_range,\n",
    "                         train_all + std_train,\n",
    "                         train_all - std_train,\n",
    "                         color='b', alpha=0.1)\n",
    "\n",
    "        # plot test and errors and standard devs\n",
    "        plt.plot(param_range, test_all, c='r', label=\"test set\", marker='.')\n",
    "        plt.fill_between(param_range,\n",
    "                         test_all + std_test,\n",
    "                         test_all - std_test,\n",
    "                         color='r', alpha=0.1)\n",
    "        \n",
    "        # plot pcc line\n",
    "        if show_PCC == True:\n",
    "            plt.plot(param_range, [pcc] * len(param_range), c = 'tab:gray', label = \"pcc\", linestyle = '--')\n",
    "\n",
    "        plt.xlabel('Parameter Value')\n",
    "        plt.ylabel('Accuracy')\n",
    "        plt.title(ml_type + \": Accuracy vs Parameter Value\")\n",
    "        plt.legend(loc = 0)\n",
    "\n",
    "        plt.tight_layout()\n",
    "        plt.show()\n",
    "\n",
    "    max_inds=np.argsort(test_all)[-1]\n",
    "    acc_max=test_all[max_inds]\n",
    "    param_max = list(param_range)[max_inds]\n",
    "    \n",
    "    if report == True:\n",
    "        print('Report:')\n",
    "        print('=======')\n",
    "        print(\"Max accuracy: {}\\nOptimal parameter: {}\".format(\n",
    "            np.round(acc_max, 4), param_max))\n",
    "        if ml_type == 'lasso':\n",
    "            lasso_feats_mean = np.mean(lasso_feats, axis=0)[max_inds]\n",
    "            print('Ave no. of features for max accuracy: {} out of {}'.format(lasso_feats_mean,\n",
    "                                                                 len(X[0])))\n",
    "        print('1.25 x PCC: {0:.4f}'.format(pcc))\n",
    "        print('Total iterations: {}'.format(iterations))\n",
    "    \n",
    "    # return lasso_feats\n",
    "    return np.round(acc_max, 4), param_max"
   ]
  },
  {
   "cell_type": "markdown",
   "metadata": {},
   "source": [
    "#### Running the Model on the Data"
   ]
  },
  {
   "cell_type": "code",
   "execution_count": 156,
   "metadata": {},
   "outputs": [],
   "source": [
    "X = df_final.iloc[:, :-1]\n",
    "y = df_final.iloc[:,-1]"
   ]
  },
  {
   "cell_type": "code",
   "execution_count": 157,
   "metadata": {},
   "outputs": [
    {
     "data": {
      "text/html": [
       "<div>\n",
       "<style scoped>\n",
       "    .dataframe tbody tr th:only-of-type {\n",
       "        vertical-align: middle;\n",
       "    }\n",
       "\n",
       "    .dataframe tbody tr th {\n",
       "        vertical-align: top;\n",
       "    }\n",
       "\n",
       "    .dataframe thead th {\n",
       "        text-align: right;\n",
       "    }\n",
       "</style>\n",
       "<table border=\"1\" class=\"dataframe\">\n",
       "  <thead>\n",
       "    <tr style=\"text-align: right;\">\n",
       "      <th></th>\n",
       "      <th>Number of movies you watched from cinema in the last two weeks</th>\n",
       "      <th>Number of movies you watched from home in the last two weeks</th>\n",
       "      <th>Average Cups of coffee consumed per day</th>\n",
       "      <th>Average amount of bills paid for mobile used</th>\n",
       "      <th>Average number of posts in social media per week</th>\n",
       "      <th>How old are you?</th>\n",
       "      <th>What is your height in cm?</th>\n",
       "      <th>What is your weight in kg?</th>\n",
       "      <th>What is your waist size in inches?</th>\n",
       "      <th>What is your favorite number, from 0 to 9?</th>\n",
       "      <th>...</th>\n",
       "      <th>What kind of songs do you usually listen to? Pop, hip-hop, R&amp;B, alternative, rock, classical, country, jazz, etc._jazz, r&amp;b, classical, country, soul</th>\n",
       "      <th>What kind of songs do you usually listen to? Pop, hip-hop, R&amp;B, alternative, rock, classical, country, jazz, etc._love</th>\n",
       "      <th>What kind of songs do you usually listen to? Pop, hip-hop, R&amp;B, alternative, rock, classical, country, jazz, etc._opm</th>\n",
       "      <th>What kind of songs do you usually listen to? Pop, hip-hop, R&amp;B, alternative, rock, classical, country, jazz, etc._pop</th>\n",
       "      <th>What kind of songs do you usually listen to? Pop, hip-hop, R&amp;B, alternative, rock, classical, country, jazz, etc._pop, jazz, rock, classical, r&amp;b</th>\n",
       "      <th>What kind of songs do you usually listen to? Pop, hip-hop, R&amp;B, alternative, rock, classical, country, jazz, etc._pop, r&amp;b, edm</th>\n",
       "      <th>What kind of songs do you usually listen to? Pop, hip-hop, R&amp;B, alternative, rock, classical, country, jazz, etc._pop, rock, classical</th>\n",
       "      <th>What kind of songs do you usually listen to? Pop, hip-hop, R&amp;B, alternative, rock, classical, country, jazz, etc._r&amp;b</th>\n",
       "      <th>What kind of songs do you usually listen to? Pop, hip-hop, R&amp;B, alternative, rock, classical, country, jazz, etc._r&amp;d</th>\n",
       "      <th>What kind of songs do you usually listen to? Pop, hip-hop, R&amp;B, alternative, rock, classical, country, jazz, etc._rock</th>\n",
       "    </tr>\n",
       "  </thead>\n",
       "  <tbody>\n",
       "    <tr>\n",
       "      <th>0</th>\n",
       "      <td>0.0</td>\n",
       "      <td>0.0</td>\n",
       "      <td>0.0</td>\n",
       "      <td>1799.0</td>\n",
       "      <td>1.0</td>\n",
       "      <td>30.0</td>\n",
       "      <td>168.0</td>\n",
       "      <td>67.0</td>\n",
       "      <td>32.0</td>\n",
       "      <td>7.0</td>\n",
       "      <td>...</td>\n",
       "      <td>0</td>\n",
       "      <td>0</td>\n",
       "      <td>0</td>\n",
       "      <td>0</td>\n",
       "      <td>0</td>\n",
       "      <td>0</td>\n",
       "      <td>0</td>\n",
       "      <td>0</td>\n",
       "      <td>0</td>\n",
       "      <td>0</td>\n",
       "    </tr>\n",
       "    <tr>\n",
       "      <th>1</th>\n",
       "      <td>0.0</td>\n",
       "      <td>0.0</td>\n",
       "      <td>0.0</td>\n",
       "      <td>0.0</td>\n",
       "      <td>0.0</td>\n",
       "      <td>29.0</td>\n",
       "      <td>160.0</td>\n",
       "      <td>62.0</td>\n",
       "      <td>30.0</td>\n",
       "      <td>8.0</td>\n",
       "      <td>...</td>\n",
       "      <td>0</td>\n",
       "      <td>0</td>\n",
       "      <td>0</td>\n",
       "      <td>0</td>\n",
       "      <td>1</td>\n",
       "      <td>0</td>\n",
       "      <td>0</td>\n",
       "      <td>0</td>\n",
       "      <td>0</td>\n",
       "      <td>0</td>\n",
       "    </tr>\n",
       "    <tr>\n",
       "      <th>2</th>\n",
       "      <td>0.0</td>\n",
       "      <td>0.0</td>\n",
       "      <td>0.0</td>\n",
       "      <td>800.0</td>\n",
       "      <td>0.0</td>\n",
       "      <td>33.0</td>\n",
       "      <td>177.0</td>\n",
       "      <td>150.0</td>\n",
       "      <td>32.0</td>\n",
       "      <td>1.0</td>\n",
       "      <td>...</td>\n",
       "      <td>0</td>\n",
       "      <td>0</td>\n",
       "      <td>0</td>\n",
       "      <td>0</td>\n",
       "      <td>0</td>\n",
       "      <td>0</td>\n",
       "      <td>0</td>\n",
       "      <td>0</td>\n",
       "      <td>0</td>\n",
       "      <td>1</td>\n",
       "    </tr>\n",
       "  </tbody>\n",
       "</table>\n",
       "<p>3 rows × 189 columns</p>\n",
       "</div>"
      ],
      "text/plain": [
       "   Number of movies you watched from cinema in the last two weeks  \\\n",
       "0                                                0.0                \n",
       "1                                                0.0                \n",
       "2                                                0.0                \n",
       "\n",
       "   Number of movies you watched from home in the last two weeks  \\\n",
       "0                                                0.0              \n",
       "1                                                0.0              \n",
       "2                                                0.0              \n",
       "\n",
       "   Average Cups of coffee consumed per day  \\\n",
       "0                                      0.0   \n",
       "1                                      0.0   \n",
       "2                                      0.0   \n",
       "\n",
       "   Average amount of bills paid for mobile used  \\\n",
       "0                                        1799.0   \n",
       "1                                           0.0   \n",
       "2                                         800.0   \n",
       "\n",
       "   Average number of posts in social media per week  How old are you?  \\\n",
       "0                                               1.0              30.0   \n",
       "1                                               0.0              29.0   \n",
       "2                                               0.0              33.0   \n",
       "\n",
       "   What is your height in cm?  What is your weight in kg?  \\\n",
       "0                       168.0                        67.0   \n",
       "1                       160.0                        62.0   \n",
       "2                       177.0                       150.0   \n",
       "\n",
       "   What is your waist size in inches?  \\\n",
       "0                                32.0   \n",
       "1                                30.0   \n",
       "2                                32.0   \n",
       "\n",
       "   What is your favorite number, from 0 to 9?  \\\n",
       "0                                         7.0   \n",
       "1                                         8.0   \n",
       "2                                         1.0   \n",
       "\n",
       "                                                            ...                                                            \\\n",
       "0                                                           ...                                                             \n",
       "1                                                           ...                                                             \n",
       "2                                                           ...                                                             \n",
       "\n",
       "   What kind of songs do you usually listen to? Pop, hip-hop, R&B, alternative, rock, classical, country, jazz, etc._jazz, r&b, classical, country, soul  \\\n",
       "0                                                  0                                                                                                       \n",
       "1                                                  0                                                                                                       \n",
       "2                                                  0                                                                                                       \n",
       "\n",
       "   What kind of songs do you usually listen to? Pop, hip-hop, R&B, alternative, rock, classical, country, jazz, etc._love  \\\n",
       "0                                                  0                                                                        \n",
       "1                                                  0                                                                        \n",
       "2                                                  0                                                                        \n",
       "\n",
       "   What kind of songs do you usually listen to? Pop, hip-hop, R&B, alternative, rock, classical, country, jazz, etc._opm  \\\n",
       "0                                                  0                                                                       \n",
       "1                                                  0                                                                       \n",
       "2                                                  0                                                                       \n",
       "\n",
       "   What kind of songs do you usually listen to? Pop, hip-hop, R&B, alternative, rock, classical, country, jazz, etc._pop  \\\n",
       "0                                                  0                                                                       \n",
       "1                                                  0                                                                       \n",
       "2                                                  0                                                                       \n",
       "\n",
       "   What kind of songs do you usually listen to? Pop, hip-hop, R&B, alternative, rock, classical, country, jazz, etc._pop, jazz, rock, classical, r&b  \\\n",
       "0                                                  0                                                                                                   \n",
       "1                                                  1                                                                                                   \n",
       "2                                                  0                                                                                                   \n",
       "\n",
       "   What kind of songs do you usually listen to? Pop, hip-hop, R&B, alternative, rock, classical, country, jazz, etc._pop, r&b, edm  \\\n",
       "0                                                  0                                                                                 \n",
       "1                                                  0                                                                                 \n",
       "2                                                  0                                                                                 \n",
       "\n",
       "   What kind of songs do you usually listen to? Pop, hip-hop, R&B, alternative, rock, classical, country, jazz, etc._pop, rock, classical  \\\n",
       "0                                                  0                                                                                        \n",
       "1                                                  0                                                                                        \n",
       "2                                                  0                                                                                        \n",
       "\n",
       "   What kind of songs do you usually listen to? Pop, hip-hop, R&B, alternative, rock, classical, country, jazz, etc._r&b  \\\n",
       "0                                                  0                                                                       \n",
       "1                                                  0                                                                       \n",
       "2                                                  0                                                                       \n",
       "\n",
       "   What kind of songs do you usually listen to? Pop, hip-hop, R&B, alternative, rock, classical, country, jazz, etc._r&d  \\\n",
       "0                                                  0                                                                       \n",
       "1                                                  0                                                                       \n",
       "2                                                  0                                                                       \n",
       "\n",
       "   What kind of songs do you usually listen to? Pop, hip-hop, R&B, alternative, rock, classical, country, jazz, etc._rock  \n",
       "0                                                  0                                                                       \n",
       "1                                                  0                                                                       \n",
       "2                                                  1                                                                       \n",
       "\n",
       "[3 rows x 189 columns]"
      ]
     },
     "execution_count": 157,
     "metadata": {},
     "output_type": "execute_result"
    }
   ],
   "source": [
    "X.head(3)"
   ]
  },
  {
   "cell_type": "code",
   "execution_count": 158,
   "metadata": {},
   "outputs": [
    {
     "data": {
      "text/plain": [
       "37    1\n",
       "38    1\n",
       "39    2\n",
       "40    1\n",
       "41    1\n",
       "Name: 0, dtype: int64"
      ]
     },
     "execution_count": 158,
     "metadata": {},
     "output_type": "execute_result"
    }
   ],
   "source": [
    "y.tail(5)"
   ]
  },
  {
   "cell_type": "markdown",
   "metadata": {},
   "source": [
    "The Proportional Chance Criterion (PCC) measures the chance of correctly classifying a datapoint based on chance alone. To say that our model works, we need to exceed prediction accuracy of 1.25 x PCC. In this case, we need to exceed 60% accuracy."
   ]
  },
  {
   "cell_type": "code",
   "execution_count": 159,
   "metadata": {},
   "outputs": [
    {
     "name": "stdout",
     "output_type": "stream",
     "text": [
      "Population per class:     0\n",
      "1  19\n",
      "0  22\n",
      "2   1\n",
      "\n",
      "1.25 * Proportion Chance Criterion: 59.94897959183673%\n"
     ]
    },
    {
     "data": {
      "image/png": "[encoded data removed]",
      "text/plain": [
       "<matplotlib.figure.Figure at 0x1c179799b0>"
      ]
     },
     "metadata": {},
     "output_type": "display_data"
    }
   ],
   "source": [
    "state_counts = Counter(y)\n",
    "df_state = pd.DataFrame.from_dict(state_counts, orient='index')\n",
    "df_state.plot(kind='bar')\n",
    "    \n",
    "num=(df_state[0]/df_state[0].sum())**2\n",
    "print(\"Population per class: {}\\n\".format(df_state))\n",
    "print(\"1.25 * Proportion Chance Criterion: {}%\".format(1.25*100*num.sum()))"
   ]
  },
  {
   "cell_type": "markdown",
   "metadata": {},
   "source": [
    "#### Running the kNN model"
   ]
  },
  {
   "cell_type": "markdown",
   "metadata": {},
   "source": [
    "We first run the model on all features and see that although the accuracy exceeds the minimum accuracy required, the prediction accuracy is only 66% using 7 nearest neighbors. Let's check if we can reduce the features to find the best set of features that will improve accuracy."
   ]
  },
  {
   "cell_type": "code",
   "execution_count": 160,
   "metadata": {
    "scrolled": false
   },
   "outputs": [
    {
     "data": {
      "image/png": "[encoded data removed]",
      "text/plain": [
       "<matplotlib.figure.Figure at 0x1112d5518>"
      ]
     },
     "metadata": {},
     "output_type": "display_data"
    },
    {
     "name": "stdout",
     "output_type": "stream",
     "text": [
      "Report:\n",
      "=======\n",
      "Max accuracy: 0.6576\n",
      "Optimal parameter: 7\n",
      "1.25 x PCC: 0.5995\n",
      "Total iterations: 30\n"
     ]
    }
   ],
   "source": [
    "ml_model(X, y, ml_type='knn_class', show_PCC=True,\n",
    "             test_size=0.25, param_range=range(1, 30),\n",
    "             seed_settings=range(0, 30), plot = True, report=True);"
   ]
  },
  {
   "cell_type": "markdown",
   "metadata": {},
   "source": [
    "Let's run the model, one feature at a time."
   ]
  },
  {
   "cell_type": "code",
   "execution_count": 161,
   "metadata": {
    "scrolled": false
   },
   "outputs": [],
   "source": [
    "acc = []\n",
    "\n",
    "for i in range(len(X.columns)):\n",
    "    x = pd.DataFrame(X.iloc[:,i])\n",
    "    a, p = ml_model(x, y, ml_type='knn_class', show_PCC=False,\n",
    "                 test_size=0.25, param_range=range(1, 15),\n",
    "                 seed_settings=range(0, 10), plot = False, report = False)\n",
    "    acc.append(a)"
   ]
  },
  {
   "cell_type": "markdown",
   "metadata": {},
   "source": [
    "The top features and their corresponding accuracies:"
   ]
  },
  {
   "cell_type": "code",
   "execution_count": 162,
   "metadata": {},
   "outputs": [
    {
     "data": {
      "text/plain": [
       "[0.5091,\n",
       " 0.5727,\n",
       " 0.4727,\n",
       " 0.7818,\n",
       " 0.4727,\n",
       " 0.6364,\n",
       " 0.4091,\n",
       " 0.4455,\n",
       " 0.4455,\n",
       " 0.4636,\n",
       " 0.5818,\n",
       " 0.5,\n",
       " 0.4818,\n",
       " 0.4909,\n",
       " 0.5091,\n",
       " 0.5,\n",
       " 0.5182,\n",
       " 0.4727,\n",
       " 0.4909,\n",
       " 0.4727,\n",
       " 0.8818,\n",
       " 0.6182,\n",
       " 0.4273,\n",
       " 0.5364,\n",
       " 0.5636,\n",
       " 0.5182,\n",
       " 0.5636,\n",
       " 0.6909,\n",
       " 0.4545,\n",
       " 0.5727,\n",
       " 0.4727,\n",
       " 0.4455,\n",
       " 0.4455,\n",
       " 0.4091,\n",
       " 0.3818,\n",
       " 0.4364,\n",
       " 0.4091,\n",
       " 0.4273,\n",
       " 0.4091,\n",
       " 0.4091,\n",
       " 0.4273,\n",
       " 0.4091,\n",
       " 0.4,\n",
       " 0.4091,\n",
       " 0.4091,\n",
       " 0.4091,\n",
       " 0.4455,\n",
       " 0.4455,\n",
       " 0.4091,\n",
       " 0.4455,\n",
       " 0.4091,\n",
       " 0.4091,\n",
       " 0.4455,\n",
       " 0.4182,\n",
       " 0.4091,\n",
       " 0.4273,\n",
       " 0.4091,\n",
       " 0.4364,\n",
       " 0.4091,\n",
       " 0.4273,\n",
       " 0.4091,\n",
       " 0.4091,\n",
       " 0.3818,\n",
       " 0.5091,\n",
       " 0.4818,\n",
       " 0.4273,\n",
       " 0.4091,\n",
       " 0.4091,\n",
       " 0.3818,\n",
       " 0.4364,\n",
       " 0.4091,\n",
       " 0.4091,\n",
       " 0.4545,\n",
       " 0.4091,\n",
       " 0.4091,\n",
       " 0.4,\n",
       " 0.4545,\n",
       " 0.4182,\n",
       " 0.4091,\n",
       " 0.6,\n",
       " 0.4182,\n",
       " 0.4091,\n",
       " 0.4091,\n",
       " 0.4455,\n",
       " 0.4182,\n",
       " 0.4091,\n",
       " 0.4,\n",
       " 0.4091,\n",
       " 0.4091,\n",
       " 0.4364,\n",
       " 0.4455,\n",
       " 0.4,\n",
       " 0.4364,\n",
       " 0.4091,\n",
       " 0.4091,\n",
       " 0.4455,\n",
       " 0.4545,\n",
       " 0.4,\n",
       " 0.5091,\n",
       " 0.4364,\n",
       " 0.4091,\n",
       " 0.4091,\n",
       " 0.4,\n",
       " 0.4091,\n",
       " 0.4091,\n",
       " 0.4091,\n",
       " 0.4091,\n",
       " 0.4091,\n",
       " 0.4091,\n",
       " 0.4091,\n",
       " 0.4091,\n",
       " 0.4545,\n",
       " 0.4364,\n",
       " 0.4091,\n",
       " 0.4091,\n",
       " 0.4,\n",
       " 0.4091,\n",
       " 0.4091,\n",
       " 0.4364,\n",
       " 0.4091,\n",
       " 0.4455,\n",
       " 0.4091,\n",
       " 0.4091,\n",
       " 0.4091,\n",
       " 0.4091,\n",
       " 0.4091,\n",
       " 0.4091,\n",
       " 0.4091,\n",
       " 0.4273,\n",
       " 0.4091,\n",
       " 0.4091,\n",
       " 0.4091,\n",
       " 0.4091,\n",
       " 0.4091,\n",
       " 0.4091,\n",
       " 0.4091,\n",
       " 0.4364,\n",
       " 0.4091,\n",
       " 0.4273,\n",
       " 0.4091,\n",
       " 0.4091,\n",
       " 0.4091,\n",
       " 0.4091,\n",
       " 0.4273,\n",
       " 0.4909,\n",
       " 0.4091,\n",
       " 0.4091,\n",
       " 0.4273,\n",
       " 0.4182,\n",
       " 0.4091,\n",
       " 0.4545,\n",
       " 0.4091,\n",
       " 0.4273,\n",
       " 0.4273,\n",
       " 0.4,\n",
       " 0.4091,\n",
       " 0.4182,\n",
       " 0.4091,\n",
       " 0.4545,\n",
       " 0.4545,\n",
       " 0.4364,\n",
       " 0.4273,\n",
       " 0.4091,\n",
       " 0.4091,\n",
       " 0.4091,\n",
       " 0.4182,\n",
       " 0.4091,\n",
       " 0.4091,\n",
       " 0.4091,\n",
       " 0.4091,\n",
       " 0.4091,\n",
       " 0.4273,\n",
       " 0.4091,\n",
       " 0.4455,\n",
       " 0.4273,\n",
       " 0.4091,\n",
       " 0.4,\n",
       " 0.4091,\n",
       " 0.4091,\n",
       " 0.4091,\n",
       " 0.4091,\n",
       " 0.4091,\n",
       " 0.4182,\n",
       " 0.4091,\n",
       " 0.4364,\n",
       " 0.4091,\n",
       " 0.4,\n",
       " 0.4091,\n",
       " 0.4182]"
      ]
     },
     "execution_count": 162,
     "metadata": {},
     "output_type": "execute_result"
    }
   ],
   "source": [
    "acc"
   ]
  },
  {
   "cell_type": "code",
   "execution_count": 163,
   "metadata": {},
   "outputs": [],
   "source": [
    "inds = np.argsort(acc)[::-1]\n",
    "sorted_acc = np.array(acc)[inds]\n",
    "cols = np.array(X.columns)[inds]"
   ]
  },
  {
   "cell_type": "code",
   "execution_count": 164,
   "metadata": {},
   "outputs": [
    {
     "data": {
      "text/html": [
       "<div>\n",
       "<style scoped>\n",
       "    .dataframe tbody tr th:only-of-type {\n",
       "        vertical-align: middle;\n",
       "    }\n",
       "\n",
       "    .dataframe tbody tr th {\n",
       "        vertical-align: top;\n",
       "    }\n",
       "\n",
       "    .dataframe thead th {\n",
       "        text-align: right;\n",
       "    }\n",
       "</style>\n",
       "<table border=\"1\" class=\"dataframe\">\n",
       "  <thead>\n",
       "    <tr style=\"text-align: right;\">\n",
       "      <th></th>\n",
       "      <th>0</th>\n",
       "    </tr>\n",
       "  </thead>\n",
       "  <tbody>\n",
       "    <tr>\n",
       "      <th>How many times in a month do you go out with your s.o.?</th>\n",
       "      <td>0.8818</td>\n",
       "    </tr>\n",
       "    <tr>\n",
       "      <th>Average amount of bills paid for mobile used</th>\n",
       "      <td>0.7818</td>\n",
       "    </tr>\n",
       "    <tr>\n",
       "      <th>How many partners have you had?</th>\n",
       "      <td>0.6909</td>\n",
       "    </tr>\n",
       "    <tr>\n",
       "      <th>How old are you?</th>\n",
       "      <td>0.6364</td>\n",
       "    </tr>\n",
       "    <tr>\n",
       "      <th>How many movies do you see inside a theater in a year?</th>\n",
       "      <td>0.6182</td>\n",
       "    </tr>\n",
       "  </tbody>\n",
       "</table>\n",
       "</div>"
      ],
      "text/plain": [
       "                                                         0\n",
       "How many times in a month do you go out with yo...  0.8818\n",
       "Average amount of bills paid for mobile used        0.7818\n",
       "How many partners have you had?                     0.6909\n",
       "How old are you?                                    0.6364\n",
       "How many movies do you see inside a theater in ...  0.6182"
      ]
     },
     "execution_count": 164,
     "metadata": {},
     "output_type": "execute_result"
    }
   ],
   "source": [
    "pd.DataFrame(sorted_acc, cols)[:5]"
   ]
  },
  {
   "cell_type": "markdown",
   "metadata": {},
   "source": [
    "Rerunning the model on the top feature `How many times in a month do you go out with your s.o.` predicts the target with 85% accuracy, as expected."
   ]
  },
  {
   "cell_type": "code",
   "execution_count": 165,
   "metadata": {},
   "outputs": [
    {
     "data": {
      "image/png": "[encoded data removed]",
      "text/plain": [
       "<matplotlib.figure.Figure at 0x1c17b819b0>"
      ]
     },
     "metadata": {},
     "output_type": "display_data"
    },
    {
     "name": "stdout",
     "output_type": "stream",
     "text": [
      "Report:\n",
      "=======\n",
      "Max accuracy: 0.8485\n",
      "Optimal parameter: 5\n",
      "1.25 x PCC: 0.5995\n",
      "Total iterations: 30\n"
     ]
    }
   ],
   "source": [
    "ml_model(X[cols[:1]], y, ml_type='knn_class', show_PCC=True,\n",
    "             test_size=0.25, param_range=range(1, 30),\n",
    "             seed_settings=range(0, 30), plot = True, report=True);"
   ]
  },
  {
   "cell_type": "markdown",
   "metadata": {},
   "source": [
    "Rerunning the model on the top feature `Average amount of bills paid for mobile used` predicts the target with 85% accuracy, as expected."
   ]
  },
  {
   "cell_type": "code",
   "execution_count": 166,
   "metadata": {},
   "outputs": [
    {
     "data": {
      "text/html": [
       "<div>\n",
       "<style scoped>\n",
       "    .dataframe tbody tr th:only-of-type {\n",
       "        vertical-align: middle;\n",
       "    }\n",
       "\n",
       "    .dataframe tbody tr th {\n",
       "        vertical-align: top;\n",
       "    }\n",
       "\n",
       "    .dataframe thead th {\n",
       "        text-align: right;\n",
       "    }\n",
       "</style>\n",
       "<table border=\"1\" class=\"dataframe\">\n",
       "  <thead>\n",
       "    <tr style=\"text-align: right;\">\n",
       "      <th></th>\n",
       "      <th>Average amount of bills paid for mobile used</th>\n",
       "    </tr>\n",
       "  </thead>\n",
       "  <tbody>\n",
       "    <tr>\n",
       "      <th>0</th>\n",
       "      <td>1799.0</td>\n",
       "    </tr>\n",
       "    <tr>\n",
       "      <th>1</th>\n",
       "      <td>0.0</td>\n",
       "    </tr>\n",
       "    <tr>\n",
       "      <th>2</th>\n",
       "      <td>800.0</td>\n",
       "    </tr>\n",
       "    <tr>\n",
       "      <th>3</th>\n",
       "      <td>0.0</td>\n",
       "    </tr>\n",
       "    <tr>\n",
       "      <th>4</th>\n",
       "      <td>300.0</td>\n",
       "    </tr>\n",
       "  </tbody>\n",
       "</table>\n",
       "</div>"
      ],
      "text/plain": [
       "   Average amount of bills paid for mobile used\n",
       "0                                        1799.0\n",
       "1                                           0.0\n",
       "2                                         800.0\n",
       "3                                           0.0\n",
       "4                                         300.0"
      ]
     },
     "execution_count": 166,
     "metadata": {},
     "output_type": "execute_result"
    }
   ],
   "source": [
    "X[cols[1:2]].head()"
   ]
  },
  {
   "cell_type": "code",
   "execution_count": 167,
   "metadata": {},
   "outputs": [
    {
     "data": {
      "image/png": "[encoded data removed]",
      "text/plain": [
       "<matplotlib.figure.Figure at 0x1c1798c240>"
      ]
     },
     "metadata": {},
     "output_type": "display_data"
    },
    {
     "name": "stdout",
     "output_type": "stream",
     "text": [
      "Report:\n",
      "=======\n",
      "Max accuracy: 0.7333\n",
      "Optimal parameter: 18\n",
      "1.25 x PCC: 0.5995\n",
      "Total iterations: 30\n"
     ]
    }
   ],
   "source": [
    "ml_model(X[cols[1:2]], y, ml_type='knn_class', show_PCC=True,\n",
    "             test_size=0.25, param_range=range(1, 30),\n",
    "             seed_settings=range(0, 30), plot = True, report=True);"
   ]
  },
  {
   "cell_type": "markdown",
   "metadata": {},
   "source": [
    "## Results"
   ]
  },
  {
   "cell_type": "markdown",
   "metadata": {},
   "source": [
    "Based on the dataset, the single best predictor for whether or not a person is in a relationship, not in a relationship, or in a complicated relationship is how many times per month that person goes out with the special other, as we should expect. The accuracy obtained using this predictor is 85% using 5 nearest neighbors, which is much higher than the minimum target of 60%.\n",
    "\n",
    "A close second predictor (which lowers the accuracy when used with the first predictor) is `Average amount of bills paid for mobile used`, which predicts the target with 73% accuracy, using 18 nearest neighbors."
   ]
  },
  {
   "cell_type": "markdown",
   "metadata": {},
   "source": [
    "## References and Acknowledgements"
   ]
  },
  {
   "cell_type": "markdown",
   "metadata": {},
   "source": [
    "Codes drawn and modified from codes by Prof. Christopher Monterola"
   ]
  }
 ],
 "metadata": {
  "hide_input": false,
  "kernelspec": {
   "display_name": "Python 3",
   "language": "python",
   "name": "python3"
  },
  "language_info": {
   "codemirror_mode": {
    "name": "ipython",
    "version": 3
   },
   "file_extension": ".py",
   "mimetype": "text/x-python",
   "name": "python",
   "nbconvert_exporter": "python",
   "pygments_lexer": "ipython3",
   "version": "3.6.4"
  },
  "latex_envs": {
   "LaTeX_envs_menu_present": true,
   "autoclose": false,
   "autocomplete": true,
   "bibliofile": "biblio.bib",
   "cite_by": "apalike",
   "current_citInitial": 1,
   "eqLabelWithNumbers": true,
   "eqNumInitial": 1,
   "hotkeys": {
    "equation": "Ctrl-E",
    "itemize": "Ctrl-I"
   },
   "labels_anchors": false,
   "latex_user_defs": false,
   "report_style_numbering": false,
   "user_envs_cfg": false
  }
 },
 "nbformat": 4,
 "nbformat_minor": 2
}
